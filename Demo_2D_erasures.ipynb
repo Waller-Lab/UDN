{
 "cells": [
  {
   "cell_type": "code",
   "execution_count": null,
   "metadata": {},
   "outputs": [],
   "source": [
    "%load_ext autoreload\n",
    "%autoreload 2\n",
    "\n",
    "import matplotlib.pyplot as plt\n",
    "%matplotlib inline\n",
    "\n",
    "import numpy as np\n",
    "import torch\n",
    "import torch.optim\n",
    "torch.backends.cudnn.enabled = True\n",
    "dtype = torch.cuda.FloatTensor\n",
    "import torch.nn.functional as F\n",
    "\n",
    "import glob, os\n",
    "os.environ[\"CUDA_DEVICE_ORDER\"] = \"PCI_BUS_ID\"\n",
    "os.environ['CUDA_VISIBLE_DEVICES'] = '0'\n",
    "\n",
    "import utils.diffuser_utils as df \n",
    "import utils.common_utils as cu\n",
    "import models as md\n",
    "import utils.utils_2d as helper  # helper functions "
   ]
  },
  {
   "cell_type": "markdown",
   "metadata": {},
   "source": [
    "# 2D imaging Demo"
   ]
  },
  {
   "cell_type": "markdown",
   "metadata": {},
   "source": [
    "Choose whether to reconstruct from a simulated measurement or an experimental measurement, and an erasure rate "
   ]
  },
  {
   "cell_type": "code",
   "execution_count": null,
   "metadata": {},
   "outputs": [],
   "source": [
    "simulation = False # False for experimental data and True for similated data\n",
    "erasure_rate = 0.5 #from 0 to 1, with 0 equivalent to full measurement"
   ]
  },
  {
   "cell_type": "markdown",
   "metadata": {},
   "source": [
    "### Load data"
   ]
  },
  {
   "cell_type": "markdown",
   "metadata": {},
   "source": [
    "Load PSF, create random erasure and initialize forward model"
   ]
  },
  {
   "cell_type": "code",
   "execution_count": null,
   "metadata": {},
   "outputs": [],
   "source": [
    "downsample_f = 4\n",
    "psf_np = helper.load_psf('./data/2d_imaging/psf.tiff', downsample_f)\n",
    "erasure_np = helper.get_eraser(psf_np, erasure_rate)  \n",
    "forward = df.Forward_Model(np.sum(psf_np,2), erasure_np)"
   ]
  },
  {
   "cell_type": "markdown",
   "metadata": {},
   "source": [
    "Load groundtruth, lensless measurement and apply erasure on measurement"
   ]
  },
  {
   "cell_type": "code",
   "execution_count": null,
   "metadata": {},
   "outputs": [],
   "source": [
    "img_index =7   #2:crab 8:bottled caps\n",
    "file_path_diffuser = 'data/2d_imaging/diffuser/'\n",
    "file_path_lensed = 'data/2d_imaging/lensed/'\n",
    "files = glob.glob(file_path_diffuser + '/*.npy')\n",
    "\n",
    "lensed_img = helper.guass_fn(helper.load_img(file_path_lensed+files[img_index].split('/')[-1]))\n",
    "\n",
    "if simulation is True:\n",
    "    print('In simulation {}% erasure'.format(erasure_rate*100))\n",
    "    img_meas = forward.forward_zero_pad(cu.np_to_ts(lensed_img.transpose(2,0,1)).type(dtype))\n",
    "    img_meas /= torch.max(img_meas)\n",
    "    img_meas_np = cu.ts_to_np(img_meas).transpose(1,2,0)\n",
    "    img_meas_np /= np.max(img_meas_np)\n",
    "else:\n",
    "    print('In experiment {}% erasure'.format(erasure_rate*100))\n",
    "    lensless_img = helper.load_img(file_path_diffuser+files[img_index].split('/')[-1])\n",
    "    img_meas = cu.np_to_ts(lensless_img.transpose(2,0,1)).type(dtype)\n",
    "    img_meas, img_meas_np = helper.apply_eraser(erasure_np, img_meas.cuda(), lensless_img)\n",
    "    \n",
    "plt.figure(figsize=(20,10))  \n",
    "plt.subplot(1,3,1);plt.title('Groundtruth');plt.imshow(lensed_img)\n",
    "plt.subplot(1,3,2);plt.title('PSF');plt.imshow(psf_np/np.max(psf_np))\n",
    "plt.subplot(1,3,3);plt.title('Measurement');plt.imshow(img_meas_np)"
   ]
  },
  {
   "cell_type": "markdown",
   "metadata": {},
   "source": [
    "Set up parameters and network"
   ]
  },
  {
   "cell_type": "code",
   "execution_count": null,
   "metadata": {},
   "outputs": [],
   "source": [
    "## Define network hyperparameters: \n",
    "input_depth = 80\n",
    "INPUT =     'noise'\n",
    "pad   =     'reflection'\n",
    "LR = 1e-3\n",
    "tv_weight = 1e-20\n",
    "num_iter = 20000\n",
    "reg_noise_std = 0.05\n",
    "\n",
    "## initialize network input (noise)\n",
    "net_input = cu.get_noise(input_depth, INPUT, (img_meas_np.shape[0]*2, img_meas_np.shape[1]*2)).type(dtype).detach()\n",
    "net_input_saved = net_input.detach().clone()\n",
    "noise = net_input.detach().clone()\n",
    "\n",
    "## initialize netowrk\n",
    "NET_TYPE = 'skip' # UNet, ResNet\n",
    "net = md.get_net(input_depth, NET_TYPE, pad,skip_n33d=128,  skip_n33u=128,  skip_n11=4,  num_scales=5,upsample_mode='bilinear').type(dtype)\n",
    "\n",
    "# Losses\n",
    "mse = torch.nn.MSELoss().type(dtype)\n",
    "\n",
    "p = [x for x in net.parameters()]\n",
    "optimizer = torch.optim.Adam(p, lr=LR)\n",
    "\n",
    "def main():\n",
    "    for i in range(num_iter):\n",
    "        global recons\n",
    "        optimizer.zero_grad()\n",
    "\n",
    "        net_input = net_input_saved + (noise.normal_() * reg_noise_std)\n",
    "        recons = net(net_input)\n",
    "        gen_meas = forward.forward(recons)\n",
    "        gen_meas = F.normalize(gen_meas, dim=[1,2,3], p=2)\n",
    "        loss = mse(gen_meas, img_meas)\n",
    "        loss += tv_weight * df.tv_loss(recons)\n",
    "        loss.backward()\n",
    "        print ('Iteration %05d, loss %.15f ' % (i, loss.item()), '\\r', end='') \n",
    "\n",
    "        if i % 500 == 0:\n",
    "            helper.plot(lensed_img, recons)\n",
    "        optimizer.step()\n",
    "    return recons"
   ]
  },
  {
   "cell_type": "markdown",
   "metadata": {},
   "source": [
    "## Run the reconstruction"
   ]
  },
  {
   "cell_type": "code",
   "execution_count": null,
   "metadata": {
    "scrolled": true
   },
   "outputs": [],
   "source": [
    "recons = main()"
   ]
  },
  {
   "cell_type": "code",
   "execution_count": null,
   "metadata": {},
   "outputs": [],
   "source": [
    "helper.plot(lensed_img, recons)"
   ]
  }
 ],
 "metadata": {
  "kernelspec": {
   "display_name": "Python [conda env:UDN]",
   "language": "python",
   "name": "conda-env-UDN-py"
  },
  "language_info": {
   "codemirror_mode": {
    "name": "ipython",
    "version": 3
   },
   "file_extension": ".py",
   "mimetype": "text/x-python",
   "name": "python",
   "nbconvert_exporter": "python",
   "pygments_lexer": "ipython3",
   "version": "3.6.10"
  }
 },
 "nbformat": 4,
 "nbformat_minor": 4
}
