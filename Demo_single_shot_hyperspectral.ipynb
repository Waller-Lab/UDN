{
 "cells": [
  {
   "cell_type": "code",
   "execution_count": null,
   "metadata": {},
   "outputs": [],
   "source": [
    "%load_ext autoreload\n",
    "%autoreload 2\n",
    "\n",
    "import matplotlib.pyplot as plt\n",
    "%matplotlib inline\n",
    "from ipywidgets import interact, interactive, fixed, interact_manual\n",
    "import ipywidgets as widgets\n",
    "import numpy as np\n",
    "import torch, torch.optim\n",
    "import torch.nn.functional as F\n",
    "torch.backends.cudnn.enabled = True\n",
    "torch.backends.cudnn.benchmark =True\n",
    "dtype = torch.cuda.FloatTensor\n",
    "import os, sys\n",
    "sys.path.append('utils/*')\n",
    "\n",
    "os.environ[\"CUDA_DEVICE_ORDER\"] = \"PCI_BUS_ID\"\n",
    "os.environ['CUDA_VISIBLE_DEVICES'] = '1'\n",
    "\n",
    "import models as md\n",
    "import utils.common_utils as cu\n",
    "import utils.diffuser_utils as df \n",
    "import utils.utils_hyperspectral as helper\n"
   ]
  },
  {
   "cell_type": "markdown",
   "metadata": {},
   "source": [
    "# Single-shot Imaging Demo"
   ]
  },
  {
   "cell_type": "markdown",
   "metadata": {},
   "source": [
    "Load in the PSF, 2D measurement and rolling shutter mask. "
   ]
  },
  {
   "cell_type": "code",
   "execution_count": null,
   "metadata": {},
   "outputs": [],
   "source": [
    "simulated = True  # True: Use a simulated measurement or False: use an experimental measurement "
   ]
  },
  {
   "cell_type": "code",
   "execution_count": null,
   "metadata": {},
   "outputs": [],
   "source": [
    "downsampling_factor = 2\n",
    "meas_np, mask_np, psf_np, gt_np = helper.load_data(simulated = simulated)\n",
    "\n",
    "plt.figure(figsize=(20,10))    \n",
    "plt.subplot(1,3,1);plt.title('PSF');plt.imshow(psf_np)\n",
    "plt.subplot(1,3,2);plt.title('Measurement');plt.imshow(meas_np)\n",
    "plt.subplot(1,3,3);plt.title('Rolling shutter mask');plt.imshow(mask_np[:,:,20]) "
   ]
  },
  {
   "cell_type": "markdown",
   "metadata": {},
   "source": [
    "Initialize the lensless forward model"
   ]
  },
  {
   "cell_type": "code",
   "execution_count": null,
   "metadata": {},
   "outputs": [],
   "source": [
    "DIMS0 = meas_np.shape[0]  # Image Dimensions\n",
    "DIMS1 = meas_np.shape[1]  # Image Dimensions\n",
    "\n",
    "py = int((DIMS0)//2)                           # Pad size\n",
    "px = int((DIMS1)//2)                           # Pad size\n",
    "\n",
    "def pad(x):\n",
    "    if len(x.shape) == 2: \n",
    "        out = np.pad(x, ([py, py], [px,px]), mode = 'constant')\n",
    "    elif len(x.shape) == 3:\n",
    "        out = np.pad(x, ([py, py], [px,px], [0, 0]), mode = 'constant')\n",
    "    elif len(x.shape) == 4:\n",
    "        out = np.pad(x, ([py, py], [px,px], [0, 0], [0, 0]), mode = 'constant')\n",
    "    return out\n",
    "\n",
    "\n",
    "#meas_np = pad(meas_np)\n",
    "psf_pad = pad(psf_np)\n",
    "\n",
    "h_full = np.fft.fft2(np.fft.ifftshift(psf_pad))"
   ]
  },
  {
   "cell_type": "code",
   "execution_count": null,
   "metadata": {},
   "outputs": [],
   "source": [
    "forward = df.Forward_Model_combined(h_full, \n",
    "                                    shutter = mask_np, \n",
    "                                    imaging_type = 'spectral')"
   ]
  },
  {
   "cell_type": "code",
   "execution_count": null,
   "metadata": {},
   "outputs": [],
   "source": [
    "if simulated == True:\n",
    "    meas_torch = forward(cu.np_to_torch(gt_np.transpose(2,0,1)).type(dtype).unsqueeze(0))\n",
    "    meas_np = cu.torch_to_np(meas_torch)[0]\n",
    "    plt.imshow(meas_np)"
   ]
  },
  {
   "cell_type": "markdown",
   "metadata": {},
   "source": [
    "Set up parameters and network"
   ]
  },
  {
   "cell_type": "code",
   "execution_count": null,
   "metadata": {},
   "outputs": [],
   "source": [
    "# Define network hyperparameters: \n",
    "input_depth = 32\n",
    "INPUT =     'noise'\n",
    "pad   =     'reflection'\n",
    "LR = 1e-3\n",
    "tv_weight = 0\n",
    "reg_noise_std = 0.05\n",
    "\n",
    "\n",
    "if simulated == True:\n",
    "    num_iter = 100000\n",
    "    net_input = cu.get_noise(input_depth, INPUT, (meas_np.shape[0], meas_np.shape[1])).type(dtype).detach()\n",
    "else:\n",
    "    num_iter = 4600\n",
    "    input_depth = 1\n",
    "    net_input = cu.get_noise(input_depth, INPUT, (mask_np.shape[-1], meas_np.shape[0], meas_np.shape[1])).type(dtype).detach()\n",
    "\n",
    "    \n",
    "# Initialize network input \n",
    "\n",
    "net_input_saved = net_input.detach().clone()\n",
    "noise = net_input.detach().clone()\n",
    "\n",
    "# reinitialize netowrk and optimizer\n",
    "if simulated == True:\n",
    "    NET_TYPE = 'skip' \n",
    "    net = md.get_net(input_depth, NET_TYPE, pad, n_channels=32, skip_n33d=128,  skip_n33u=128,  skip_n11=4,  num_scales=5,upsample_mode='bilinear').type(dtype)\n",
    "else:\n",
    "    print('experimental')\n",
    "    NET_TYPE = 'skip3D' \n",
    "    input_depth = 1\n",
    "    net = md.get_net(input_depth, NET_TYPE, pad, n_channels=1, skip_n33d=128,  skip_n33u=128,  skip_n11=4,  num_scales=4,upsample_mode='trilinear').type(dtype)\n",
    "\n",
    "#NET_TYPE = 'skip' \n",
    "#net = md.get_net(input_depth, NET_TYPE, pad, n_channels=32, skip_n33d=128,  skip_n33u=128,  skip_n11=4,  num_scales=5,upsample_mode='bilinear').type(dtype)\n",
    "p = [x for x in net.parameters()]\n",
    "optimizer = torch.optim.Adam(p, lr=LR)\n",
    "\n",
    "# Losses\n",
    "mse = torch.nn.MSELoss().type(dtype)\n",
    "\n",
    "def main():\n",
    "    global recons \n",
    "    full_recons = []\n",
    "    meas_ts = cu.np_to_ts(meas_np)\n",
    "    meas_ts = meas_ts.detach().clone().type(dtype).cuda()\n",
    "\n",
    "    for i in range(num_iter):\n",
    "        optimizer.zero_grad()\n",
    "        net_input = net_input_saved + (noise.normal_() * reg_noise_std)\n",
    "        recons = net(net_input)\n",
    "        gen_meas = forward.forward(recons)\n",
    "        gen_meas = F.normalize(gen_meas, dim=[1,2], p=2)\n",
    "        loss = mse(gen_meas, meas_ts)\n",
    "        loss += tv_weight * df.tv_loss(recons)\n",
    "        loss.backward()\n",
    "        print('Iteration %05d, loss %.8f '%(i, loss.item()), '\\r',  end='')\n",
    "        if i % 100 == 0:\n",
    "            helper.plot(recons)\n",
    "            print('Iteration {}, loss {:.8f}'.format(i, loss.item()))\n",
    "        optimizer.step()\n",
    "    full_recons = helper.preplot(recons)\n",
    "    return full_recons"
   ]
  },
  {
   "cell_type": "markdown",
   "metadata": {},
   "source": [
    "### Run the reconstruction"
   ]
  },
  {
   "cell_type": "code",
   "execution_count": null,
   "metadata": {
    "scrolled": true
   },
   "outputs": [],
   "source": [
    "full_recons = main()"
   ]
  },
  {
   "cell_type": "code",
   "execution_count": null,
   "metadata": {},
   "outputs": [],
   "source": [
    "full_recons = helper.preplot2(recons)"
   ]
  },
  {
   "cell_type": "markdown",
   "metadata": {},
   "source": [
    "Reconstructed video"
   ]
  },
  {
   "cell_type": "code",
   "execution_count": null,
   "metadata": {},
   "outputs": [],
   "source": [
    "def plot_slider(x):\n",
    "    plt.title('Reconstruction: frame %d'%(x))\n",
    "    plt.axis('off')\n",
    "    plt.imshow(full_recons[...,x])\n",
    "    return x\n",
    "\n",
    "interactive(plot_slider,x=(0,full_recons.shape[-1]-1,1))"
   ]
  },
  {
   "cell_type": "code",
   "execution_count": null,
   "metadata": {},
   "outputs": [],
   "source": []
  }
 ],
 "metadata": {
  "kernelspec": {
   "display_name": "Python [conda env:UDN]",
   "language": "python",
   "name": "conda-env-UDN-py"
  },
  "language_info": {
   "codemirror_mode": {
    "name": "ipython",
    "version": 3
   },
   "file_extension": ".py",
   "mimetype": "text/x-python",
   "name": "python",
   "nbconvert_exporter": "python",
   "pygments_lexer": "ipython3",
   "version": "3.6.10"
  },
  "widgets": {
   "application/vnd.jupyter.widget-state+json": {
    "state": {
     "06088c98f9bf4c4f9a7e55218c9bf00f": {
      "model_module": "@jupyter-widgets/output",
      "model_module_version": "1.0.0",
      "model_name": "OutputModel",
      "state": {
       "layout": "IPY_MODEL_d3380f61536b4708bf92296959e57fd0"
      }
     },
     "067090ec5ccf43d7a44d8ff569517195": {
      "model_module": "@jupyter-widgets/controls",
      "model_module_version": "1.4.0",
      "model_name": "IntSliderModel",
      "state": {
       "description": "x",
       "layout": "IPY_MODEL_2ef6c7083524409190f0c5ff5ed9f80c",
       "max": 71,
       "style": "IPY_MODEL_9f22a1cdca2146459eea15565555755a",
       "value": 71
      }
     },
     "072d0da6a2ef4ad9a51b61def1ed4cfe": {
      "model_module": "@jupyter-widgets/output",
      "model_module_version": "1.0.0",
      "model_name": "OutputModel",
      "state": {
       "layout": "IPY_MODEL_e166fb3e85f143c0b6c6e3c4a85ed382"
      }
     },
     "074d301421694e2f9d8c411d586f469f": {
      "model_module": "@jupyter-widgets/base",
      "model_module_version": "1.1.0",
      "model_name": "LayoutModel",
      "state": {}
     },
     "076b5fc6ed234765b0af7e90fe87b9e4": {
      "model_module": "@jupyter-widgets/controls",
      "model_module_version": "1.4.0",
      "model_name": "SliderStyleModel",
      "state": {
       "description_width": ""
      }
     },
     "0985d40fa69443b5a593e3b478e890d7": {
      "model_module": "@jupyter-widgets/base",
      "model_module_version": "1.1.0",
      "model_name": "LayoutModel",
      "state": {}
     },
     "0a57538fa8c1442687e9ff72560e6e6a": {
      "model_module": "@jupyter-widgets/base",
      "model_module_version": "1.1.0",
      "model_name": "LayoutModel",
      "state": {}
     },
     "103bb080613645eaad5b200aacd5a45b": {
      "model_module": "@jupyter-widgets/controls",
      "model_module_version": "1.4.0",
      "model_name": "VBoxModel",
      "state": {
       "_dom_classes": [
        "widget-interact"
       ],
       "children": [
        "IPY_MODEL_37cc1c0df2474028a5b579603556dfe0",
        "IPY_MODEL_7c9e928fe9b04b37828997a129652c47"
       ],
       "layout": "IPY_MODEL_4dfdbd24d6ff4c14bda2615b3310b5ef"
      }
     },
     "10646630dba14810affaf89fac21b020": {
      "model_module": "@jupyter-widgets/base",
      "model_module_version": "1.1.0",
      "model_name": "LayoutModel",
      "state": {}
     },
     "11a5a714e0ad4b799e0f87ec387c9de1": {
      "model_module": "@jupyter-widgets/controls",
      "model_module_version": "1.4.0",
      "model_name": "SliderStyleModel",
      "state": {
       "description_width": ""
      }
     },
     "11e348ddec1b459784e28aae240a422b": {
      "model_module": "@jupyter-widgets/base",
      "model_module_version": "1.1.0",
      "model_name": "LayoutModel",
      "state": {}
     },
     "13b3bf6154514eeba87c89eaa402d287": {
      "model_module": "@jupyter-widgets/output",
      "model_module_version": "1.0.0",
      "model_name": "OutputModel",
      "state": {
       "layout": "IPY_MODEL_8080725394594ac9a405eb2a2af3bd47"
      }
     },
     "1410478706d1496eae0f494439134153": {
      "model_module": "@jupyter-widgets/output",
      "model_module_version": "1.0.0",
      "model_name": "OutputModel",
      "state": {
       "layout": "IPY_MODEL_36c69f29924e4d829528cb694a6a2238",
       "outputs": [
        {
         "ename": "AttributeError",
         "evalue": "module 'matplotlib.pyplot' has no attribute 'tilte'",
         "output_type": "error",
         "traceback": [
          "\u001b[0;31m---------------------------------------------------------------------------\u001b[0m",
          "\u001b[0;31mAttributeError\u001b[0m                            Traceback (most recent call last)",
          "\u001b[0;32m~/anaconda3/lib/python3.7/site-packages/ipywidgets/widgets/interaction.py\u001b[0m in \u001b[0;36mupdate\u001b[0;34m(self, *args)\u001b[0m\n\u001b[1;32m    249\u001b[0m                     \u001b[0mvalue\u001b[0m \u001b[0;34m=\u001b[0m \u001b[0mwidget\u001b[0m\u001b[0;34m.\u001b[0m\u001b[0mget_interact_value\u001b[0m\u001b[0;34m(\u001b[0m\u001b[0;34m)\u001b[0m\u001b[0;34m\u001b[0m\u001b[0;34m\u001b[0m\u001b[0m\n\u001b[1;32m    250\u001b[0m                     \u001b[0mself\u001b[0m\u001b[0;34m.\u001b[0m\u001b[0mkwargs\u001b[0m\u001b[0;34m[\u001b[0m\u001b[0mwidget\u001b[0m\u001b[0;34m.\u001b[0m\u001b[0m_kwarg\u001b[0m\u001b[0;34m]\u001b[0m \u001b[0;34m=\u001b[0m \u001b[0mvalue\u001b[0m\u001b[0;34m\u001b[0m\u001b[0;34m\u001b[0m\u001b[0m\n\u001b[0;32m--> 251\u001b[0;31m                 \u001b[0mself\u001b[0m\u001b[0;34m.\u001b[0m\u001b[0mresult\u001b[0m \u001b[0;34m=\u001b[0m \u001b[0mself\u001b[0m\u001b[0;34m.\u001b[0m\u001b[0mf\u001b[0m\u001b[0;34m(\u001b[0m\u001b[0;34m**\u001b[0m\u001b[0mself\u001b[0m\u001b[0;34m.\u001b[0m\u001b[0mkwargs\u001b[0m\u001b[0;34m)\u001b[0m\u001b[0;34m\u001b[0m\u001b[0;34m\u001b[0m\u001b[0m\n\u001b[0m\u001b[1;32m    252\u001b[0m                 \u001b[0mshow_inline_matplotlib_plots\u001b[0m\u001b[0;34m(\u001b[0m\u001b[0;34m)\u001b[0m\u001b[0;34m\u001b[0m\u001b[0;34m\u001b[0m\u001b[0m\n\u001b[1;32m    253\u001b[0m                 \u001b[0;32mif\u001b[0m \u001b[0mself\u001b[0m\u001b[0;34m.\u001b[0m\u001b[0mauto_display\u001b[0m \u001b[0;32mand\u001b[0m \u001b[0mself\u001b[0m\u001b[0;34m.\u001b[0m\u001b[0mresult\u001b[0m \u001b[0;32mis\u001b[0m \u001b[0;32mnot\u001b[0m \u001b[0;32mNone\u001b[0m\u001b[0;34m:\u001b[0m\u001b[0;34m\u001b[0m\u001b[0;34m\u001b[0m\u001b[0m\n",
          "\u001b[0;32m<ipython-input-19-0f0c12632e41>\u001b[0m in \u001b[0;36mplot_function\u001b[0;34m(x)\u001b[0m\n\u001b[1;32m      1\u001b[0m \u001b[0;32mdef\u001b[0m \u001b[0mplot_function\u001b[0m\u001b[0;34m(\u001b[0m\u001b[0mx\u001b[0m\u001b[0;34m)\u001b[0m\u001b[0;34m:\u001b[0m\u001b[0;34m\u001b[0m\u001b[0;34m\u001b[0m\u001b[0m\n\u001b[0;32m----> 2\u001b[0;31m     \u001b[0mplt\u001b[0m\u001b[0;34m.\u001b[0m\u001b[0mtilte\u001b[0m\u001b[0;34m(\u001b[0m\u001b[0;34m'Reconstruction: frame %d'\u001b[0m\u001b[0;34m%\u001b[0m\u001b[0;34m(\u001b[0m\u001b[0mx\u001b[0m\u001b[0;34m)\u001b[0m\u001b[0;34m)\u001b[0m\u001b[0;34m\u001b[0m\u001b[0;34m\u001b[0m\u001b[0m\n\u001b[0m\u001b[1;32m      3\u001b[0m     \u001b[0mplt\u001b[0m\u001b[0;34m.\u001b[0m\u001b[0mimshow\u001b[0m\u001b[0;34m(\u001b[0m\u001b[0mvideo\u001b[0m\u001b[0;34m[\u001b[0m\u001b[0;34m:\u001b[0m\u001b[0;34m,\u001b[0m\u001b[0;34m:\u001b[0m\u001b[0;34m,\u001b[0m\u001b[0;34m:\u001b[0m\u001b[0;34m,\u001b[0m\u001b[0mx\u001b[0m\u001b[0;34m]\u001b[0m\u001b[0;34m)\u001b[0m\u001b[0;34m\u001b[0m\u001b[0;34m\u001b[0m\u001b[0m\n\u001b[1;32m      4\u001b[0m     \u001b[0;32mreturn\u001b[0m \u001b[0mx\u001b[0m\u001b[0;34m\u001b[0m\u001b[0;34m\u001b[0m\u001b[0m\n\u001b[1;32m      5\u001b[0m \u001b[0minteractive\u001b[0m\u001b[0;34m(\u001b[0m\u001b[0mplot_function\u001b[0m\u001b[0;34m,\u001b[0m\u001b[0mx\u001b[0m\u001b[0;34m=\u001b[0m\u001b[0;34m(\u001b[0m\u001b[0;36m0\u001b[0m\u001b[0;34m,\u001b[0m\u001b[0;36m71\u001b[0m\u001b[0;34m,\u001b[0m\u001b[0;36m1\u001b[0m\u001b[0;34m)\u001b[0m\u001b[0;34m)\u001b[0m\u001b[0;34m\u001b[0m\u001b[0;34m\u001b[0m\u001b[0m\n",
          "\u001b[0;31mAttributeError\u001b[0m: module 'matplotlib.pyplot' has no attribute 'tilte'"
         ]
        }
       ]
      }
     },
     "1440c7cb07c54775b2f7f1a97aa160ac": {
      "model_module": "@jupyter-widgets/controls",
      "model_module_version": "1.4.0",
      "model_name": "VBoxModel",
      "state": {
       "_dom_classes": [
        "widget-interact"
       ],
       "children": [
        "IPY_MODEL_b4d0850da3e644cd94b39e0bcd8dfc71",
        "IPY_MODEL_9fbab285d6fc411283fd8853dd7734e9"
       ],
       "layout": "IPY_MODEL_f49b03ead2fb421b84e2241a83d9ed5e"
      }
     },
     "1b1bee97ec004cc0b5faa7f4ae66a283": {
      "model_module": "@jupyter-widgets/base",
      "model_module_version": "1.1.0",
      "model_name": "LayoutModel",
      "state": {}
     },
     "1b9fed639822411d81c50fc00cb30311": {
      "model_module": "@jupyter-widgets/output",
      "model_module_version": "1.0.0",
      "model_name": "OutputModel",
      "state": {
       "layout": "IPY_MODEL_83cb109830e040518f7b139a290a0e58",
       "outputs": [
        {
         "data": {
          "image/png": "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\n",
          "text/plain": "<Figure size 432x288 with 1 Axes>"
         },
         "metadata": {
          "needs_background": "light"
         },
         "output_type": "display_data"
        }
       ]
      }
     },
     "1eca04d0a356435a8b4eed9ddc05a625": {
      "model_module": "@jupyter-widgets/output",
      "model_module_version": "1.0.0",
      "model_name": "OutputModel",
      "state": {
       "layout": "IPY_MODEL_3a76ae72fbe24265b57f5ca51b678e6d",
       "outputs": [
        {
         "data": {
          "image/png": "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\n",
          "text/plain": "<Figure size 432x288 with 1 Axes>"
         },
         "metadata": {
          "needs_background": "light"
         },
         "output_type": "display_data"
        }
       ]
      }
     },
     "1f28b847667f4070839659bea3bb583e": {
      "model_module": "@jupyter-widgets/controls",
      "model_module_version": "1.4.0",
      "model_name": "SliderStyleModel",
      "state": {
       "description_width": ""
      }
     },
     "1f9eaff478664fb6a645b028c92f1395": {
      "model_module": "@jupyter-widgets/base",
      "model_module_version": "1.1.0",
      "model_name": "LayoutModel",
      "state": {}
     },
     "20444abb762f42bfb1a534fe785358df": {
      "model_module": "@jupyter-widgets/controls",
      "model_module_version": "1.4.0",
      "model_name": "VBoxModel",
      "state": {
       "_dom_classes": [
        "widget-interact"
       ],
       "children": [
        "IPY_MODEL_c26d89c9ed7b4b23a666d4ea19cc2c73",
        "IPY_MODEL_8a09217524aa4382b5814e660042d91f"
       ],
       "layout": "IPY_MODEL_ecaf7e2a48744d9f941eb72bef9e6310"
      }
     },
     "21157383d9df40a9bae3e898d3d13f99": {
      "model_module": "@jupyter-widgets/base",
      "model_module_version": "1.1.0",
      "model_name": "LayoutModel",
      "state": {}
     },
     "225f1168363f44358e59d671fb596ff0": {
      "model_module": "@jupyter-widgets/controls",
      "model_module_version": "1.4.0",
      "model_name": "IntSliderModel",
      "state": {
       "description": "frame",
       "layout": "IPY_MODEL_4d1da40f747c4794aea145a9b380a189",
       "max": 60,
       "min": -20,
       "style": "IPY_MODEL_735fd0c7d9634b268b7267a337f992de",
       "value": 20
      }
     },
     "27699777f12f4893837c87eb3d33fac4": {
      "model_module": "@jupyter-widgets/base",
      "model_module_version": "1.1.0",
      "model_name": "LayoutModel",
      "state": {}
     },
     "2806ead9c73d48d299baade5da005c8f": {
      "model_module": "@jupyter-widgets/controls",
      "model_module_version": "1.4.0",
      "model_name": "IntSliderModel",
      "state": {
       "description": "frame",
       "layout": "IPY_MODEL_9b384a9874034f3490aa3cdf8f1a1242",
       "max": 71,
       "style": "IPY_MODEL_92f73bef4f704522be2a18250b13fdde",
       "value": 1
      }
     },
     "283f5e44455748bc8fd030bba1f2e345": {
      "model_module": "@jupyter-widgets/controls",
      "model_module_version": "1.4.0",
      "model_name": "SliderStyleModel",
      "state": {
       "description_width": ""
      }
     },
     "2a074223e01d49c48d0eae41a7785936": {
      "model_module": "@jupyter-widgets/base",
      "model_module_version": "1.1.0",
      "model_name": "LayoutModel",
      "state": {}
     },
     "2c6ca9b21f904db098842f8a37302f1d": {
      "model_module": "@jupyter-widgets/base",
      "model_module_version": "1.1.0",
      "model_name": "LayoutModel",
      "state": {}
     },
     "2d2d2c5f02e746ebb24d54ad2156c234": {
      "model_module": "@jupyter-widgets/controls",
      "model_module_version": "1.4.0",
      "model_name": "SliderStyleModel",
      "state": {
       "description_width": ""
      }
     },
     "2dcdc3d22e1b4a85b46c0d75dc462b9f": {
      "model_module": "@jupyter-widgets/controls",
      "model_module_version": "1.4.0",
      "model_name": "SliderStyleModel",
      "state": {
       "description_width": ""
      }
     },
     "2ef6c7083524409190f0c5ff5ed9f80c": {
      "model_module": "@jupyter-widgets/base",
      "model_module_version": "1.1.0",
      "model_name": "LayoutModel",
      "state": {}
     },
     "2f847829826044309b33f1fa02385716": {
      "model_module": "@jupyter-widgets/controls",
      "model_module_version": "1.4.0",
      "model_name": "IntSliderModel",
      "state": {
       "description": "frame",
       "layout": "IPY_MODEL_6732324461454d87acc8d710dbd43d5e",
       "max": 60,
       "min": -20,
       "style": "IPY_MODEL_d1932a9eff874b70be8a43de50b6e4ae",
       "value": 20
      }
     },
     "311ae1aad2c642dea3445e78339ce0e8": {
      "model_module": "@jupyter-widgets/controls",
      "model_module_version": "1.4.0",
      "model_name": "VBoxModel",
      "state": {
       "_dom_classes": [
        "widget-interact"
       ],
       "children": [
        "IPY_MODEL_bb31f2d45dd445209a0a94119cfb3338",
        "IPY_MODEL_7e1d0f92e6624a139a7ab8a822bb26b2"
       ],
       "layout": "IPY_MODEL_840695d0bd2b4fd2b303a823aa032efb"
      }
     },
     "320e3183ef7d443aa09f18e63d00bac8": {
      "model_module": "@jupyter-widgets/base",
      "model_module_version": "1.1.0",
      "model_name": "LayoutModel",
      "state": {}
     },
     "32fb418a8e1a4778aa66b3895b512e09": {
      "model_module": "@jupyter-widgets/base",
      "model_module_version": "1.1.0",
      "model_name": "LayoutModel",
      "state": {}
     },
     "332eaae49a494986addec38ffbccb367": {
      "model_module": "@jupyter-widgets/controls",
      "model_module_version": "1.4.0",
      "model_name": "IntSliderModel",
      "state": {
       "description": "frame",
       "layout": "IPY_MODEL_610022a0acaa4d1f9fd7e19cb050660c",
       "max": 60,
       "min": -20,
       "style": "IPY_MODEL_a030213c9d724dffbed5bc055bb2c03d",
       "value": 20
      }
     },
     "351387c61a36400cbb8942040f0febad": {
      "model_module": "@jupyter-widgets/output",
      "model_module_version": "1.0.0",
      "model_name": "OutputModel",
      "state": {
       "layout": "IPY_MODEL_0a57538fa8c1442687e9ff72560e6e6a"
      }
     },
     "36afaaa0e1ae4d80b9e9f2c17dafdf12": {
      "model_module": "@jupyter-widgets/controls",
      "model_module_version": "1.4.0",
      "model_name": "IntSliderModel",
      "state": {
       "description": "x",
       "layout": "IPY_MODEL_5d8a6ccf8d8746d9b89ba18efd1d1d62",
       "max": 71,
       "style": "IPY_MODEL_076b5fc6ed234765b0af7e90fe87b9e4",
       "value": 65
      }
     },
     "36c69f29924e4d829528cb694a6a2238": {
      "model_module": "@jupyter-widgets/base",
      "model_module_version": "1.1.0",
      "model_name": "LayoutModel",
      "state": {}
     },
     "37cc1c0df2474028a5b579603556dfe0": {
      "model_module": "@jupyter-widgets/controls",
      "model_module_version": "1.4.0",
      "model_name": "IntSliderModel",
      "state": {
       "description": "x",
       "layout": "IPY_MODEL_1b1bee97ec004cc0b5faa7f4ae66a283",
       "max": 71,
       "style": "IPY_MODEL_95747929b72d410ea9a16f1523c719e1",
       "value": 71
      }
     },
     "3a2e7e1d09c5457aac599ed040008622": {
      "model_module": "@jupyter-widgets/controls",
      "model_module_version": "1.4.0",
      "model_name": "IntSliderModel",
      "state": {
       "description": "frame",
       "layout": "IPY_MODEL_63ed5a871b814139ab2db75feec6dc3d",
       "max": 60,
       "min": -20,
       "style": "IPY_MODEL_506309acb6c749c7b0dd6f24dedcae6b",
       "value": 60
      }
     },
     "3a76ae72fbe24265b57f5ca51b678e6d": {
      "model_module": "@jupyter-widgets/base",
      "model_module_version": "1.1.0",
      "model_name": "LayoutModel",
      "state": {}
     },
     "3ec336cee430404d9ee0cbfbe5963e2b": {
      "model_module": "@jupyter-widgets/controls",
      "model_module_version": "1.4.0",
      "model_name": "VBoxModel",
      "state": {
       "_dom_classes": [
        "widget-interact"
       ],
       "children": [
        "IPY_MODEL_988cab8574284d96be114a9947ee0d8e",
        "IPY_MODEL_072d0da6a2ef4ad9a51b61def1ed4cfe"
       ],
       "layout": "IPY_MODEL_864d63c44ce848bd9493f5c44fa4a9bb"
      }
     },
     "3fb1ca6b1a1241ab8dbf7349e1531734": {
      "model_module": "@jupyter-widgets/base",
      "model_module_version": "1.1.0",
      "model_name": "LayoutModel",
      "state": {}
     },
     "45bf1818868b4b158324a271bb40dd85": {
      "model_module": "@jupyter-widgets/output",
      "model_module_version": "1.0.0",
      "model_name": "OutputModel",
      "state": {
       "layout": "IPY_MODEL_a9018f0c685046b6835d9e04d90c887f"
      }
     },
     "4ccb092a09ea4639978f62b4aa7b1ea8": {
      "model_module": "@jupyter-widgets/controls",
      "model_module_version": "1.4.0",
      "model_name": "IntSliderModel",
      "state": {
       "description": "frame",
       "layout": "IPY_MODEL_d7f4f64b4efd4829b331c33956ad47f5",
       "max": 60,
       "min": -20,
       "style": "IPY_MODEL_6ae2edeca40448a48fd1182b9ec7e148",
       "value": 20
      }
     },
     "4d1da40f747c4794aea145a9b380a189": {
      "model_module": "@jupyter-widgets/base",
      "model_module_version": "1.1.0",
      "model_name": "LayoutModel",
      "state": {}
     },
     "4dfdbd24d6ff4c14bda2615b3310b5ef": {
      "model_module": "@jupyter-widgets/base",
      "model_module_version": "1.1.0",
      "model_name": "LayoutModel",
      "state": {}
     },
     "4f296a1d29da48eb8448f330136cf39e": {
      "model_module": "@jupyter-widgets/output",
      "model_module_version": "1.0.0",
      "model_name": "OutputModel",
      "state": {
       "layout": "IPY_MODEL_60dda9fc650f4cfda3a7296f26214c82"
      }
     },
     "4f39348b9a6d48ecab7a34d8985ad508": {
      "model_module": "@jupyter-widgets/base",
      "model_module_version": "1.1.0",
      "model_name": "LayoutModel",
      "state": {}
     },
     "4f9be9f5de6d47ee87c7b01ce3a973ec": {
      "model_module": "@jupyter-widgets/base",
      "model_module_version": "1.1.0",
      "model_name": "LayoutModel",
      "state": {}
     },
     "4ff9681592624b4c9368a39042da1a5f": {
      "model_module": "@jupyter-widgets/base",
      "model_module_version": "1.1.0",
      "model_name": "LayoutModel",
      "state": {}
     },
     "5054ee9430be4cc9ade02f054c9fad6a": {
      "model_module": "@jupyter-widgets/base",
      "model_module_version": "1.1.0",
      "model_name": "LayoutModel",
      "state": {}
     },
     "506309acb6c749c7b0dd6f24dedcae6b": {
      "model_module": "@jupyter-widgets/controls",
      "model_module_version": "1.4.0",
      "model_name": "SliderStyleModel",
      "state": {
       "description_width": ""
      }
     },
     "5512527eb6a643ed9ad49c0ec02342cc": {
      "model_module": "@jupyter-widgets/controls",
      "model_module_version": "1.4.0",
      "model_name": "VBoxModel",
      "state": {
       "_dom_classes": [
        "widget-interact"
       ],
       "children": [
        "IPY_MODEL_a79dda1e42dc404c8188465cc9a4f1e7",
        "IPY_MODEL_80f8062d1d5044b8b76c096c86e99f53"
       ],
       "layout": "IPY_MODEL_fa58697ded2340b4b3a2ec3a349a1966"
      }
     },
     "5883e9d3e8ca43febcda99bd3a143a0a": {
      "model_module": "@jupyter-widgets/base",
      "model_module_version": "1.1.0",
      "model_name": "LayoutModel",
      "state": {}
     },
     "5950733c3fec45b4a74e4ae3edda3d40": {
      "model_module": "@jupyter-widgets/output",
      "model_module_version": "1.0.0",
      "model_name": "OutputModel",
      "state": {
       "layout": "IPY_MODEL_7605bed838314e58a4d9577545f5dade",
       "outputs": [
        {
         "data": {
          "image/png": "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\n",
          "text/plain": "<Figure size 432x288 with 1 Axes>"
         },
         "metadata": {
          "needs_background": "light"
         },
         "output_type": "display_data"
        }
       ]
      }
     },
     "5a14c142d1a14931a3807d2ab92d7dba": {
      "model_module": "@jupyter-widgets/base",
      "model_module_version": "1.1.0",
      "model_name": "LayoutModel",
      "state": {}
     },
     "5a5042bc937b49ab954da90ac86f76a1": {
      "model_module": "@jupyter-widgets/base",
      "model_module_version": "1.1.0",
      "model_name": "LayoutModel",
      "state": {}
     },
     "5ced88752daa43ff9cd8863a7fb432c0": {
      "model_module": "@jupyter-widgets/output",
      "model_module_version": "1.0.0",
      "model_name": "OutputModel",
      "state": {
       "layout": "IPY_MODEL_65f26dddd3f04587828c820f870f1638",
       "outputs": [
        {
         "data": {
          "image/png": "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\n",
          "text/plain": "<Figure size 432x288 with 1 Axes>"
         },
         "metadata": {
          "needs_background": "light"
         },
         "output_type": "display_data"
        }
       ]
      }
     },
     "5d63f9a18dc741589e55e07bd63b7e77": {
      "model_module": "@jupyter-widgets/controls",
      "model_module_version": "1.4.0",
      "model_name": "SliderStyleModel",
      "state": {
       "description_width": ""
      }
     },
     "5d8a6ccf8d8746d9b89ba18efd1d1d62": {
      "model_module": "@jupyter-widgets/base",
      "model_module_version": "1.1.0",
      "model_name": "LayoutModel",
      "state": {}
     },
     "5e626f27d70f4132bf8e96f879bb4d66": {
      "model_module": "@jupyter-widgets/base",
      "model_module_version": "1.1.0",
      "model_name": "LayoutModel",
      "state": {}
     },
     "5e8503f1a18a4079a5ff33386d78d859": {
      "model_module": "@jupyter-widgets/base",
      "model_module_version": "1.1.0",
      "model_name": "LayoutModel",
      "state": {}
     },
     "60dda9fc650f4cfda3a7296f26214c82": {
      "model_module": "@jupyter-widgets/base",
      "model_module_version": "1.1.0",
      "model_name": "LayoutModel",
      "state": {}
     },
     "610022a0acaa4d1f9fd7e19cb050660c": {
      "model_module": "@jupyter-widgets/base",
      "model_module_version": "1.1.0",
      "model_name": "LayoutModel",
      "state": {}
     },
     "62081de103864d5fb82b4d45d42e4513": {
      "model_module": "@jupyter-widgets/controls",
      "model_module_version": "1.4.0",
      "model_name": "VBoxModel",
      "state": {
       "_dom_classes": [
        "widget-interact"
       ],
       "children": [
        "IPY_MODEL_91760758d78e48f3a19275744cc29f96",
        "IPY_MODEL_f2d26041f00e48dfad5e1e8334aeb24c"
       ],
       "layout": "IPY_MODEL_074d301421694e2f9d8c411d586f469f"
      }
     },
     "629929b059bf4dd0b1180a2d4e2ed01f": {
      "model_module": "@jupyter-widgets/controls",
      "model_module_version": "1.4.0",
      "model_name": "VBoxModel",
      "state": {
       "_dom_classes": [
        "widget-interact"
       ],
       "children": [
        "IPY_MODEL_91bbef4e195541cf8bc486ec587df256",
        "IPY_MODEL_5ced88752daa43ff9cd8863a7fb432c0"
       ],
       "layout": "IPY_MODEL_7b1f1b16844d4f4ba217f932b9bcf293"
      }
     },
     "63ed5a871b814139ab2db75feec6dc3d": {
      "model_module": "@jupyter-widgets/base",
      "model_module_version": "1.1.0",
      "model_name": "LayoutModel",
      "state": {}
     },
     "65f26dddd3f04587828c820f870f1638": {
      "model_module": "@jupyter-widgets/base",
      "model_module_version": "1.1.0",
      "model_name": "LayoutModel",
      "state": {}
     },
     "672dc5f998ba4626a6f874c207cfb528": {
      "model_module": "@jupyter-widgets/base",
      "model_module_version": "1.1.0",
      "model_name": "LayoutModel",
      "state": {}
     },
     "6732324461454d87acc8d710dbd43d5e": {
      "model_module": "@jupyter-widgets/base",
      "model_module_version": "1.1.0",
      "model_name": "LayoutModel",
      "state": {}
     },
     "674ec7c79649429e833e1f7fc3904f83": {
      "model_module": "@jupyter-widgets/controls",
      "model_module_version": "1.4.0",
      "model_name": "VBoxModel",
      "state": {
       "_dom_classes": [
        "widget-interact"
       ],
       "children": [
        "IPY_MODEL_067090ec5ccf43d7a44d8ff569517195",
        "IPY_MODEL_1b9fed639822411d81c50fc00cb30311"
       ],
       "layout": "IPY_MODEL_d2e39803a7bc4183ab9ee5bc4c4c9480"
      }
     },
     "6ae2edeca40448a48fd1182b9ec7e148": {
      "model_module": "@jupyter-widgets/controls",
      "model_module_version": "1.4.0",
      "model_name": "SliderStyleModel",
      "state": {
       "description_width": ""
      }
     },
     "6bbd52f2524e4f1b886adf9eb271b5b6": {
      "model_module": "@jupyter-widgets/controls",
      "model_module_version": "1.4.0",
      "model_name": "VBoxModel",
      "state": {
       "_dom_classes": [
        "widget-interact"
       ],
       "layout": "IPY_MODEL_c45985ed7ac44f1a9bb82eaeb5664407"
      }
     },
     "6d49bc79032e4ac8abea7a9bebf80bbe": {
      "model_module": "@jupyter-widgets/controls",
      "model_module_version": "1.4.0",
      "model_name": "VBoxModel",
      "state": {
       "_dom_classes": [
        "widget-interact"
       ],
       "children": [
        "IPY_MODEL_3a2e7e1d09c5457aac599ed040008622",
        "IPY_MODEL_70778f89d8654ed18dd5653c3b1a7eef"
       ],
       "layout": "IPY_MODEL_a68d269f2a9f476180b83c7515dfa741"
      }
     },
     "6def2492b478466eb7cfe2e548ff8061": {
      "model_module": "@jupyter-widgets/controls",
      "model_module_version": "1.4.0",
      "model_name": "SliderStyleModel",
      "state": {
       "description_width": ""
      }
     },
     "70778f89d8654ed18dd5653c3b1a7eef": {
      "model_module": "@jupyter-widgets/output",
      "model_module_version": "1.0.0",
      "model_name": "OutputModel",
      "state": {
       "layout": "IPY_MODEL_9677e83a976248bc95279223b9c49604"
      }
     },
     "7245662bca8541f6ae2245eed218026f": {
      "model_module": "@jupyter-widgets/controls",
      "model_module_version": "1.4.0",
      "model_name": "IntSliderModel",
      "state": {
       "description": "frame",
       "layout": "IPY_MODEL_d9d393703393479f805251675f855d48",
       "max": 60,
       "min": -20,
       "style": "IPY_MODEL_8e912d57fade478da9e758a2537dafcd",
       "value": 20
      }
     },
     "735fd0c7d9634b268b7267a337f992de": {
      "model_module": "@jupyter-widgets/controls",
      "model_module_version": "1.4.0",
      "model_name": "SliderStyleModel",
      "state": {
       "description_width": ""
      }
     },
     "7378e4c4fcf442d0b46c713e730e0a14": {
      "model_module": "@jupyter-widgets/controls",
      "model_module_version": "1.4.0",
      "model_name": "SliderStyleModel",
      "state": {
       "description_width": ""
      }
     },
     "741568c7915c43fa882b182d94585acc": {
      "model_module": "@jupyter-widgets/controls",
      "model_module_version": "1.4.0",
      "model_name": "VBoxModel",
      "state": {
       "_dom_classes": [
        "widget-interact"
       ],
       "children": [
        "IPY_MODEL_c1ce88bd66a745fe8941065356f33379",
        "IPY_MODEL_8887ff79424247e0908106e033f03613"
       ],
       "layout": "IPY_MODEL_4ff9681592624b4c9368a39042da1a5f"
      }
     },
     "74bfd05db4924497ac6b9dd87e7b929d": {
      "model_module": "@jupyter-widgets/base",
      "model_module_version": "1.1.0",
      "model_name": "LayoutModel",
      "state": {}
     },
     "75300bc6433d4d019c13b398ad572662": {
      "model_module": "@jupyter-widgets/base",
      "model_module_version": "1.1.0",
      "model_name": "LayoutModel",
      "state": {}
     },
     "7605bed838314e58a4d9577545f5dade": {
      "model_module": "@jupyter-widgets/base",
      "model_module_version": "1.1.0",
      "model_name": "LayoutModel",
      "state": {}
     },
     "7ab4e6a5247241e89b2995031a0db204": {
      "model_module": "@jupyter-widgets/controls",
      "model_module_version": "1.4.0",
      "model_name": "SliderStyleModel",
      "state": {
       "description_width": ""
      }
     },
     "7b1f1b16844d4f4ba217f932b9bcf293": {
      "model_module": "@jupyter-widgets/base",
      "model_module_version": "1.1.0",
      "model_name": "LayoutModel",
      "state": {}
     },
     "7b4053112a2540a9901ba85a836fb0bf": {
      "model_module": "@jupyter-widgets/base",
      "model_module_version": "1.1.0",
      "model_name": "LayoutModel",
      "state": {}
     },
     "7c9e928fe9b04b37828997a129652c47": {
      "model_module": "@jupyter-widgets/output",
      "model_module_version": "1.0.0",
      "model_name": "OutputModel",
      "state": {
       "layout": "IPY_MODEL_8ac7065faec5403fb5b03639376db283",
       "outputs": [
        {
         "data": {
          "image/png": "iVBORw0KGgoAAAANSUhEUgAAASoAAAEICAYAAADoXrkSAAAAOXRFWHRTb2Z0d2FyZQBNYXRwbG90bGliIHZlcnNpb24zLjMuMSwgaHR0cHM6Ly9tYXRwbG90bGliLm9yZy/d3fzzAAAACXBIWXMAAAsTAAALEwEAmpwYAACWvElEQVR4nO39e7B923XXiX3GXHufx+9xH7p6WJYEkrFMYjqNoWkHMAF3043dFJShUnTLdLAJFKITuwJVdGIZ+uHEkHJ3gTtdSTdBlGkbGjAmvFyEgB9B7aLbINsEW5ZlIWHJ0pWudHUl3cfvcc7Za82RP+Z7rrn2Xnuffc7Z9+qM32+dvR5zzdea87u+Y6w5xxRV5VZu5VZu5ZDF3HQGbuVWbuVWNsktUN3KrdzKwcstUN3KrdzKwcstUN3KrdzKwcstUN3KrdzKwcstUN3KrdzKwcstUN3KjYiI/Ici8iPXlNb/TkQ+KyIPROSZ60jzVvYrt0B1hSIiHxeRx76DfEZEvl9E7t10vloiIioiX3lFcb/dx78I51T1r6rq77iK9Kq0l8D3Ar9DVe+p6uevOs1tRET+n759hO1cRF7Jrn+7iPy0P//9N5jVG5VboLp6+d2qeg/4GuDXAd95s9nZTXKQeZXJm4AT4IOtizddLlX9jzyA3vPt5K8DfzML8mngTwN/6UYyeCByC1TXJKr6GeAf4QALABH5jSLyP4nIiyLysyLy9dm114nIfycinxaRL4rI382u/RER+aiIfEFEflhEvjy7piLyH4nIR/x9/42IiL/2lSLyP4jISyLygoj8DX/+J/ztP+vf6v+BiHy9iDwrIt8hIp8B/jsR+YMi8k/ycuVMTEROReTPicgv+zT+iYicAiH+F338v6mOS0R+s4j8lL/vp0TkN2fX3ici3y0i/6OIvCIiPyIir99U5yLyVcCHs7T/v1mev01EPgJ8xJ/7r0XkkyLysoj8jIj8r7J4vktE/qaI/Pc+/Q+IyFeJyHeKyPP+vt+RhX9SRL5PRJ4TkU+JyJ8WkW5Gfu8C/2vgB8I5Vf3bqvp3gYNigtcuqnq7XdEGfBz4d/z+W4EPAP+1P34LrvH9TtwL49/1x2/w1//fwN8AngaWwG/z5/9t4AXg1wPHwP8d+IksTQX+PvAU8CuAzwHf6K/9deBP+fROgN9S3feV2fHXAz3wX/h0ToE/CPyTqozxPuC/Ad7ny9YBv9nf+3YfbpHdF+MCXgd8EfgDwAL4Zn/8jL/+PuBfAV/l8/E+4HuyuH4O+P0Tz6CVtgI/6tM99ef+N8AzPv0/AXwGOPHXvgs4A77BX//LwMd8XS6BPwJ8LIv/7wJ/AbgLvBF4P/BHZ7SXbwF+CZDGtT8NfP9Nt+kb60s3nYHX8oYDqgfAK75z/DjwlL/2HcBfqcL/I+BbgTcDFni6Eef3Af9ldnwPWAFv98daAdAPAe/x+38ZeC/w1ka8LaC6CJ3Vn4vgUt+HA7/HwK9txL0JqP4A8P7qnp8E/qDffx/wn2TX/vfAP5z5DKaA6t/ecN8XQ1k8UP1odu13++fa+eP7Ps6ncKrmOR4A/fVvBv7xjLz+OPBdE9e+pIHqVvW7evk9qnof1/H/Z0BQWX4l8Pu82veiiLwI/BYcSL0N+IKqfrER35cDvxwOVPUBjom9JQvzmWz/EQ7MAP5PgADvF5EPisgf2pD3z6nq2eYiAq5cJzjms60UZfLyy8wr067yyfxARP6EiHzIq54vAk+SnhXAZ7P9x8ALqjpkx/g8/Uocy3oue65/AcesJkVE3gb8NtzL5FYqebUaSF91oqr/g/9q82eB34PrKH9FVf9IHVZE3gy8TkSeUtUXq8ufxnWGEPYuTmX51Iw8fAanpiAivwX4MRH5CVX96NQt1fFD4E6W9pdl117AqUe/CvjZDfHUUpTJy68A/uGG+y4jMU/eHvUdwG8HPqiqVkS+iAP1beWTOEb1elXtt7jvW4D/SVV/aYc0X/Nyy6iuV/5vwL8rIl8D/PfA7xaRbxCRTkROvAH7rar6HPD/Af5bEXlaRJYi8lt9HH8N+N+KyNeIyDHwfwX+map+fFPiIvL7ROSt/vCLuM4aWMFnga/YEMXPAr/Gp32CU4kAUFWL+zL1vSLy5b5Mv8nn8XM4VXYq/n8AfJWI/H4RWYjIfwB8Nc7Wdh1yH2eP+xywEJH/DHhil4j8s/sR4M+JyBMiYkTkV4nIb9tw67cA31+f9PVxgrP5hXbyJUcwboHqGkVVP4ej9v+pqn4S+CbgT+I6yCeB/yPpmfwBnO3pF4HngT/u4/hx4D8F/hbwHI7BvGtmFv5N4J+JyAPgh4E/pqof89e+C/gBr678+xP5/5fA/wX4MdzXsn9SBfmPcR8Mfgr4As4Qb1T1EfBngP/Rx/8bq3g/D/wunBH78zgV9Xep6gtzCuXV2P9wTtgJ+Ue4F8O/xKmcZ1Sq4ZbyLcAR8Au4F8L/C6fSN0VEfhPuY8vfbFz+T3Cq5XtwBv/H/tyXlIg31N3KrdzKrRys3DKqW7mVWzl4uQWqW7mVWzl4uTKgEpFvFJEPixtB/Z6rSudWbuVWXvtyJTYqP13gX+JGWz+LM65+s6r+wt4Tu5VbuZXXvFzVZ86vBT4axoSIyA/ivnA1gUpENqLltgNa5oV3oTYlLtWeNK5KdVTfMxWjAkh1XN8n5RUtDrW+0iiQjk6ty1X+W57TiXqdUdsSfupy+Z8iMUX9cci5QhihXZY3FFnzU+PzZZ3tT+qSt5K46c9V9XPNpc7bDef1BVV9Q+vCVQHVWyg/7z4L/C/zACLybuDd4biTWgtNnULEt2MdQ8W4A7aAI/2qhHuE1Lal8YCkuNdkMUvxN/0z2Rauj7u7cSUTt0/crzYRNBbcbVZSh1WraV8trnuq75l+U83K6P9mAIeGErgpCgZ1g3WybQF08XqwFVS1lQFtQp+EQoIg4jYk7IMYwYggnSCdoh2osQxG6TtLbyw9yoDF+l9F3ZFYMBaMuoYB6KBYq9ArtgfbK3aF2x8A68GuALUy30V9ubfIJMiXTzcDVEqAhQow/c1tULgkVPjb86YTnlt4psYHs9Wm1VbWT8r3puQ3vbbq66Fn9Wrr2QlRrgqoNoK3qr4XN+/MM6qpt/X4bhmfiuCTH0udqL+gxZtaGnyjjFF8uNQwU1NN4JUAKgeykovkTcfdAYJoCifRbGhcRkNwhNDH4hbYg9+kAqlRLdW0QkA0eyFUm6lyPckSFQesVQ1GIph1ylhfHrQwbrNGUVEGDL1a+sGwGoQBi8MYixWDinUA3vn7FyALwLiakAG0x42ECg2grLAJSTVZglPdOqQoi1Shwx2b4GZ8fQ6vnwFiPljdN0YgRP1MZ8S7v2Bby1UB1bO4+WpB3oqbJjEpIvHFOL6mrc6SZAxY4/3inAcrt5seW61ChaYRGmOCpbxzpz1L4liuTP5OJcaSs6cxtGW/AaQw6c0uJftTCXjkgcrnPeeKoYxjDlrWZM2Jckit72xK/SrVUIRQczlbBBVBjKCdia98FXHMSaG3Fqtg1RD5olcJ1WdKTGobiDsGUEskq0oKM5erBNUxf/nVbaNV7BBym/a4Pldj7jEbrLLYbZWayWIK12sQK5K7KvSJedpAUrg6oPop4J0i8g7cHLR3Ab9/KnDkGBE8MtmCCWujVuvbNduJ+JHdnecp7+4tXkR2LudQOdMC1wFrvuL+2Qqkslik6tyedalnLupzmMNOVDY0wa5kr9eyfKlUbdYUYysadZnbvGbCYV7yBvyJgDGOEXXhNwT1eVfPMq2CDS+wwMJ8NBbECjIoZgA6F04VWIFdwbDCTYzxuo3N6qH+hlSfS8++Dex1fW7kSFmD0qk3cpOS7i55dDkY2SqcrcKP8r2PTGyIZ1M3vxKgUtVeRL4dNzWhA/6SqjY9LAbJvYrlTJ3qfNprqBqSdRjaFT8JXKPz6Ur9HksdtowjvVnVs6nwrqjv8ExKEkwFWMmBKzGRYBlygNWyqeVvf88/fN/X7HpdBo2ptUqfN+yQ+/BGLktc70Pgn6EMUbv17Ek6CQawZKpTwVjFKHQaQMsBjCreQuXzvnIMynQgXWJTWNDB2aSkd0DG4G5SZdSmmpXTlLIehfrpr7+3fCnOTF+rF6/AuNW1o5LGOXBVkTPAoo/kQL1vFpUVZReSdmWTG1X1H+Amm26UXMWYAqeNzSFjRggj42XZkSfizBOX8WmBqJGtf3+KM9oGllA0Lk8HMo42ZmEepCRASQ50GVeqW78z9WUsaLr2BFBN+apVAaEEqASxrfN508/qIJbKb0Y8ukiYYhsZlShglU4IFMob9zUBVQY2KUVBRKPxGBVHxKy6as7uUf9cWm1pLuzUjDPs5U8pr4FZGLhWduvhddDWi1YbF7UOtE8Jzb9xepMczCxsA6AlDZ1iRHVBR4xnklGVd0sWdlRdjdqrG2R6e4W3bWARSR1s8RnxIYINJ+Wm/FUP4REM1KlOWuVipOEL8VN+CVgpvcRJ8+PAxUr1wMR7w3GCoKJkUqbhWqVTV5Px3EWo3oguJgG2ya18IlgRrDjbFKoFUEUDnSYeGsphcKAmqv5DRWoQdZuY/SKcJdOxtF9ul493010tsLpcXraULLH43s6uzc3HQQCV4L4y52/yvAHloBXCJ17h+cCaEpcPpiTHUpyjcVRFlEHP+IVTnVUPXaMnlAUT9QCnqUSRKfncqYL4ARJRh5KmTSUBV7JiJdYWQEuL0kNttxjXRw4G4MCqgCtJ4KkE1TcrqyF+4YubpGdnFLAGUW+yEhenGknP14BaGDzgqOZ1lYZnRL5aveFCjp3JKj3HfKsNz+s79fjKmFWNQ10rUDRklLbQ/pClTKuAE+xoKrFmON9sXlWMKkjNnmpm1X7INWNpsZ7NhLOEsHYDG+UgfxCSh8tAUH13lsSmWjwxhg+dXlNMjiGF7zXlFi1SUa3RqvzlV7/AJMPdwSLWKm0APpPFUXHSRivMKmJqi6wo/YqCWMffunjCMTERAevY2SCGYbBYI3E8WRg/5rkqilMbqWrEoP5FKMnALBrs9kAbrMhiask4XKOtZgfxWnoftaOuKdGGXp2/H0LwjWBCaGoZ5QwoVHeK+r4N8dfXiuLk/WVDuQ4KqOq3W30t/NZA1HqDja/NfWRrnk32EDMIiSGlesvkv/FhFKwsH5OjxT0pSUsweVtVRCqw0vQVMNaRhntrHpkxN59P9+m+VB5TVw9EJuUtYkyIX8avgNEDEQrGFTNUfBeXeCxiHKMyLl0DyEKjoRzrxlQ5/U7857wsZ+prQ5RObfEcupisxuQHD1pDVl/1l7E51qa6hU2BVFFN/qYIWpeVCgxj3Pm5qRvyALqOTo1jaPWVdSBV4OAMSnUwQNUayzH1AlkHUlTXtHnnenDLQ1OFG0t5NlDo1D+TOTl+LfNhrGgxBjGpS+r/a4xJw/CEjFkFHhRAKhjHlSKaLJf1cIZ8uEW6N4xcrrc81ZDT9AUwVzAbNRTRU90Q++ycZMwqjkDwg6TEgDEaPyyoFXQw2IXF9g641Api1V1TQC3BmGU8fVyIjeaFxLscOHW4UQzpO6XLQ94mq0c3Kc2X3Lqb9gFO66TqJPNf11XoVsG0GbJ5rgap+v5NchBA1WJS2zzbFnCtA6spxrN52NlmGXVX/2bpxJnFTXiDqrOT5Pa48Xvbw0n8TF0a0gPPcV+zyI6pCl0pdlXlBtUujOoq+UliV+nmsrUGAEtDIkjjVdXhhohHiUCl8rd19bU1DOREBDrQzg0MtR0MogwWbG/QlWJ7RXtFekF7QQcFNWAdk1I1iFg6NZjsxRDKZBCGCrAHNH7GD9NLyMo3p38V/XpGx9wY7xadepPkz7LZ4keNRSaujW+b6kHNa3MrkwMBKgidNjCEJC3mtI2sY2S1yJYphbzmFp6y7jM2pdnYRt9Zgsph0fgRq7w/M7D7rhWbliS1rwCteHP5uSFmuMpjMOTbyJRSntXnzc1fdMddzIk/VlCZsGHllW8DQvhfG0zeJpVKsspBwTpgsQZ0CboUhoVxTNRaN49vBXqOW07h3OXFeYE3iAcrCUxN/WRnDfUz7qgBrMSDVcy+izEa6nVUwLZU74vy5LqOOsFcdpI1zXp06ZJp1cRLW/s7pHEQQOXfsUUHyGWdqbfen0vTmxQ9O9dmY+0clGlOKUCJuYVOj+KNn06lC+xq/CUkDWeoJ2i4eCT+pvxUsKHj/Jb9Jn0dTHem4RY54+3ivniwcgDQ5U8qq0ABxFr3pc+S6JZk02NDoeM4FXWTjA3o4FRfa0AXgl14Hnes6Mo6xoV6jc8BXWBkRl058tmVnmrF8sTnMXpa5Vk7Orsjmkw0kCLuPTKoUXw1WlyGCWxITib2p8JPyUEAFYyHJJQy/pw+PqrvaO/X905V4pjJtYEpv6PV2PMO7jS4BCOBQBjASurk0Zwj2b0yPXyzPV8x40VaN5cUT6qHZGhPLDGcZbR1WU4UoYtly9hVBlYKbgCmyUqh1mdTEnj5eXrRO4R4rxFG3K8YT08t6gHLrhRdCGo04bGvcKfWJraY114axiHZcIv8ZVKqvXV/Lp/DdqAVn0bV8LbQhmbLKM6sKUjMhL8wCnw5BGsyqkaYTXIQQBUYVdivpdW11unC647r8yUzG6eko1A148pZzJj9hY4dbB0D5TDLHLACqWhtkajEp67FeQcGFezGMVfTzSWAUmBUeflyaRmWUxz5c0nqY+M1ntnb1PcPz1Nyn1yaNEDt3bF6rwh2Jeg56LGBhXUsyrphCsEEliZqu3RMxRNTvSYWqyIUtjICYCWwatVmXcq8rK2rrfZZg9VVSA3RIPErdRmqDLMPmQNWm+QggArabKrFetYVdRNIza2knJVMvQFa6mjoBLXqGFQGP+Us+n5qpVozsNEXYt8JC5BaW4g6R2V+U2z17LXEscLVSpks4glf6yySfQmsM1Q2V/UInU9GD8RM/bCDoNI5/1KCnjv2xBHo0kPHoOhKoNfkn0sNoja6wrFaPrHy5eGPJZnS1kn9fOfizNqX5o5aZPuV25aWdtCMqhVmLjPYQebU38EB1dS5UnmpR1vPk/WPst2J0155ff1bNIXJGVUOUkG9yNWtKedl41irMzPCjKWd31Z/yflRDrzuuFQNyyQiXyxjjhTSh5Gak7nUFMeWomM3q+7L3soBk3aGONRgAO0VBgdSKTcWm3HfvM2EgZ9p2pCbsmOJjhuKL7Oz+2SGHfO/E1b3bh1wR66yJj3xf+bnvhVyczubIwcHVJuAO73F8i9ibdnmJZVXXgmK69PYJOPOnaZ45F/KWkA1K/6COWV5lXCx9f6vczhWecvaGLPIFlC37qt3i3MesNR7/CRjM4FRRtBQDyrix0sNjm1GtzeKG5oQDeqW3CqVXhRJ0Y3pUHq6HHDsKkzV2QqoNPuJlbkv3W6bVry7tF7Z7ZTnlWkfCuTBAFWQOYDV1LezMFNdsWZo9ZFOXK3jqsFk0/irqNKg2ej1bE7aKL7ptEYRVzmfaqzTja1mPTnvqMGnvCuESHclJzWpg/pN6q2RnAnAm7E0/zV0EA9GKlElTozIX/PDGZznvMxaln0NNThbfLItOkYWmNPgt9w9bz2lppYWtykPdA+9dTeWvK3MimEPeLhtFAcHVHNkXMhaSZlXCbuo3TVoaPZ3iuaOQqrmtuOJdFNHqi+ub7LTHLBtV6vvzOOQ0VGYwGOqrVOJg1rLp5DPJpSq3Eqcx+fVpOTaJoBPYKF+bl6oDnWqmoYpRNG7gv9+pyGelOCAA6nchpazqHyr/V+x5rco0dQbYT9kpyFXEmk76s3vw61kG455MEC1n+ou2dUmIJpWZ+qnkICoZjutmKcUrhzUap9omi6N8r6uY5ShNR1p63oON+F82NIEmcSPSkUuhCoXfoAF4v3fSQQy0Yw9BagbPZDAttzF4Ak1PkFfR2FqTL64BYFd4X1MaQIXm4GXi8bXi5ZlCUkEdTwyKW2x5s0y1R6Kw50bevmMi3N70ixHWRu/I3eSTVrSHDkYoNqftFXBqcqefghBWSvPbaPuTYHUnPTzUdNanC2lLFudp7oWSgWtPFcD1Vg7C+wprEwTAMr5wEsxBFUvPoUARCFmPxaj4DuS/FAR1UZXuDilJgBIGGDmkSuMuQoG8MErdI6BZS+GWBNeYfQqZBwsXzzf6XFr83BhIsSWYDUOvpGK7yytrE1GLdAen7deu9gVrA4GqFoF2Kb+UyXMq4paJVufg5aiOY5hUyyb81LGMwWSrbDTEY4BavxbLvJV12RS8fLltISFP99Jzsmm6iD/TutVOw9Igp907RmVQVAT4vQDSDUxtejlc3Djp8C4KTWiWM3ZUVLeyrH1WUVVrnGmXylbSJwGNCEzeuyesOdSsjYP8eK6l2P7tl3A6iCBag50TBVYN1RFW2XLYWAbqFlv8xnHOL8TrKfLa6BxogG1QMnE33I9nPztmNhUDlJu30j6ipZGfofbNfNg6p9JGNWKA5eg9kWjt4QBG/4+ASPq1v4Dx7Yc9UlsaPAwpKBiPVDZuBagFpamTU9/+sm02mcrntmyhnC1zm3VuS/x1r8OgNwFrA4SqHI20aLdU7ILcxmf38SP8pBtVW42fZ4ha5VF9X82uElM8JP+dR6ourif7Esp+mACzxYoldKInkzfDogiZ4oLkHo1Lx8GPVqw1G8armW8TADjwUr8aGrj5/WJhyJVrHWLkloZsGo9QFmsOJcvWrCcdaBVSz4Sqn7lTPFq2o2g1o4aQVqyNQNpNcK1+upllLLdpE5x05M4CKCaVhc2PtsmkIUmWPKdXR7EJndpe364MboajBqi4/0xC8trNp11IGO8+uZAKlsMZtQdnatzLcFJJp6bZOfE3xw9ddbZqQE2uxiGFKj4OYLhuovLgZQ3U4nFGotVi1uo1C1bqljvxjn8ep0xJCqQL9TafpppAGotWymJU2/iLW5rpz8RbjZY1ZA7s01vUYYp2eb2gwAqKNtwXYBQ563ztUw3nu3eGvMqsRVqprMYye5f14jnFry6LEVAoS5/YEq1ab3L7nVYko2i9/vi815/xZPWQRZ5IksVFMY/Xn3U4C3Ce00Q3NAocOe8Xynrp8ukBd8HVLw3KU1jytuq31quWhUjvyecuWQvbTzX4tSWQNAErci4t8nYukSl+NnIIvYoBwNUuUxRwm1BfPzwppvi/qSEylmA1Xrz5dGtLfjm/OdeEOq2VfpkcgkFYAr7jkH5O4wmTS2bSS3oyJ9WIE0Sw3uVUALfzVeJkaSiQfQdlVaH9rAj1vk4R7E6YO3AoN4mJW5TdWognk2JZmBVsaj4wpitjtXgv99+OgKrNRmaahYjEJ2BVfN0j/CcGDekPTCsdXKQQJVLXv4pNW+OTLOcvVkGtkx3Q3IbVT5pn55IV2N3DwZmwWIxcZGqknMEAMsVH/Gf3jSMmhQo1hIMWKBZDsSkKTIxZh9volNk/l28J4M0ujwtxKB+Lp56w/nAEDZrGVQ9y8pUvBFp3dxidM1RXp+Xlg0NuNluKoCYC5fb6BOzwm7J8i8rBwNUG/vlFUq7vcxNeQ+AVtOvjY1gPUiFs8nfUh7S+ezU4jeOLIqg5a6G46Qy5UNes5W7PCa4oQSIY0ruq180MJH7M0lMzs/JU5Ptlynl6lYOVoFJDZq2uMBo7MjznmM+JGgHbbsdeE7T2KQCzrpvZhlnZmlfsoEQbiUHA1SwnkVuCxst9nU1svnxN0PkKl3o6IGEhOtN2ZYb5L6+HWi4bh5gKwxQGKfiWJJT+5yDP6/eWQ9SHtXiskcSUkgA6ZhYBlYx4xlTi3mD8YDTiILReaCb/6cJpLAMNo1OjytIa7J5JbvNuHVFhzZXrL5MSp2uzGyve7QRze8f8+BuKsSuVXwwQNUCKWVcqPplta5C5pzfj4o97+GN4g/ApOU5nWiAonP5wTiR9NdxpeD8JA3CNBG4wte9sFBX7o7GBMwZAFHnUSXYoHx8inrbVT663iJqsppK9CUnZnnBwzn3wS+1hqC8OrDy6h7BFxVZwwn2s5gUAZZq5S0fhHBprWaXt+Il3qQNn39XLJfjZuPa39z/DgKoQruqM6vVb30PlNV1mfbRSn+fsm6yanF6VripXK6rgcSuAgSl1VXc1TDwM1wLNiqj+GWncGqdd3HufKBrRBSBiLoJajQDizzfYdmIlPWy+QcXwe5kh2LEK6gZs9KMScUkGuvR1WCVcbWUr+YbYo+05QrlZsAKptpccsK0HwXwIIAqyGXqeYphtZrcvtKcJTWSbkpw7fU5N0+VMnc3GOAq2KfCy0I8owoj1VOWY8oqmPhlLkvNk6hxXnM4sBSDIcTFhxh/f+bb3NuzjI9zYaAX5+4ljuXKDeYioMGqlkk0zE/Vlf/VBOPJe3xegsu/xja1xckszpS5OVwPMdvK+hT3NRLxYIBqH5VXqg8HIK3MXPkLejNYjUOGySYmY1TGq13lAgdBuuzEdJ23Cxm0MtHcI1cAr2CfEjcZWdxcQiuw6GAQ505mgXPmacDbzTJbnAQQc2VLS3JZh4ua5yT5L81hfJ9gtU4jqEXqi9ugmy/buhweEi/cpq8eFFDNaQZzw+Rx5mnUaV4mnXGK609dn0zBfmA2eekCzwldU7xK5jprYFhdFotb3y4tPBoHUIUkRsyqUZua7+ZMy5RvHE+4Fh3Yzq/xZ7zbF+vL4kZ/+vl+xg/TCmxLSF6ngme+xB9DDsI4sxKkEoSl2hx71JiSvYNCAVrTsV+lCeOm5FJAJSIfB17BmVZ7Vf0NIvI64G8Abwc+Dvz7qvrFOfHNZbqX1qDIu+n8e/Yq19KapgGrhI/QPXO4Cl8Dk5+ooK65Uerlwg8h3hEjKOLPxlDlDErzNJy1LFyLK2kZYdEJulSHZQrSC8Yqq0HoTXDz4oBLvf+W2mSeFFwIy6om9TYANdk2BVg0j+qanzw50dDbfaDh3qf1aF9r6JTJPhjVv6WqL2TH7wF+XFW/R0Te44+/Yw/pFDIFaOtY0zpQ2oZtzZI5qHuFamDdbQIbKM/WykwJWG5Eumc5nukIwuDNSyISF0UNC6kWKReH40IqEIcQkHnk9Lar3CuoGOiixz6lU6cSLhRWVllZ5+PcLQKRnN8Fd8XBDuXEDXPN4DeWPUCbJbgnzlXfErBK2fDmaTWwjWCl2d92dGuI1aVkS/PYladxFarfNwFf7/d/AHgfVwBULZmjm88BpL09e23sSuPh7BmwpsrUGtyQnLMktpMAw/3amEfj5xYLRoiApd7w7WbTJJ+ppbO6kLHU+dwXvDT2XdT4r6POdmXVj/DKrPSdgHQwGOiMslQYBlgNirW40emCn5KcvHaqJkUvKLcBgkP+ciblZgwmsIoj40nG9tmkeCrQVE8VosO/OVHvCihT9xYpt60H1y6XBSoFfkTcRLC/oKrvBd6kqs8BqOpzIvLG1o0i8m7g3UVMsnvFz6m/6wOpshRaXdIWWEHsLXPrYNu8rlMrcuUtDn6MDCvJ4MEq+IgaPKbVa/nV3C2VKx/TRbVQjnVGceNjs86ILtZvKn7gqSCd0hnPmgY46sF6sIrO81QZVOk1jbnKYDgCVWKbiVUF3+k9Qu/zajP1NS/nFL9qBZr9zLYwDUwp+NvcuzZAHvGeVc25UVwWqL5OVT/twehHReQX597oQe29ACL7JbA3p6rXymWj6cj0Vc2vV4W4PlOERiCNGCI2sioBLIYBSF/ogp0qHwFOsR93w8IW6phYdAmc90xrPdPyDG5wqp9Y8ZtLT5aAKmYJ3Urc0u5aj15Xev/rHb+QeFPKe842g+q3qkBtiIBFETZA3FrxlbHpq1zrnm0Aax/q2uw4rtE+dimgUtVP+9/nReTvAF8LfFZE3uzZ1JuB5+dHyFasam7dTMW1xUtrbbrT48UDh5iXThFu18ztTUpFkGrazYAgqliROOazZiclQGX2oEoPV+8+RnOEDDdZD2gDSK9IB8b7ShdP5aTzQOEZVxiaYBSMphmNPdavihz++XznU2yy5Bf+KIc2jWd2fDw1+MyhQzuwq11l0iyxj8gvIe3Vt2eIiNwVkfthH/gdwM8DPwx8qw/2rcDf2yX+TXWyTZ2tC7vtG2h7dTF7c0tuvJ2Rn+ygbtf7lna8eaqhizofUGF5qrg46DhoFk17fHKRTAAtTTCi1g9BsOrUusEv7b5y27ACOwh2EOfxU/39YfMRx5Fhqhh1bl9E1R8n76W5h9N6SnS2iFdTfZ7djnSuAVzWHl6btJ7nDchlGNWbgL/jXc4ugL+mqv9QRH4K+CER+cPAJ4Dft1Ws2RtmilntyoLmPOvLsKzp+MdXd3mBbssgx8xvvqQcZ8xKbfIPpRYVkyYAi2dEiSZN5zi7Z5yeh4WkU/nJzxKMRgxGMWJgwE2QvgB6wQ5prl9yZ5PmAaajxIpKwpCutX+z7O8iN9zZ58i+1Md9y85Apaq/BPzaxvnPA7/9MplyERU/pdxgTa4Dso1gNWlFb6eTx7sPyfv+1AtAGuDh7EreCK4eAJzxCpC45NT6osm4IEWCZcIqucrs7lXr7VUX4piWeJvPCnTl5v0Ff1RWkz0qLO9gs30Xazifg7sWi5LaahuD1W5q4EjN3/qm/ciBaHYb5WBGps8Wae4CuzOhS2Sh3ffWpbYFWLXin5uv/HhbNbltp8hjsfkFRMvJxUVkk5LztfycENb4K133iau7QaIf9cCU6C06KNYDVfCYHlhU2pICG2xqpZ/4BFzOEB+GKQTQ0iZYXaqDr20LY2Ra+0xndohNNts5ZrPrllcPUK0BqNb5jY1HqzBV/NuqWfNFx9RlTbB9yBSAbQzYPOegJdh90hczSZdjyNoB8rpEpdjUG/WKUfEqqPXhrYdLVXQAa91QhPzr3iDuXA5WAYwSUKUveyH7AZBabKow2ai3Tl3mo/VGXavglcXZPIrJW6sAhwQ+ML+NvzqAak3tTqowE+E1/rlhWTOgrzTjXpPMQbO45FXiEuV0lGmka1rpJEtIwij0nEl5oJIQR7Bfeebj/U/ZDIwGD1A9thw/JZoNonS/OZvKx0cFIJpaEVBZ+/iuRJqMlZlNeV0zqiK4TiDbpgoPH6hk+lDGlwsZqWU6ff3Q3jTXJptYVON6go1WN05XpTpb7nuXw5K+p0V1TwTrXSdosRGN+W7tmQAmpcrX+y1nUrWaJji1rt2GdFSq9awllW7jS3LdhTWNsG6re8PJXewDNyCHDVQbmFTeyPL6rh9ki0VtZ1u6Prm29tICIBnvS3acs49oRdLSXhWUlPAMxJvl8nPhSLOnFyY/awZQNgco436jKiZEm5RfatSxqeg/vfzKB360vZaAMq7v2kzeujKuv3UeQot75jzgqTBj7Xpvovnz3mMC6zB4G8A9bKCqpAalIKYKU4PUZdvHzch2sNkMPTOKXAODEqTCflCT8lWSQUmuJS35kE9XmZK9JCT7jhAsVyX0hZFMYd+Kn2PnmZQb55kt7uCXx7IM0SVxWOUvG5gwAR+tseRzzlxS1hmXNiW2h7dpK4pRsnukbDWB2DWpwwaqGQ9mCrzqaK5FNraAa5JdAcr/qVlUDlLp1zsSzgY8OQZVP7SgICb1Lv4GQ7kkkML7NVBJLpHzpUStKCqWQQcPSo5BuVWSy8GeadCnkxqaymqaZlLzZIe76l7aVMMmVIGptjbj2W/M6RW023XZmqN9Hg5QTUFrdi6Om5HpgrfOa+vCFg92lmyy9Wx4+NeCaRP1lgNTOM63nEWF405L0KIArWT4jqyqsR/YExgPTD42SeAWv7h5tqQRngJADQ6k4lJZ3iKlDYgaVfLGGXox3KbrO5OQyfa3Y4PZ9HKv77tGe8dlCOHhANUc0WT3yE7F0rfYVa76FY3pKgFqU7hZLfoy0CWjwzqbOZuq6y2ofAU4aQlYBucaykD0nT7mUTVIZQAl4ddEVS8azbMYLMRVZnKY0rCOnw0gZSObSiDl6zBWZcpNXVPTtT1HH0txXe6Fs6fX1SbWtSbsVdtqW1l79al+M59048WYdmWvKvbusu5JNHrHHPq7TsoGkDW3CqQKg3mWbq725UxKCoCScl8dWNUMbAwEo1gJwBXtUWG/+rqXRorbNA0mMChrsdaDFPWEl7JipieO5/ks6zJdmf9Utm97V9hSd4x638rGujTmymEB1Rai2W/RQbRkC8p2lTLrIW16gk36UiUQzus46GWa7ro34roveVS/Qg1SAVoknu8IzoqlujeZyiOTlRDKbWlVQb+CgyS7VGBSKgmoVL2nTQ2Toh1QYdUvmRWY1BikRvWwpu7q6zf+wrsJ8Q9un+zqsvX4qgUqGKtzxXEwm1ThZ8uuT2gOiF0pWElJqPz+CIQa54rrjc1o8opZ261y/wjJYF673UuJGM+eogfOAGBxWAIesNwE5fDCiYuMOvTKfA7Xal4z2eZvuM3Ve1AaExfcx1JZNyWzQLfVZg8MrQ8HqLZU+aZUJa0PZHz+yup9HZPKE26BFVwiYxvQMYCVZiwq2w8xFJs2zlGqgGn5h1LpG0OWg5mSY7k9IzjfVjhvoZrFEu5y3hq8RwUrcYEZ43FKvKFynfvefPZgOb8vA8Fsc5C124PZy+Occ/OlE5opBwBahwNUcySrsNigN79IC9kULiaxhvdGvFmHD1Vew7li9ZCW7UqnL29MiHb+JT+uwYrEsEJYU4GUwbGpAFKBQSWQK+Euh6t0JcBOyExiLiIaXRvHVDV32ucQTKwBtR60vE9177ohEKvoqzMDrVQO8SqrRjYI4zl9yYOn5tU2IXtAi9ZLaxtGP6Ox7A1fptLaUA2X5aSvCqDyL8zJ83PnhG5dUQ2wykFnrT1Laa0svv6Jba0CToBUOK7AKrAoKoDKQauc/+ZZk6b90OHzfzAFVgGgErNKvzlvcWmEcDnbcV/9IFnYBVXjDeqGQZV8hWSbpZnXi0HdAjbAEmGR8SXv5ir6SHfxNIYurH3g6WmNWH0drHV+Vhrby7URoCtO6GCBaptyTz7bFqvZNSOyvm3tpV01kGnO+3otsctsVDkgxXMZaJWMacxE0vWk+tVwVeYpcZxSHUyMStR/2xNlicV4lzFu8/6lAOdmWECNG4GuHYPP++BBStG4JnKMn+C9U1gCRyhHwMKXAZQeuPCbLe7cttXUSz805ADsPZeSW9UvSbMudnnTBLVwT2+nGUltpwhs0RfyoHOKk4eJYFQBlgvnWZLktqd0Pgew9JsDVf7dr+RDNXzl4JVsVhAYlhsv6qio4NwERzVM8UDlVL4BoffLzqfKSVNnEPEgSGRSAaSO/LHjYS6t4CgvbONa3yS79ODDR62tXsIbqiuPZ9uSHyRQrZUJRFhbmXum03OSGqXlQWKj0WPNta0Bihw2yOxTQgknaRkqU10vAYqCSeUqYAlQIV7/W2S8LoVnXb5enJrpbEgLz6hiMP8T1tYLIYNmaDUwKsfYjCSQWqpyTFL7cqc0rmxtX+iTlTsRZvT4diFmjaSvtO3uTSVgrQdqsmRarWCdvPqAKkhWsk11vGtb2VZiOg2Q2iozWZjp9joudd0Iao7jgNJ3cQn2JhNZUgAskWpgJ7VamMNT+jvOXQCpnKO1JX+XBAiKDtB9iDCmahBvTPf5DB5Gjdi4Ik5gggvUqXwCSw0gJQRDecsp3jy5UvP6dHJzAWXbRr8GrIpLVbxT9uNtZVN2X7VAdQ3kaKvE6sGU9QMcRRGeTOMJaX69iHE6IzU45ftjpSzsB5AqwSqxppJVlSphy5Be5SXzh1409Cwn0YNnRvtK13nunEqy/rg1Br3NKtSN99/uVmvGM0RnQA+b8Yvq5cDUAyu/9ZTXpmUeAhSPsHnLDq/QKcBqNY383JxkWmEm4l0b3RUwg1clUG0LUprv7APhKoYkjfOxC0mV5JoHOFYi8r35INUGpQpk1PghAQGmMnVOZWSzStwph52aKnomVOW5/AboY5TEy6LbYV+Z6tU/iat1ajyvIn4QqFtTsEACTcbsAGxWK3fCgp+Kk772BZDqqYcnXF7ydlDIZTvytm15V5rn07lpa9qrCqjWPZep5zCq4G0ecBauiKcVR6vvTiW18Y2T6NncoReb2FMesoSc9pAD0Vxtc1J/uxuXTn1MdUnGXhNc4crpM1ZcgcMCohai7SquDKNugGivbuHTAbAapt4kz5yteg9DF8KqOQGowtCEHKTWf73bnjKM2qfAtfszjuluec8ebVi7yqsGqObU00aQyi9sinAKpBqZidGNe+h0+muTnP8aa+FlG6haBnQHEnWIGNLbq1Kuauhro3W8qnim5M4m7wn1IAjvOcEEVTCEdr0qgE8Aql5hUKG3gTGJ3/yUGxwTc/ckd8R9ljfnLdSvMKNkU3kSSK2v/t30m1SinaO4GdkGrK6gTK8aoNoks0FqBxm1p8ZDGxkcWw91VzvBBplS9aCEoHHGPBgGlysxZGA8CZzKWXtTXK11lO5P8JM7yssBzKlsAdw0DvryrofVrZw8WGGwaVmr0iCukagEn+gB5PIvezn7shljK0DqSqzhe8Sn62Y6czJ9Rfl5zQDV1nIFD7mIcp16mIeZF9vl8jJx3W355JbkucBkINUEuGpfCFNe0rhwRZzdSHJACqCXPCiAtz8F8BCNG4JjWnhVT7yqZvHLYqWypAnM5dSXUKZUmgRGaRsvABEiuDyojGOIYHVZ1Koe9EjFvAnZskxzgn7pAtWWUtR93k+1uigT5zZGWu1vAVL5bXny02Hd1WQ0dscmiyt17toaNa3+iR/TlM6P2VRxztOWwHvUJsCwXg1U71PGek8LwyBu/T4BK6ZyVezv0ULBWvvOqNW8ycfRlLk9ckO4y6JLpknOTPFqZEaT3TVPrxqguhKWu7lHj95WWh2PguYgJXXIKmAT3C5XylZDaOFoEDsKKdEuJZQLZ5TsqZVKiqM8l5hLPBvMcIrzehD3A7tyIGUF1AiDSS5hBgXrFx21koGTlPHW9VK/X/IamexA19njbwRdrkj2XJaDBKqpF8xUua9UTZ+BkFKDU/ErZRw5588LuuOD3fZWFz4oaWEaSXk9gFO4FqAn9zawjiSGeBJbyvIX60KdWhhP+31LWmBUBOttUYPAYIxjTyrYzqJWoicFDN65Xp5GiVgJKMsaa/mbmv8oNtf+1MujvvMyfbv1PK4V9660Ex4oUAVpvwHHcim2NedmbROdzbdOXK1BK82E3al11WAVjs1E6ABWzsFv6Lg5HQEyVuXicuzFhAQaZZvSZDWrv9J5S9iX6KbFOUMQx5YGNwrdDjB03qmeAWss2plojwIBa9ywBmucuqhZeYriB/a0T5hoy6Y2m0vA7l1ysa4N3ihJu6xKm8lBA1Uumyo8b5L7fDCz4hprOhSMqRU2l5zW7MiuWsETG6qd1rnJKNH+pMGjZjZTTp1KZUjf+wKwuMGgY/Qe23nC17sUop6KXEeQvu5JWmi0dysnWwU1CsagnfVxGTeo1io6KG4clkno2ELwkJdNE9PWyL47/z6ZVCvMlYLVpkzsoWO+aoAK5oHVTjJBjTbGJxO31h71WkBW3zSXPm6QqVsTRJRI6M5b5y0z5sGMwAqc8zxXZs+EJECRq4gaeII7YbJUI3Wow5KIZRhN7mxRhoHggwq0U0AREyITjBF08Nnw4wziMAVnoa+oXsi/VhVWQuh+O/dryQBVyUT/qU/pJQCrrR3kiYn8JRF5XkR+Pjv3OhH5URH5iP99Orv2nSLyURH5sIh8w/ZZmsqI29Z61bxJib1wAqTWiGMdaXGDVNDdCxv65miMUfZrqRahUuetYPAr6A1+s6N4StYUfpJvO40glYct/KBX+ctHnjtneYJawVpBe4OuBM4NXBhk6BBdYEyH6To6vy381i2MO2fcZozBGAdoIqkRuUc2l/buQ26m8V4LPM5IJLboHZr2RqACvh/4xurce4AfV9V3Aj/ujxGRrwbeBfwaf89/KyLddlnyItXmZcI8cnlpVLS0rmsdppHJ0c2N4/paxrpyJjLnqY7BY5zlxFhKsEpQpSVghfMZcOVLpLfTrK9pSl/Ka9ZPgak3N17KA5kar/sJDIL0glkZTG9YDIbF0LGgY2k6ll3H0aLjqOs46hbx3KIzLDpDF8BKHFjlgLURrNZW/z4tSrtL/Uxaz+fKYbLVCPckG1U/Vf0JEXl7dfqbgK/3+z8AvA/4Dn/+B1X1HPiYiHwU+FrgJ/eUX0egr5FBtzSy9JVvwg41V2I5EisZtSxtHpRRaHmcVKypdpOrf+HX+tHb7tii2Vc/IVmEUnbc3fnfcdFi241f+ELGtAibBp6WMeVzD51u6lRRo+KnCgbQ8XjTOfvWgGAZsBbvEgb/BdFG7zF+VIQfHiExT+VLQtPuqEI3NMRJdX5CDdxRO5xzy7VyOZ+hZvfYse/uaqN6k6o+B6Cqz4nIG/35twD/NAv3rD83EhF5N/DudILKjrAXG9x+pehDsubazLiymKL+nj/cDQWvQarIijbOheBSnkmQFTw+uU5b2qLdXrg/AWIJUgl/MpfAcU0+SecrkFacN4T4hVDDeC6hIwzi9J4dBg9WqPOdZQyCYvyIVUXcCHZ1wxocW1OGMD3HujFYqdySgdWGig91N6dRrg2zQ+tutK/JuxvP/9plj4nu25je6qrN7Krqe4H3AojM9RFwhbIFyCgyHjtFth+pVyPudm0Qv4U1WJVmnTqf/rE+jw1jJhlGhXNFsklhKOCniixnbZMrU4e3quLHRaUhCAG8itgCpmXldjNoNAvjvTqgGAtGBGPCcvPGeScVdaxKFWOVXi2DGgYNs/38PxEkM7xHpr4RP3LYvgKp29Rl47lh2UdRYHeg+qyIvNmzqTcDz/vzzwJvy8K9Ffj0rBh3eLFc93MoiEguOTDt8mRqLSwHhdGbMSv9jmqC5EfxS17KSjuDFdoKfvVjUMmX68zLohHy0jipxN0Kh3vqgdKrYOELZeE7NGph/kVhveqnbqiFUcGIo1UiBjUW/FAFVYPFYnBqoNiSuaoVRNyXwvASyshhu0quqgHuS087OJVkd5ljTG/JDwPf6ve/Ffh72fl3icixiLwDeCfw/stlcVrq7nOpiHaRugHUx1OAti6MNA6b+fOqEBTbHAkcJR5nLn8Lvub1vJKFVYUIE4frDQpbUFyOnXwYgmaMK4zf0nSzpqXaA9qJ3w8j0gfvTcGq+0KYfFN5BhY3EDcADDHevlVtdWXGadQTuvjl294eEGROFHvrKLvJpm4xRzYyKhH568DXA68XkWeB/xz4HuCHROQPA58Afh+Aqn5QRH4I+AXcJPdvU9WhGfEMmfsYr5/lTqQmjQOZul7fm6lDNVjVKmUeXzU4Zff2WGZ0snHFPHplMRiyCUSqLEcAp5DDuO/DxKvRO6fX+TJW5kJZBBMN4PivhqLOSK64icydpmqJ03LCcIkMOQOcIW4yNKhfgTkcZ5kOFTBVKVs1vitoqXNZ/E2pg1W6zSxsyJusWwb7ukREdFdqF2TnUuyipk0d1/QmXzO9dW+TkUnq0YF+QNnLa1mro0xLUqr8lzUJntM7DMb/NXQizuc4QifeNiTlV7foYC8OlnKGcWuT2md9+VRLly8p5xJzFgzpDhCDJ1CDGONOd8atOyqAsRhRjLF0xiLGIjKg9Az0DAz09PQ6MOiAtRarFrWe5VnP7KwHqQysYvdQ/2ekiqe6nNeVaka6/vJlpdm8d7MaXDLRCou0uuDO/Yyq/obWva+qkenr5EZeFhvZUmAIM+6feivmBZsq5GVtESMm6LYIIkr0vJlxkbS4goQ1+fJ4HAeyzuRUTGfUagvx5p6sNO06g5IGpuW+9AX1zxEwxYr7CmhRt4iDSYNOB/UDV4MqiTrUNF6tFAKKJrSp67pgeeMqDO+YdNCS7MK6NnEVDVmLnxuRIu2GiWNd3l4zQAU79NfLsqn6/LrXV71MzS5prukooPMbuYx2KKlgOs59SbkuLrFX5m/HuBBDbkAnA6lwGafIaR0nuQE9xRsnGIsQJxrnc/kUMG4hCDUW21mks4hRMG6Y6pDbumq1LlC9tCJrBZKMwStraM0213wOGx5MHtE+wWodQF0lKO5ug2jKawqogkzV0TpE31sicwNOZlITqLXCVR2l2tnc+Ebp5uvtBaAyGZAkT5yCtwlJgqmWyqMRrIJDO0mMKgKW+qk0CQwzxY+ih0mehmZI4hmVAe0UWagDqaVFugEkjbkPGZDeqXriVoVwKl5eZzneb2BREbOzrBX13NRzslPr2tA+QGSdirdnIGmlvc80XvVAtc3z3PnZ71rhtco2pdqN7ssCj1SQPN6JljijoOPFQHM25Y5zkMpDhCXQc39VeX+OrClMhSGM0JJiv7WGXvCoXmmRTr2MqQeWhfuS14EsFT1SWCocWafWdZoAzjoNkpVgekF7xfaCZMb+adSh+QxH923bwOqXzlWDR532daQxo0wSwq6RVy1Q1UrLldX7XHCB8ds3jnSeEc+oENmNhS7UCjsR9+zX6VgF1Oy48AIqAXq81hXvIPuyNgalkkVlWpcvUFq/OMQ39iMax2BpAk71Azw5AjlVOFU4Bl0QHL87lqSCrAysQC8Ue+4tYp5dJfXTk1qf/2xmTZmXuvouA1at+/bApg5CZuRjDp69aoGqlr2D1TZvt9abcR1AbZP2Zb7KNiulBqU8+/mU45gBkMB+coByqxBbcSsQ584eioUaogpYekyo7VT42YQOIkyhEMYhD+HV6+1TavFLfuFa8gnwhMAdgYVxY6OMw1axglwInAl6JgzLwduwQFQR/2lSPXtzmap07KlGNvWItmmUuzzmuo0dCjhdgbxmgGpr2ZVqb3tPS22biqPV4Jqq4Q5p5+dGcRZ+DsidDQemE7KiOMwwgvvS5vcluP5Uspgkxq1o8orA+CtgKbkDZJdhySNG3OBPIa0iGkbrCXBikDuKLARZ+CEXvUUuLJwN6JlFHgksLWoGrxMqdhXoF96vVYYElUE9YlCd+X2yolqm4nsNA1SQgwaqqRdF3c92fk7bgtUmgGmFKdjRRBzr7BSXUvGmJQFTnUFbQUOaxCIkkDFx07DYsQuX4UsOf1AzqZQHB2hmVBzJ/gJxTGxkWBZkUKQX5ALkHGQFMjjblTkVzFKRTjDWwMqiK4OeWTjt6E4GdGngaIAHFn1s0QuFVbC8SwlWGRCPqn7tM/gSoDyXkDld8KCBKkhLfd/V7nilKuI6IMu3dfdPoXLr/E4FydWo7FzxN7kqBuv8Qkn5bdCPE3feC8QNDwgj6FOWJUtBR+BUunQJC64nZzLVbEAiaAZy41FTeuACeASyFGSB245AjgSzwA2fOPHm/3OLOVX0xNCdGPTEYI8GeDDAQwtnwEqdF7+QnvX1ltOpret/761vb7K3l/8l052SgwSqbc1Dl5Ip1KvPbwKk1nWZiLwFWFNxVS/00f462aJfpKhDDwzQkvITJyF7vqVi/Pglz6hEnRaVgbLm+lEYGLomW7XVLL8iVFWqXmvrgXPSwoS9OOA6B54CvQ9yT+BIoTNwYuGOIncMcs9tnPrtqEdfEfSxAzTAqZURIaXQ+QTaZsTJej9MsFrX3Fthr1sOEqi2kb089m0o2myQCr9ehdhVdgGoLWSdiSUkmSNPmNuHcQMsjQHbhavB8E3q03EskqZ6jh1dqjQiHGX/DPkiqMU7ALIBnP5KAKkzgUegLwFPCMMzIM8o3AM9EnQJemTRO8ZtJwaODNqJp2jAABpcj470PEko1aL8a+UwVcHLaCqXSXOOHBRQXUclTVbMrk9pLUhlkceeJuPwGzNXXd+HGhg0maaEzBrPmtxMv2iMMqDGGat1ocjCD+tUdZ7qUNA0DaYJVjlDilDUEeYauv2ugCwPlbhpNBqpjEZ3DDigWoFeCPoY9BVBXgJeBh4IvB70SUXv+NWXlwYrxi0e4e/lDHiMG/ZQ+IMJlb/m7bHVczg8drWpG9xUbg8GqLbBiCsBtDnq37p7pmxPo/tbjVrG57SxTcmkRbed+fWNzYOUGKBDgsHHdIRPfNIBC0WWFrNUzNLSqXVjknqLrtQ7Ns48JwSjtGRsyKcj2iEsEBagi7gvEbhMAinCUFHnbFjVImojGKoVp6qtBHshDnAeAq/47SXQ1wn6OsXeFWynzvxk1ZVRlDBWLFVYuZ50DVZhzNVuMgOsrhkdrpDA7ywHA1TXIXuv9LYpZby/zSuqBVRU50b3zS9ZO2RiUGAQMUSLtDlCFktk2SFLA0eCHIM5UboTy+J44NhYjgdLdz4wnFsuzgcuHsHqzDKsFO0pBk5q4EcFSC0RPQKOED1G9AjhKAGWhjsHD1QrYIXQo6wQ7VG3zLL7UDeImyaz8qrgY9BHwMugX1D0acE+DfaeYjvQXtBHAo+MW+1mZWCwbj706FkE1hh+s3P7lhtEikMBKXiVANUmO8oucRQyh6K1GH/ren1tCqwKwMlunsOocgZ1qdaUMhetQGIQs4BuiTk6ort3zOKpI5ZPLVne71jcEZYnwvGJcvfI8sSi5xnT87qLnsXDnpde7nn2JeEzL/a89JJy9kDoLxTbp6yLCBjjF2UweIqGA6kThFO32RMHXroANX64k/WbAyr0AuEct57IBcoKtQOIugVJLW7kee9vOVenEj5QhpfA3gM99qauc4WHCi8rPFK4UGeoz9cKy58NJLCq9y8jh4QQByIHA1R5P7+257QNQE3tTwHXnPQK8AkGnca1cBw7yJwamqcgS7YnYhDTYZYLlk8fcfcrTnnq7ae8/i3HvP7pI54+PeJuZ7hrhHud8oTpeZ1Z8Yw55+5wzvD4gs+/JHzwBeVnnhM+9in4/Gfh0YugF3g0cDYucWYoty0Eug43juAI5ATkDqqniD2GYQH9wjGzMLhzWLnNnvvtzCdyDpyjugJ60MGphZbob8qBlqJnir5isccWFQu9Rc8GeGThzMYhChK9L+TPqnoWNdvaVW5BqikHA1RwwM9oE1jl4YJsY0jLO0Bu4R6xqaqGJitMJq/HbiTB5uO/tolziNd1HXffuOTNv+mEr/gNd/nKX3mXX/3kXd56fIenuhPusOQYODI9C3PB0jxmwSNEO1Yrw0uPlDtfHLj4VM/5h4WLBfS9oK/A0KvzWBDKCm7y8ELhCNcaO3Ff3jqnEqouoF/CeYecG/RC4EKcWopnW4TtLB3rGcqZL+0AZI7yvE1Ke4teWHThaJfaAS56dGVhNYAdwNrkIiZUav08NIenHVrxdTb8KVvsgctBAdVVyeRzaNmY5oSdYlbbWvmbL9/6Db0mP5ORbk62da4zwr27hnf8G8d8zW+/x7/xq5/if/HMk7z15CnuLe5zJCd0svBu0i9AHiHyCioL5798sCwvVjx6wwW/4knhWYQvvAiPnlf6B869yjD4vItFe/xXugEuVtAtoLuIzEplgaiBAWRlkfMO6cUxq0FhGLxKJn4zHujDuPkA2BbF2bCif3Z1g1rVKnRuTWh0gN76eK0HVQ9SxWCplsq9Y2+/bg+7u7TTA5DXPFDttRns6yFvYmdT6t82su7eaiBqmAC8NPC61y/46l93yte+8yn+zS9/E2+59wx3j55mYe5i5Mh/mRtw7OXY3z2geoYMwtFSOVXl7l3l3rHlDsqyV0xvwU9vcUMX3KovhDEKJjC9wIAG0AuUU0SPUNshtosf5Jxx3etxrHAW8wu/f55tFyg9QQ101nHc2KjeA9BgfXoWtXbMoppsalMlb3ou1wdQo/fhq4BB1fKaBKprfw7rAKy+tu5LYCvjOnF+0hTiE9zSVCICnQhP3Ot48zN3ePsTT/GGO2/gzskbWS6ewshdRI5c3NqDPvIs5sytqmAVGSx6PtA/GDh/fsB+wsJnLLxinaG69zaikSE6WKrDDOMLlHPc2IJjnIrXoXRVVaZ7JIARYT7NBeKN62nWcpptqPh82JAhN9ShyuCEHWp0sCXBut4W+irEpZG85oBqq4eyi6q2beIVS9LwcW1TfC1j+hWKAipCJwvuyCn3zVMcd8/Qmdcj5nWI3IU4TOAC1KD2MfQGubDo2Qp9cEH/+RUPfrnnpQ9YHv+c5fwTlv6hxfbZIgrBplMAlUVwCzJInP/yGFhi/RAF6MhXEHSOYdK9bmzV4EFr5ZmUOx88fcaJ0uF5WHWG9JCP6Fc9rxkmQeqQAeq1JK85oLoJadrQ6zZZqXjBoB3CyV6H4ayheFKHSd4MBoTzoeNidcowPAX2dcAzoE8DpzgjtQX7GPpzpDfuy9mDc/TzZwyfPufhv1rx2X/Z88JHBl58duDBFy3n55be+oGVmgNFAB0HOw5UjGdBF/hPgiTvV8H2lAzXub9QieMIvOpIcEXsQUrCHaHcISNjAKuZ1KxHM8lwb+Wy8qULVNuwqTVhR8QnB54qUL2KeR5/6yUe1T7PQGiF2Zu4lVpeGeCFVccX+mMu7B2s3gHuOFsRxqt9586O05/D2QN48QH2U484+8Uznv/oBb/80YFPPzfw2ZcsL19Yzq1bYMFGOAjFDnDjKyECluDUtWQU18JAnvt5T0Aj0Qt7Pqcm51E+HVWvdeZ69YRL4luQOgg5GKC6to8RV5VIaJPZYOWY1KYBYlMgtSnMpEg7zFTZRT2jsrxiL3hudc6nhhW/SnvuYlmgdOKmkahZObuUeQXMi2j3Ray8wso+4qWLCz5x1vPs+cBzveXzanmEsvIgmMPSWPIay0HLHWs8J/G4BqsEWGm1wMIcFkJkerci0cVxkbdst7zSyP8tSF25HAxQ7UPm9N+9J9YaxJmB1VZxNZhUbiIZsaptZFT28oTr4gNnq3Oee/QFfuniM/xK+yRPcMxCADlxi47qGSKfB/kMKs+h+gLDky/x6A2Pee7NKz7++YFPvjDwmZctL58p5yu35l7Jasa+yF35csCov0DUIDb+KlF6uSqRJvrGiusThnNzgachX0JYtI059SrkYIDqshgym57vktC6+1oGqsYLOp6rt/y60i5IAKugVq7N7PwCBpUrdF2rlovHZ3zm8y/wkYcf5Q0ruK+P6OT13JcTliIYeYzo50CeQ82nsfIC5zzki1zwCe35RD/w6XPLF88sj1dK3yvWG9GTt0yKhXZKTyn52sktXXkKsMZlc8QpxZb222NC0qI+OVhqVL2/hHBpK7mOujkYoLqMXEsDmqNKVepfcb4GpVYfWwdWa6IrMjNL5cv5hhI9aVrL8LjnpU+8zC89N/DkWx5wfP855OgZfoWccF/gSM4x+jLwImpeZmUe8nJ3xrPdio8tBp7tLJ+zysNzdXP8VqBuiJKTYD6KNiKipppBRiqpQ5iSIY1ynsArB6gEOhRGw8JeFXiVZvtlIq3Qo7zUOXstyZxX31WD1asDqNbYeLaunH0aw+rE63yuY1U1SVij9u2cnzxPk8GyDqyg55aLT6z43Ide4WNfdsG9uy9zdPQZenPMWzrDEwws5RzhnF4ueCwXPCcrPk7Pp9Tyud7yysvK6rNgX8BN8D3HufUt6n5ssVKIXhISwFTHTfWwpSq63xGr8ve2U29V1Jc2l7oWu/EMOXigamlWe4t0DxEWzbjFnEaB1uSn3m8dT+Zi86mN0alzyWKftzz+WeWzTylPHfecLs7g6QWPTwxv6uCuWAwDKwZeloFPysCnO8vnl5aXT5SL+4q955zTqRurmT7gBZLk66rCrWyqowuQoGj8hkmkTLJzEtW8fIGKUaUU4xDG0D1VT1/asHVzcrBA1aLfLTJ0qYazT3aVx0mKN3amNaywGccugNWyQzcDlfvFYuoD8BCGX4KHR5bn7Yon+oHlOzr61xsenMKTC+iMpUd5GctzavmiVR4NyoV3aOBYlE/C4J3uBVtVyuwItLTM27p3ipJrdI6qpq+BkkXqr4fEijeL+03LpYbjFudrHd/KdchBAtW2TWEXElPccEmwat5eaS+6LmNTmV1TgMlsbwCpsbkqgZXDFKHrhe4l0I/A4zPlxS9Y7vxa6N5p6d8MLz8By2NlMMpjUV4elIsLhQfK8ovK4lNgPg/mEeggIOpYlXqOI/hB4BkT0hyt5hSsURbEUTJJQJWH0uxP/nVw2zZzy6quXzYClYj8JeB3Ac+r6r/mz30X8EeAz/lgf1JV/4G/9p3AH8a9T/8PqvqPtsnQZRtAy1JxI41KxoejfGjjgla/fr/dfy+DsAWPKjyVHyOc9MLpy8LyE2AfwcVn4OyXlIfvEHgLHD0NegcuFu5Bd+fCnS/Ck8/Co4+D/QKcn7spwnbhVUCjDrjiwHHN7HESy1wyKyr8ypfMqpd9CCAVFoQowawcIDFlQtRIusYOhtPRerB6bUPZTZRsDqP6fuD/Afzl6vx/pap/Nj8hIl8NvAv4NcCXAz8mIl+lqgMb5CoLf63NZg12TILVunN7y3jZ1UXScgqdCAsxHBnh2Ah3xHAH4a4V7p/Bvc/D0YVgPg98VNEvA/sG4AnFnCpHC+XeoKxeUfQFpXse7pwrDxZwdgcuRBkuwPbO06ftFQ1fA/0WvwY2gLrmRyH/qY6S2peHNhrsVMGtS6nsoTpKNiW9j1fmqx+sDqUEG4FKVX9CRN4+M75vAn5QnV/Yj4nIR4GvBX5y9ywmOZQvEE2ZkzmZ0XxntIztvwVUIIVbNmGBcCSGE+k4NR13uo57XccTC8O9heFkaTjt4BTl7pnyxOfh3iPl+PNKdx/krmJPLMsT5WgBp2q5v1KeHuDBqfJIlLO7sLpIAGV7pT9328pvwwXYlQszWLDB7zkgip/lJ2m2XwQmpz4O6uYp9v7Xas6uHHELWGgjDIVZgGl2YAKs9HfaVnUr1ymXsVF9u4h8C/DTwJ9Q1S8CbwH+aRbmWX/u+iV/4ebn99neZoLT1KmN7EqnL4Vz9Vez6XwFNmLoxHCE4UQW3DNHPNGd8uTiLk8e3eWJoxPuHy+4szCcLOF4aTldDpwsLHc6y8lSWYrFrHDuetXN4BtOlf7YsjpRzp+0rNQyqIJVjFqWWDpr6ewAFwPD44H+0cDq4UD/wLGx1WPl/Fw575XzQZ2bKMCo0ikEJwdqld4K/QArK5xb4czCmTpvMufqnbuoGxXRi5vGs1ItpiorRD8LbpqPA6y8btsqYKrmW/i6HtkVqP488N245/TdwJ8D/hDTH2dGIiLvBt69TaK72L2voiEFG/D2xuwUJozGHsW9bV5aSRYnczZlMHQsWHAsx9zv7vG65dO8/s4bed0Tb+CJJ1/H/btPcO/klLvLhWNTBk475WShnCwsR0vFHBvkWJATgTsGuSvIHZBThWOLLi0sBjozsDADx9JzbC5YmnMWPMYMD9GLV7Bnj7CPHmMfXDC8sqJ/MHDxyHJ+NnB2Yel7GKxzDyODRVcDw8VAfzbw+HHP44cDjx4pjx4rD8/hYQ+PBuVxBC3lIvyiYekHetXo/KXHOSw+A85xABfAyrJ+eOctSF2f7ARUqvrZsC8ifxH4+/7wWeBtWdC3Ap+eiOO9wHt9HLOf+RywmoxsXYubYGBzGups8JTsvomIt3tLR/NvvHHK6B6+6RlZsJBTjs1T3Dl6A0889RaeftvbePptX8aTr3899+++jvvH97lrTrgrS+7QcdcYTjvD8UJYLAVz0sHpAk475HSBuWPoTg3dsWCWzpOwWSidURZGWYilMwNGVhjOEX0I9mWwL6H9S7B6gJ4/RC/OsecXDKsVQz8wWMeqrB3QfoWuHtOfP2T16Iucv/xFHn3uRR596hGPPnXOg+cHXn7F8so5vNILD6zwyAaGBRdWudAMrPBekNV5vXoUN+Uiq7k0LfoWmG5SdgIqEXmzqj7nD38v8PN+/4eBvyYi34szpr8TeP+lc1nJFFhdqiFNRNqMswFs68AqAsm8JHcCq3jjpATr1ALDHRbmKY5P3sTpW97C6b/+Vu78ijdz95k3cP/uM9xf3uNed8I9ltyTBXfFAdVyIXRLQY4NcmLgRDDHBnMkdEswC3GLyXRgjPgFI8CIm4TsVE/rhyIMoCvcHBv3q4Nb6kp18IswBB9WFrU9Opxhh1foLz7L6vFHOPvCB3j8yx/h8c8/z8MPPuL+s25U/EsIL/XwEAdWZ8C5KBcSnBUrK8WvCKicoBzjOkOowovq+azRytc8l1vZl8wZnvDXga8HXi8izwL/OfD1IvI1uKfxceCPAqjqB0Xkh4BfwKn/3zbni98usnUz2He7WcPCZssaRNoGrKbxaeqKQWSBWZ7SPX2P7k1PsPiyJ1i+4UmW95/g6OgeR90Rx2bBsXScGMOxEZadOLa0FMyxIEuQhTvX5eAUVn8n+4256XzJlgjHvpAOlMSvza7BmZ2Svtipojpg7Yquf0h38ZXIE29ATi2yegleeIh8wWIeKWYFnYGlCguBpcJS4NzvB+fEK5SVKMcKxyiLStULv/mSfpvl+gDqS4nlzfnq982N09+3JvyfAf7MZTJ103KpBrCtPpgntkPCEhOd4piShVGUHssZvT6kX71C/+gxdrViEGVYCsNxx3DaMSwX9F3HIB1DJ1gjqJG0gPJSHHPq/K9x7CmwqDDmUop8hv36rPo5fobozE6tX0/P+q97uOXaxQBLzHCPrnsaY+5gBBZqWarlSJUThZWKN56LG6KlFG6g3Vgs5zd0EG+s97UUvg7mQxcmP4CM6vv6ZDI1mRNodrCDkIMcmb4Xmd+6mjILM9bpfPW1RtjC3n3plrIpM+Dc18Ggj7gYvsDZ2ZLHnznl0S/f4fTeKUfHd+jMHQzHfvCCwXSK+MGYFljiuFBtDxP/JxsUns61ylxIxWPUq4XDBQznyHABwwrtL6A/h4uH8ODT6As/i37sY+gvPsA+NzA8ULewqEeYnMmJuCUEjRAWvcFklX7kgekuRI/tF6SFkjfLAXX1q2rvNygHA1TbYspsINk2A7ukMResNqWffxOHHfyot+hcGanVgUHOuFDLw4uBlz53wfHPP8asHmEfXNC/1XLxesv5E09zdnqH8+Ml54uOs4XhdCEcL8QNW1jA0VJYHimLoAICapofHEc5LC+r/xKqoD2sHsH5Z+HhJ+ClT6IvvoC++AB9+TH68Az74CHDS59j+NwnGD79HP2nHrF6wXLxQDlfwcUQjOdhHRq33MMgYTC8xumGYQFkEejUAfGJ3x7jwCqA3SF35Ne6HAxQBdnUIFpv50s3oNmf7XYQjxMCxeTkrb4U7mSQy2GgnGQ7qHKB5cGwwjx6BJ98kdWjz3D22ed4/JbP8uBNX8Urz7yVe08+w72797l/fMyd4yV3jjpOjwynR4a7R8KdY+H0VDg5haNTYXEM3ZFAB+LVwcJQ1SyWL5xadLiA85fglY/Csz+G/vz74QOfQj/xCvbz5wwPB4bzgX5luehXXFysuFgNnK8sj3s3LOGhhYcqPFB4iPII4THOkB6+9PXiF9nSNOAzV/FMtW1+LLcQdtVycEAF0wA01bkv9bbbgBj7eJNKBlaTNqxraethGolTAs90QIee1aMzHq5e5OWXP80Tn/4I957+1dx54iu4++TbuHf3Ddw9fpo7R/e4c3TK6fKYO8fH3D1ecP+04/59w72nOu48bTh5Sji6Z1jeEboToTsSZOE370FBRvXt7FH05/D4C+jnPgAf/nvo+94HP/08+okz7MuW4ULprRtO4FbtU87EsZ4HwAOBV/z+Q5QHCA+Ax7gVAldIHOw5iBsIugJsxqp68cMZcGmE0exfKtJq65exY+2ziR8kUAW5SqIzN4FLg9S2EW//HXyWFCY7SVNJznRgGCzn2vPQnvPixYvcefBJTk+f4e6dN3L/9I3cO36GO4snOe3uc2rucsfc5053wr2jY+7fOeb+vSPuPX3E3WeW3Hl6yelTHcdPLlg+0bG4u6S7s8Qcd8jRAll07pOc8d3CDtA/Rh9+Dv3sB9AP/jj6kz+J/vRz2E+t0IfK0ENv/eBNkg3pTNzYpwciPBDi9pA0LuoMWAl+QXcHTG60uvsNjMrigMsBn0a1L5+G+FqTthp+ebkKQnEwQHUjXyBm2JDWm6fnx7NTofZZETIygSWVR91o7fPB8vCiZ2nPOVp9kZOzX+bO8TH3T0+42x1z0h1zKkfc4ZQ7csQdc8TdxZK7R0unGt5ZcvfOgjv3F9x5ouPO/SUn9445vnfK8s4x3Z1TzOkpcnKMHC9QUXS4wD5+EfvCLzN87EMMH/oow4e/gP3MCnumWD/3b7xQuwOVMFgzB6fHUoaL02lwQBXAahCN8wDD+spnAg/VxROAauoxpLp89Vuw9pX7Td1gV5Z1MECVy7aFuYkmMmqa2w5L2CT71GWzUzVYBduMVa8ODco5AwbLQlcc2ce8qMLJUjjphBMRTsRwIsIpwh1jOH0kHHXO0H66EE6PhDtLOF0KpwvDaddx2nUcdwuWiwVmuYClQTth0IFhdU7/ykP6Lzyif+GC1YsDw7k678UCKk5tC8uSXnhGdI4bG3Xmt3O/BQa1QrjwKl7vbVSqafhBAKhBnEoZ4q9VP822LyXZtinv0vTn2pkPEqhqWVeYK/2qv0Ga79EqvqnoR7hWI8gVSkxC0m+en0FB/MTflVXOemVphKXAsnPDExb4Y8StZWxhsYKjAY5Xbl3lU4UTCyc9nA5wMghH6oZ8gmc2OKN2PyirXlmtlL6H3qapQeKHVw0Kg2r8eteLA5ecMQU3Vy5uB1ar/Bo4JifunjD4c8h+i7B86QFULZvKv49386amf5BA1QKmKwGpPcg2YNViYEXQvRSoAY0TaFnkS8I5ieec8wPvRkWFlXjfVZ1gjGDEYIz4BYwljqPqxI8Gt8pygCOrHK/gZOWOOwv41ZNXODbTq3PT0vv0bPgAIeq+HlqXu+BHKoCrRZP/veyjhZJscTnw2Kzs6etfcvVi/X3BwJ7XVUuE8InitSfXW6r1UHVwQDUXnSeLNJdL1pFd4rUwF6xmJX/pCthOoo1F0wBNDd42nd6FVbekumKwxmAXHaYzmIVBOuOQqXMjwJ1TOz+4cgDTK92F0nV+kvJKkR4US2+VwaoDCtVsS98n3WJ7/tcv2Q7+MBvvERmhJvd5CXz9170snIutBKiW77711fzaBKht5Mo/eHk5OKCaI7Oax7aAlYfbofYnwWpmfGtdx8xOcMuEFUeBfH/XCFjO4qziLc+2A9sx6ALFzaHRRYceGcxSkKMAViYt5GA9K+mV4UzRc8WeQX+mcOEc6A29U/l6dYuUWu/SxU1Ctqg6GNEIJX6BQNUIWO4n7Tug9GDVegHl6q5m4FSxKJ1VvynKW8i6WnlVAtWktPrlhlbU7NJbAMwsmeowl23d28SxzlhWxONXcrFOj9O+c35buiV0S+xyicgCOmcQl2ODHBlk6dRB6cTN+/MTk40FuVDkDMxjkDOFM3eOFdjesS47KDoodrDo4MBJ6Z3XBOlRXfmMetBSm9YAzFDFAZQrqPFLH+fjTXOHQnXVbX633cJRLfvrKuvr9lUJVM3+ua6mZnToS2p/m2XdE93EpvILrd61BVhpIxGpwUpxU2EGp0Tpylu0pYPFwoGVLlAxqDGIMRhjvIsX5+qlC8OlVJElcAScCOK91Om5MpyDrBRZ4T/lKawU2we3divAoCpoVAEtyUd6KphkBQhE0VZVJ9UvMgaufIBnqpZbgNokV91/DhqoroNSX5eOHaVRoKaKUt+zrjJG18aRab7TsLUH5hGvezyQIpSzFakBawQxfq4MBqPOi8JiISzUzZvrumAMF+/sSdzo9IWiR2CO1DGrc3eDXCgi1il7apHA7rytTEUol8PShErNSpJAsdxPOizYUxZbKHoErQBS66r/FsauXg4OqOZSyUpbedVI3UGibCr4PntDkXhmkFYHLKnPK9hgbhZvZBfHtFYGLgQ9EzgWOHK2KjlyQGS8Iz3TeYAIhiBAFuI/3FmXsjcOCZZiaRpvj7JWUeNcweSMUIraDKUI8EYGTt7A788byuegPn95tdRs7BaMblYODqiaUndezU7LjEZ0AK1syqY7kn3bxyai0xFShsRzpmIjtVBVxFqwA7rq0YsefXQER0fo8RKOO+S48zYrkCNgqXGen/HIEdbNc4s+OAblDFkDIgOYHjF9+GQI0qOmR3RAxRZzBcPzjx8AiBa2BFaeRblRFO68Ial8Km4ohMF9NzC5QR3/gSFLb3qlv1tpyZQdcFs5GKCa0n7Ci11o21dmRXxNUuRRy/Nby9x8N3WSzRaD8rY8fAVWXgES9WzH9siwQvpzuFjC2REsj+BoiR4v0GODHnfoicASdOHsVnTiXBJ7JBCrWGthNcDKQt8jg2NSkg27VElf/dxATc3KILEsAVISSCWHgSaofCQ2FT521s8pVwWFshZbSuB1mCdeLVK3un3Wy8EAVcvoOZJWydcxkMvU1Fx0mQonjctX0aIn45wBViMVkKQH5XEoBAhIgCWIdY7tGBbQ+23VwWqBrgT1KqEujP8KqG7zw8yNtchgkdWA9APSW2RwK85g/Zc9FMG6eXl+RLnPfWRnCa7qJUgBKVXBQMmci2PiAs2KZ5kxdsfCwrkSyhtvo0ORffeDLWXXpDbddzBAtU6mTKVF4fb5MC4BUnkeR5ev2Ogxjn7Gt5iWsSwWIC9NMhAJfhVitYgOiK5Ajdtshzpru5/HInDkx1fhQEpUkcGNmXKApZjBYgb1WqCCJYX191nNDdyZXSrLZs6qIIBxAqe8tpzal2KLZrQsrjAovn6uuVUsr/HrkBaLm7COlBcPAFdbLXJOtg4KqFqs6tq+tGyrn60xOtUkpdmeY2u7vPIwpTK75HRDSNr5BL9aTMZQJKxU7FQrAxgrGCwG8TYgQcTECFXFAVaY4OfVPrHODBXmv9jBn1PFDCBWuFD1X+gch4nz+LzxXatqW0cuVUJ+NIKbY1RhxWUdgRS+zMF1cT79ZizXqwRuaq6zc3MDWLtLMgcDVLU9ID9/ZfW3pt+ubQhrQKq4eRJBpNIl1qW2vvR7a7AhqZbK6o9F1Q88FzrcgggdzhZuUIy4L4LSW5LVW1wP7zxDUbeJTRvq41DFqjhW5cFMQlgPWgM5aGiYApiyHlU1x6pylpRUwbzIIYx44CvtTwFya1b1apDRy74uQOshH2gBDwqowu+6uppSA3dKrJKd46tvbDGU0HHH+kOTPo7tIe3EZih30YazLulR9JKuBQN0cM3bqdKJ0AEdygI3bspYv3jCQLbIg6MzMuDGjJLmAQaQQkEDKEW2JJ49lfPw8OcCVyxGU4xqyJ/1AfLwee1ojC0UfBSoWacH16cnGkLM65wMH5CamMtBAFXNplqNbp1eXnfWtXW8b5DaKLU+xXShApvRdvBmfITyb7JatFXryTCa1L0AUl22LfJjrxpJVOvE2ZtEkqrofahLDEccWxUGnceVshSMVToVB2qkTSPgOL7k6ie9vsajyCV20mxaY1F7ScFN++P6/BKTmzG/TcpBAFUucxjTpRjsBAXZ/xuySmSK+kwh8JaZCZNItpUWeOW/BZMiAyn185DVzakziLMvBdUtGJV8JEEti3auRvq+IOWW506oDFOpojSAlEgMM8/feQlQeXzhfDM7hyiTNHmCJM6h4yG+Gy78wQHVOlmnsuxWj+Vro/USaTLhhnrUjHcrqpcF03ntZ3Qf0/UyaS5jDEzFpmGwZMmo3MSZbFxScY9X99SxK7FJ7RNfaXG0emahDowq+GRxA+OlWgw0qWqOkElaUTm0kPC1cvJtlp7qmE2VqmOeVqteb0I24ss2mVsX9oDUwIMBqmk7QxlmSuK9oa1uCN/mYeNUNj2j1GjW6JRTrWpNIee+7OZEmZ9vlXrTVi8f5b7wVaxIE5tRD1IRrOLHAjeVRUxWYwZ08JeDaxgFtc5G5Y4lcyGcQCmtgOzSHJVdip9iv24fqd0l9TExKUnA2Kzd65dt28el8n3LqEpZ99Zq1tOU+aey9bTreJp/XPkzmZXANlaSWnHZTaZAqjyX1ZmvwoBR6VT22okzgQMtEzcxOUSsQnCIrh6JFPywBiJaxAGa4B35pePNpKAcCJpyOn45tjYa+4cg69jy3uWGwerggKrFaybrZ+ZrpajjIvw45tnPoqlKzJC1Ceza5KTokOuS2OpNXAVMalfaSs02s5TlPVvwxi1BF+LBCj8BEKT33kEtboBonoWYmFbg5MZEBbjRqOqFGkjUOoHUpm+oZdZLcLqqnnr5eOu7L20WmWogU1m9BhA7GKBqva2m9mdrUnUFbuihM4nO5aT5UGX+9eKoneMZUTRv1ypc641dMBN/wYSwKsWUlBCJCg6UFgJHAktJzMozKhE/hGEQNx8Zb6hX/9XQbyFSLUDJQXUqToIvUfWkLk1WHldDfed0Na3vp9sadaYU0cvJzjHNadtb9ql9ycEAVS7rVMD6OJ+vNruD7iq7xHWZe6qBoOOoZjbwiTzkI7FDNdYqkhJsUa0untzVWR/OGcQDWiXXMIoDJrfyg3Fg5V0dK84zKJ0HrIwFGTSOrwrTaRz6ZTAqLqeS5SuqezmjkmyWXoakeS2uq9F1rKq8MuOtsCGGa5creQHvTw4GqKbKuansymawmlN/u9fxmie8jkLXB9o452nLKBrNb2jXXHG20tEKFbu+3TOg/F0f7jFZsDDCO1zvsjsiWIXVPnuB3qBDAC2T+I2aCMiifgoOAaTC10alwzknjiyp+FwI5bzEZDPLAcrUbHEb4rNjA5HG3qHYuAqZYxOY6qDXwKoOCqhy2eZhrrXJXENFNpPYmKY0DvOeJFmoqrkHZNbxZ/M6ynVgNQoTgmlMPnITU4RzYGL9nvFhwuIQLm9+GxyT0pXAhUE744YUDOLcGFuBlaAXLqxY8YCVnNwZAaPWr4OjGCxpeQfnkSHmLrCmLP9GArNyJ8N8P01/ihpo49LmFlkrftekFbVlF3DdFUGvAXnNpgAi8jYR+cci8iER+aCI/DF//nUi8qMi8hH/+3R2z3eKyEdF5MMi8g0b02A8Nif/2tS8YYZkJo35UhhYNslERlqnxfeWulRBPyk4jHgVyN0T9qUIw4jVbMxKg2qWBuNs0/I4ueeV7DgoYgGkArR0oF1cvUb7DlYdembgkUEfCvrAoK+I239k0McGPTfQGwdYGqY5d26Thdvw7o+9C2T3+dBvYR6fJIByIOXqL9+Xas5fXY9pQQhfA1ugzlbPJMoeenvdvDZl5Aql0dIvJXMYVQ/8CVX95yJyH/gZEflR4A8CP66q3yMi7wHeA3yHiHw18C7g1wBfDvyYiHyVahwtMxLB+f7PfVXnWxCtW9Y2MvGam2weLZpUnJsCqRZTWnNcq3mZRTsHpoJwVY6T8gGiU8beeG1CL9Y6HIlNpaAemCQBlAvoeZUH3OBHITKroP4hqBW3PHGgOWF4Qu/Zl/ec4BqCZGgpuPELxqWqNstXKER4GdiUO4nQ73/VgW1E6FDyZA5v2Yq1ce1VIzMyPqc7rWtbW0lWqevabS4bgUpVnwOe8/uviMiHgLcA3wR8vQ/2A8D7gO/w539QVc+Bj4nIR4GvBX5yXb6PQ9tUv4Kb0FzhdjKfG46bF6T4iVrLel2SERhJ9neOtMNLzEDpubIRutWbNHWmPKvrbquldf90qTwQSfoVjGeB5egrATc6fcAZxocUsfrR62k0p8QBn7E9aPAbFYYkSALNXP3N54lI6dIl90uV5lJqnGc4qwHtCaluBOzmIsKMKPYmWYSb5oFvZaMSkbcDvw74Z8CbPIihqs+JyBt9sLcA/zS77Vl/ro7r3cC7wal8x1nmLY7GrfzW+zLFGfRs3wkny9SKY+0TkUYPbt0go8hH0FQkVrKnWs1zedPiuChxVgFT9qepc1OlGCtHOCAi+J1K/qfCsZsrk4NXFoP1sXhDmOLYk8Yh6KSR6X7zq7+7pdk1wzMt20OrLEktDY9Mo03K+bmSeD5nm6lPz29RLRbWurb57iuWCcBa/1LaXZolayW2oQPPBioRuQf8LeCPq+rLUqs4ZZKtrJUnVN8LvBfgRESPSe/gsO7JBQ7ELnBg1VQHq4SLhHZAr/W3ZEXzlT3qzBMPIcBLAT/RcfcYpCS/OSRYLbTZynOtwq0tjzR3i5yG/ISpM/FfAKzAngJABVua4I3cyY4WF3bIMh0PI1BpnDZj1bNqDcw6gJXFehixMXY3Vcd5UnbzAw3uN7+eylm+wot6ylFrhsxm81vJrG601+iDRWEXwGq9EFtxbSYCbZkFVCKyxIHUX1XVv+1Pf1ZE3uzZ1JuB5/35Z4G3Zbe/Ffj02vhxjCo1OQdMuVHd+HPZtLBCahYRO+tUT11TWe1bWk82p0kNdIpgloWQDIyCOqITPErzbjUerJinqKq+06oPX9ZFAegbyp7/DXWfM6gEWB6+agO15KRKi+8IDs+ETP9yVSU2ztdzAATlMg8wqPoXlSZmlZUswaIBdT7Ww2rKIuLHemkaPuGZVa42bwsF24W/LNAUT3x99BvBoBEg0t3pJFqyTal2ZW1zvvoJ8H3Ah1T1e7NLPwx8q9//VuDvZeffJSLHIvIO4J3A+9emgTOmhy0srBsGMS+lPVuf6reF4kLqJMU2lZHmtfHJGLT5isj5UMaRRPyEXuO+ZYlhETayXwydmvC9K377MvWm2Vaxnql62gTQedkkxCfJg0IALZMBV125MZ54ShPideoWG/W/brOo8ZtYrN8GGbC4TT08qedIyaOBW5hUPRomda+c7uM8HiuaG6RyrNT0O8UGrk/mpLwhjFbbrA5Qh9teNt65Y6XOYVRfB/wB4AMi8i/8uT8JfA/wQyLyh4FPAL8PQFU/KCI/BPwCjgR927ovfiHvcTZ+xkC8B9tsLE3h4giYVnVGLIINyF+hW3rhr0O1Riby81I2+chDhAJs4iKZDZfEeadMqolnA9Ehb1nm6F0gqkebKXcaIJmzqRxmQ96lBCuy56FZPNmvGBCjcVX4aMYKqp51S7bbwZXI2qTuDYD1hvGU/8Cdcj6VTYWOD889SAXHrgKM+XTLCqAELhrtpWHXuVmZwwF9pWl5uCG0P8jvndYLayI2L/LtREYP7Abkroj+zyWxn6D6rXD2qXO/Xag7F74EFp3Xi1a/9fnWtSgjZr3pzRN2a5RzvxJ/A5vCd3RhIX6EkPqOX0w7SQ/fAU1yPOIm35avS/UhNB5n6pGk+4uX66gkOUDlIJVAtcsZoQhdZIa+LJJmyXTGefTsjFvavev8vj8W/1ZSxS8XKAwD9D0MVji3yrkV98wVVgi9BvXfAxpJGVYJXMoPTZC01JZ4kOoIcwZxqqG32Ed/VgE4oahDHzw1C8b782XdXZfhcFPxTsQ5BTiXEs0aWCM/m0ig8jOq+hta1w5iZLqSMSUlDq3Jt8Jv9hrJGVUef151rfrKXxrToTZfGgesOUlS0TqM69QRFrLINYG2+8KVQAixmQoTLS++W3noEmFA6QmqkFeUJCumZPCkU8WSguWG/bhJeV/OdiObCiwqsCp/Lo6wzw0QHjSsCtaoW9UdAT+52AQXL4gvtTTG1ynB+KTxde+AyQQwqoCn/b6ew1i2lcvDQR6LzjiTi+Y7sq/cZCnGKqt64CUTOiigisfqp4eRbVqyqBabqkFKN5xv3ZuOJmRWhY8HF4hmxmgRv5KL4MdaU3bxrLOrH/eoSZWLF3CorvHd7+5yQB84WMmkknqEv54M4Em7SmpU+KM5Uwy5zVctrpAsGNAlLjwqCdj8pibkkKzy09SY8PYKL7AA5/nKMAG+NStTXvkSOokmphkSzMEptaeqnte2muuXuvlNwdNUM90vMM1IRKGch7lbfR4EUIEDoyAWB0z5OKq5zKqukqn9XNJ5KY6bkTdjyM5mYcSPlDaeHdXG8KAyBZuPiriFN7O8gCawCmgSZ96pY1cZx8l4F5Y0Zy636NSNehrc03WtjsMNscw5sgaAMmkai5ujlz6G1NUpHZmXBEkLQIh39RKKLmGYQVoQazy+Lo2Pys9qTDVzWxzrJQeoGqzSfTciLeajoyCHKesY1hbVeRBApSSgCsrMQAlQ6+xStcwBKC3ClwA1CrexFXhekndegh+kpOq5WXDBtuPPSZwU4sSQ2atSbOEze/7GTOyn7JI2lqqqqQKRssxqu77CPcWy50A+oDMeonHoQZh+F5hT8bXWZ1CIGQUPRoq34Ym3c4kD6LjkFsqQMzqfH+OBPOZVcaBfgFCCqGmQEpBgswqhcylr57qgaycQukFcHUnMS0Vht2BXBwNUK1J5AlCF34FpdW+O1M8sJwB5HvJwsePKONxkIiHuoK5EkCKClLNNpX3R1O8jYLQamZ9jkMaF1ZynUoPQhqos0ZtEjF4bTL1IPgBh2gJIubImsEpf+KrN14dRkMGv6Qd+GFqyMakKnQU7wNISFxcNAzXD5hTdYDZ3+4FjWtwXxDyv+TPNq7V+1grRsJ7Kfii9PZM5WTq0bE8ugzNPDgqoggT1rgapbaQFTu39dJR36tCRwvlW+DqyAFKBPXSUK7g4wNKk7gXQ0LoDqWMEXtUJHSh03BAqHymUvv3ldadNVTn3OZdHmb/fStD2IKVhXEGYMuMBSBIYRRwLux4I3WrKHqx8xPlwjADqAazUwpFf+8+QGHbYH3xdWp8PxbEqB2QSWaWjdxr/5eATXvI5y1J/nxa1crNwdZkR41VMsXyeBO8j0lnp+mR3BtCDACqLG4YQyhG2uV/6oF3fTWKSbVT7BfvIta9M2quvZ50W/4metIqwG5LgunsYe2QCk8lUK2KHCfsJxEpbTF47aWhC2nNO5mp1efKFVgCWRK7mgEfiebcfrE2ZcTxwF/G2KA9GYQKyEeKwgKDWip+wp+HYx+jqRuiyDAewSoMx3V+bPYsw4NOiGP+hwYGVLcqdxpiVVZDAq1YLD0cuiyua7cXnW7+l6sB7BDKF0q6+hRwEUNWMKpwL3XGTtFS5EEd9XoqtHMEd05TS5UyMT9rp5Kqe96jLImyhI2e+o5yHyryXuQv5lJDCH5Tm+dFszwGVLSAqjQPKgWpcIdlBVVGhQSXQ9KO/SfpcUR7RaDAvyhhsUWgCGevOa1y7Twv0L1gY+C+iLk9pKk8GbEKhfhokMqt6WpKGBLTBrEggdQkN5cpld7AavXJ9XA21Ib8jS/Ay6eYvhl3A6iCACkobFZTlaLIB2qwov6eoj6pyWqxKSGDkVIgZ6WcdNjCphbhpQGHZczxY4fmIax5+hHTsyhSqW56uSvIgkFhCYlUBpsj+hqvxbNFSGoUpCuaNz5nRXPGeOcU4bwkSgF4jYwyzB6JdTmvwcplS7xIhrNfnshcAOmc07sbA6LR4aOFBpd/6+RkEqwaDdYM3NDHWgkFlrmK26T8HhF8bZB03LKnTVLjIvrZCqzU1VIPVBvA6CKAKb//8OP+NZZC6Wst6i29OTaBTSPZqDfTfEFzqpjYfguZMayqt8OaPtihJANWabxfYRgArSK5MwkBXS9lxEiTlQKSEXh5GZae/+S9VA6gYRl1BBRBUmxG/eKhkjMov5R7rQPwS7wGkkj1ONfP/BAmkoo8p9ezRqXCDSJpKI9kXYCG6Y1eT5zVkXxAsBJDKhjOIBiZBVVNrunOjE716QApCW2vlOceetWXa5kU3cWsjW7PjOwigghKoYNS3RoCRl2/EqBoFLxlaYkEBpILj/xogCkZWpRdBito2VYYp6HMGUkHrKcHI72uWvubX8gkxIbMJrFzwdE0mWmeuxmpRYX7KT7CQx3kwBvGbETdGzC1l5Q3lKv5DgY5YlZRJuxxqyGmasTh49yxu+pTQq9sfROhResQDuf/iJxK9H2t80ziGJBg3aRD3dTV8LnVuYHRch61KGu0dhuyAFWUfaoDuuvhG12ZlIGuD4yTXRN6WgwCqEShMhAHaBWvcmMdX/iaKW7OmukNF1WlNZeZMrOXdIWZNy3TC+fipvQIspa6XukQaaEpMvwDyrE5GgBTTqjhi3tnFgRILgxxlW2fcEAsFYwXTa1qLTxWjSmc17gfVL0fd3BYUjNuBMfYIK5QL3AeWAQdSg0o54DcUWMNkbj9gNvic8hQ8DXl1pwytb3+BoRZPrH6CByUtlt8UyXd0tLsulnpoznzZf50dBFDBZqAC1oJUATTZUyziVdAy5IiZjfIjZb5q5hbbdoVCAXCSV4IwKy8xnjCxtvSvlEaXJ3sNniXkPhE81Phemb8ta+B35ShBKaUVxjGVY6QwnkEdGeS0w9wxmJOObuEnJ1vBrMD0mn4HQQZFBsUMili/xfX4yMYphUUiUtkdk1LOEc5JMxOsenUPos8qZzH3U5P89KRoRSfzARG+KmpaLcdgYw4KZhXH+jTY1FpacHPSBKwNL9a6GHXw5u2byl90q7YyOZmtGfV6MEBVS4tBBTWmZiWxjmpKq1VnHcUuo2tFFc96gi0wLBlbuDXYw1ze1HsBUMqVXXIYSlwgjT9PfCtdyxhCBc4hVMp6CC1YEc/mkrHcGZpMBCqWHebY0B13LE4My4WwNEJnle7IAZLpQS4U6cGsFHPhBzFoYn3F99MI5IlNhXFSFx6kAlCF2QmKA6xQpuAWR0TcElsikQyGYiYroFf1VTCafH6Wj7Zlw8leAKHqJj0x3oBkhVBNZZ8GomweZXVOaDTvuqKmkGayOkZcfmc5SKDS+kBGuwUwNIIWl6bqsRzUtz5sTkjyMGFwZuh4Qg0J4xQCzCRVRpOBuc63prNGA6SFGDTGXZa7BcAesMLUEjFYjPuN+4IaA8b5ZJFFh3QdpuvojGGpwhHCAmUhiukGzEIxS79dgDEOoMRaNzwhPpQcplM5E5tSLkQ4UwdWjk2Jd0EtjkmFr5BxoVKJi5aaoLainhR66Im9N38S+RxIH2WrQbXkgHCqEFnTzkdvYplfjkl1orq+Fok2wdTmjBwkUI1kAxi5Om/TzU1stdwbV+j4TAlGuZoVDPNKGjcV4sjbReBEYeS4UjWmENaflMr/VDk5ZPy2GuVZkiokfniBSoeKQU2HSocVB1pIhxjnQErMAqSjswu63rA0wlKVZTdgzICzVlmkcwqseNe/bpqMRKBy04RyfljWWY+yQrxdKgcp8WwqjOMKIOOAy31RdJ3OetUuseSg3PmaypjuqILWMoKKVWXnb1TmUpQ6m7U6skVUG+PeWdp9N5eDAKpNHW09qNekvd2I1tap5KFknNDUk5Syw+W3trwECGlUdBxXHtXTjFKN9p36lCuFVW4ni5UGQwqIQTxjMt0C7Qx0C7Rb0MUZiH6xT7NAugXCgq5fuInUg6FbKqZbYUyPdCvErBAGNw5UrV8bVAl+0dOQj8o1ME6lS84RHVD1Ar2KU4vFwUSwp0WQIrn1C/Y1CN4ifM0ohAnGAbCiqxpNL4/xZJkZcmgq4JRMqxJRtgKp4n2elX+uSngJ/e8ggArWY+r68uWKkpR1ORFfK3J3t6xNTLJtlANJTMlU4UeqoqbOGmGncI6kIWTsTJGpFSpfqeSNVM0wtigYb4LrzUUHiw5ZLmC5RJZLhAWiBjN0GF0i6rxlGV36cx1m6JwdqlshixXSdchCQM9BbHLPgnjvCeJ8Vkn5lMIHhB6n2q1EovfWHmHwtrOCL0pyLijVU0hfZXXskwotvHbmz6wOqky3mxEs3SBOCS7tdV+jZ8ezy12a7dfqzbpK2fRmXSMHA1RB6oYyG3CqUHPbUAon7SkyExVb5yt0hOwFX7y1w0s+vMMjP9IMarKFB8KAzgS/SeUjnhuDU9wkMSoxggl+U5YGWRo46pCjBXK0gIVbUkJsRzcsML0HJbtAtMPoAhkWiDV+NrAgg7gBY4NF+h4xbr6MDNYZt/14MZu5k7HiB25KMpKvcC6mnaPEBFChJLkCHV4kIyySZPdzZCfjbp6JBpfbRV8KoFq0m1rdW9MC/Zit6xbNd+aymUouiXHjSHLw2gRW+b0z6exBAFWd93o/HM9gstulm6PKJSQ2/oydBQfBTupRO437/V4OWPVY8xBTeKPmQxNqthfmwRmn8UEnjv0sgGNBjsQv82Mwxq2LY2yHEUNHtu6NSpxAjIbR3YD1TtGHDszCrSYjvcvmoHEuX8iRkoGUuMUbVsBKghdXycZK5UMlAkSl5zQe36ORZqTlLsJnCpvU5soFccQYDTUWaroGq3R91NZumFm1cLKJH3sTHT8AnTxYG802chBABdNw0ar0+ne6rbTu3hKYRm8tKa/lpzwdH/l8ykEqTogdP98w6HBsi9IijuhET3NgIrMHZWqnByvE4YpbgQHUCNFdi3VmcWMNRk1yfgd+TEBwDmVJVulQ2A7MMjIt1R4dghptXTrWYsWNqR9QBlF6kTj8oMevOhNVvhxu8wpOAFI+Dkl1FKYTqZ9UqH4mpFp3LpSheoYh5hqsSploaTcEVpta9NZZmipH68XQvHCJSthw60EAVa2+UO2H+ss7t1LW65iqt1JJ0tLvi+kmNcatwzdN5EFU/QjpMF0jDxdAKo9Qi06i8TWZg1QZRav7hN96i/UmLu7OjxcIQ5wYiF/mYh0ENDQOpBTcV7tM54jDDrRD7RJ16Idq58CKwQGVuPX6rLVYowyq7iufuK+ecZl2IVuANKOma/lBagXuq2IYEBsm2eTryJSzJRNjbVdmi1PFM1k9FPfdAFjtog+M7lmnyqyV6yvwQQAVtDtbfh5Sc8t/83fsZFtpgdKmDLXYUitDYSd4byMDF49Urfl2ipbr+OU9QGhQeintLGuy6uov+L7K8uJHiBu1fj29stMatSQXBQoyuLWtjFvFWDQ9GQd0Qpx+rRbVDnQA7VHtceMTPGCZAavqFhjVwK4yPxC5wTsH45Zu4x98yUs92mo+ISf5AJ32zDWTNU2EvlmZemVtkc9dkK4Vx2UrZkMcBwNUePYxucIvaQqKJccPyTFi/5JjTnY8Fa6keZkfpupygIdwNQxdyCPTKnxiY+1s5FnwcIIEVypWnS+oQaGziPU+ga1BpXd3+MUoUiTeh2aY+RsvmJgptU61UzVgF/4Lm5uhh7qpxK2lOdT7e0lLVwWVzKGUhPoJyFXUYCpv7gJPULxBLW1iES2+r2asNVVwztSn6vfmZVOu6lfWWMZq857kihnlwQCVkGwsAqMO3n7vJZAK9TQm61s8j6ztbvsQE3NJ5QgULAdeFY19L1ct8ll8hbO+iWzqjC9O1pMMY9V5wxzUfZUbHMNRGfxI9Or1UDyM4Juqqkn1wDZ4h3rWl0fFg88A1rErtEe0R9SbynVwY6508JubcmPjM3df6crvo6EuHaC77Lj5kGGBUQfMrtDllOeUZce48vpLDyuHvNxH1dqHMefapWXPkd+QmjopM/rawQBVLiWvcBJmzMcXrIzBqVX/TdBpPKRRXVX9MjI8yUamT8QTFmwIKlihzmbqXs6o8gULDMFmE2JMTKBQXBpMMjKwkIdg9LYgg6IrD4VqHYgs3CjvCE6hg4c6FtyUmsBjQ+ECUOUc2EoEK0eerAMr2yO2x+hApwNWexbaY+npGLD0WAXDgGq+jGqtqnmQijWX8c0wnzAfmpBTpVjTGXcNbpY1PYf0QaOS0UvhOnr6LmlI/Nu8u6Wq7Et2AcDs3bju1oMDqsAoarAqlmxa00FH0nggxdfVhlYx9QzTfamht5Krt3C+o4w7VzMk28sd+RUuiat7WqUeMcisDyeOkb6CqR2Ia7EbH1+e6UBtpSMutBfpri+h8XYq6+1Y2pF8flnwTMrQ03l10HLBggsG+uRfKitlfRzKm3+KKOEl8zuhJQ8jhstfEiGOALyhshqDEOZqXHuTqwPBrTSMa5I5+TkYoIqdE+8KJeuDeeccd9axNEFLsgrJ+uKct0BhtpGUz1EGs+5QV34qWzlXMLeehEU2pb4xZNszrObXqkwUCrud816iaZ6PqrdZWRgsunCqoBt0lRc4DIL11EokgpV4j3hu9LmAGFga1Bi065C+S6YpnIHb4A3trFhqh2KwunIQI35QpgSgyX1J5WCV6iW32I39AqT5fSFEePBtLxxaNTqpQuxCFyak1TMLVK3SmpXsDvATG8j2t163HAxQ5c8i2mhkfF1Z/9xGzUrL594CkKhCVRHnhCnzdjtiS2lZrdwvVIKyPM8BiMO1khkAuS0oA0D1nWxc9pkdKATJBm9qAKxBnZvOzjMmY/0cwSFjV67EcVpMp9mCheJZWYeoAV24bTBudOcK6C3SD5hVTzc4xrXwqqJb4CFN0Xb1JdEfV+RHUrKpUDNFEf0HgeRvK1BKsv2crwf3xI0346gCy5QduG2u+ijrAGF0Tarddlrla28cQw3uTRlTz+2ur010s8xheQcBVHlnrtWlcJ1qv/UyaL0D88A5M6pFJi5k5CIGrIFqlC8FJB8+SPZ2L0EolDu3wcXuOPn0qtZQGdZlFNb95qOynTlH45dAMR58RBNg+U1EcKM4PcwKzjC/UGSB38TZu7oOET9anYUztvUgK4XHPTzuMOfC4sIDpAQ71hI3HNQNXRBPC73nLJ/vxJrG3z9z43vac0UPU2hKfpUDWASrKly711VgNUcuzVqy9lAluQ5HtsaNTYHnoMpcaRCRKTkIoIKSdcdzU2GLvXG3nKxLzZlLdW3dayn8znlAvoPlL0CFOGJ9gAIwgheBfIGHzNpCUmrqfDXAqmIE4+z6L3jZyqrhZR1RMq6t7liWGMH5fzL+M78FcX4KxIZIHNDJ0oPW0k/XMQLSuQnOg4WLDl7uMS8DDy3dxQD9ApGgBi4YrDKIM6wLNi4tVip++RxIkKzGkjEdktO+Bvhodr/m8JanpqOtrHVNb7CpL7BzGEhIaq5siT5r33fbph3Ct/KQ95Vt49wgZlMAEXmbiPxjEfmQiHxQRP6YP/9dIvIpEfkXfvud2T3fKSIfFZEPi8g3zM6NBwPNtlzK95sL3KqPWZgy9bLM6ZKpfhv5y/MZmnLdLZL/qeBul3L6SBYmLCHlNqnK28psXuD6uHFHANAATo0PZW6xUE2MSxXUeiRVP7QAd816J3m+5NLhAOtIMCfOjbHc65AnlsjTC8wbO8wzHd39ju6kY7E0LLqOpenoxG0m+ydiHEjGTcrfwPKmNnG/En4x3jNEChPipvFbesLPr1W8WhqVPqfDTrXDQ5d1RHNueer3wBqZw6h64E+o6j8XkfvAz4jIj/pr/5Wq/tk8sIh8NfAu4NcAXw78mIh8larWC81M5t09bvdX82Hdcbd051IzqHWsal19jNhW9hu+4Mf7a/ZXN0rPoMJwgzDZts5T+b2qBLYIKFmkaZpNVdiiFGtKOVUpOSEpINeSPGq6wZOCSYA1OP/p0nsHegunSpoFpT/zTmCpzs0Mjr2F1WE6FTprWKih95OiB9STOxuLlLdnh8uZZyqpX2LRl4JrQ5q5xBH1ZQoxBhXTU8zMa4VmYUpmFUa853Wr5du10LUn6n4X2ZG8XYtcEehuBCpVfQ54zu+/IiIfAt6y5pZvAn5QVc+Bj4nIR4GvBX5yu6yFxpFNFG34A86bUGH8buHbumTK3fKFWV1vxueRTLO0A6AMvhSbMhMWPhiB1RjdNhSoOi7UxBZYhr++E2qCztLFjMV4sDI6uAUeBoNc+BVnrGJ6i7lQ5FyRpSJLiyyMG8ze4fKyAE4FOQNzDvTQDUJn3cIRnQph5Ba+PiXChsQyxfdIUaC8rEGVC21HfXySUUu3LxlwqSQDewlWLQqwjlpIea5xeqtHu0GmXs57ifyGZSsblYi8Hfh1wD8Dvg74dhH5FuCncazrizgQ+6fZbc/SADYReTfw7nhc7bTsK/5lNwpQgNUowqxNUjfjOk8U4DQ6rhJUTd0+Zz/jr9wpMy1bXA2qo/akZd5TlFoFDuO7qjJlZc9oE/gumMZKeVCSpPqJuIEj4ld8MX7Uk1HrgMkzH9P7RR2M22Rh/dYhS3X2qqW4JaTBOaHyqzY4Jc7HRVLGOp9rV/3aqJtQuMB/8ivJn2oEHimqpqhfEbc2oY3gHGorfjvMnk54lQjFK2XqwcW8Jhc9oyK0D5tRrcObUZteE/bVJLOBSkTuAX8L+OOq+rKI/Hngu3F1893AnwP+EDM1LlV9L/BeACOixQKgMnGbJoqfvxAn85yBRWzSmjo8jftjExUK21RzkKhnQPlQhHS+WYKU5+xCcK5bRV2WpT5XG29rtCvKpd6Hu/qhUuFLmuDGRbkZlEGFCoPPnQHTIMF4Lg6ojFq3gIP/NYNixLEtg/XgptnwBYWF+0qoR7hWtxI4I/u6INHPvFvINHTrAJweDhrsNkHJ6HUVAWbK95hUt7n5ps4NMpkhP41nT3CZzrUmPOcRp2c4kjWgNbq+Lp520O1kU/pzUK+ZiW0jGcssoBKRJQ6k/qqq/m0AVf1sdv0vAn/fHz4LvC27/a3ApzelYaQszri8WnP8JnuKp7L2WrzFpG7KDTDJ2ZQZJVtRGxdDZgEZZVtDLxMpGWEATcHPbXMX1jW4uksm6pbFG45D+QXX2TMgcMuuqwMXGTBG4pLs4s+nIZcuvETWo4gOzneV2sSE1LGr4ENGPMg4sAIWoOcKC3GG+JU4T3rZR4Pg7C/cEga5iuQKWCpkOd2Y6CYre394HHQnNYwDK2xJ2fOITJmMNbdgJ6wSmLPT0mYlo7sadDqXvGFeGnWuV+ouoo29dNzqsI2gmcz56ifA9wEfUtXvzc6/OQv2e4Gf9/s/DLxLRI5F5B3AO4H3r0+j0LBivsdS0JDRDcWgTCkbvcn3G2mN0qs++mi+Cckbij+H0Xgufg3McuyOleT8yf3GMDF8uqsJ1muP06m8esLAcbc6u7LolK5TFp2l6xTTWceIMnBJNikPamLp8s0oxrh9493dGQIgunsFx4QkjL0YFBlAe4HBoH7Ap1sBx60vGB5gMJKHZybZv3zhjLCTg1ju2y8snpGYl/8dVVCIKzE7n5G6NqtW4xsB4r5QSspnuzVvYBR5o9lSWu/T2TfuyJZGtwrxJRXfxK3q2zKjcxjV1wF/APiAiPwLf+5PAt8sIl/js/9x4I8CqOoHReSHgF/AfTH8tjlf/IKtM38ztgNGhSC1oXApbELpfcG3tzBRN7SFuBho9huYlBYRVuRVUv7y6RgYJa7NXmc7/KmYT5oEO/VOkhBq4nqVRnUigHVnnNO8hRH82MzEgoCOjDGJYozz8mn8GCnnGFTp1HpVcMBZkrwaGMEtL4mS27/UKOpHsau65bkGP2Jqpd4VsV+/L6pqXm8PPtgje81AvvRRlvtNyCpCs04DSGC3AdEiw0r1Xn8UmWZGkp0L4KZZI2oxq/XPclfZCpwmyE0z3LZpydT18sLckotOIsL1SWdET5fZoEet2kUu8SUlxXELuGO7rOIJwwaKBp6/HL3eIX4WseTtMMtGZpN2l0KkQ4aGrTJk58qyjkGuzaHajCv07QDWYdHjhV945qgTjgxupWMRN05JjVthRjvcwIAOIx2mE+dLPWzS0YmJYQS3lJbIAuQYkSXGLDFyhHCEyhFqjlFzhMqSYIRUGVBWqF4w9GesLh7RXzxmdXHGqr+gH1YMw4rBDgx2wKp1zvU0AyAJ3iaCSzz1ro5Dfaawo4cVlvDyx+KBKo5ds0QfWVrFF5Bt+itg7dYx2+LDmtPfZvbJHAm27cazES2LuyIFm2/YLlGr+jOq+hta1w5qZPpWmKkJq6akRYU3JVG0pzAIqrgwEXlxTUvvnVDYuvMktDqeymQbsMbZKUBa0jS8wKIWBpaLpFKhxIVCjQaAUw9UYIzSiaZfb9sKKp7Teixi/DgqY928wYWinaIdnkm5FWzUGuzgtv5C6K2hHwy9Md5nelhOKwBQIjy5I+G4LqIk/53Wg1gcBVUzhik1JCRiibawWMn+eYwfyzodpnFNst4+0dClsdecgL4u6SnSdhnZIi6ZecO2uHowQNVkw61OG9m138nZdh6G8TOr3395GCC6QymiCfnIGD1kmkLIo1Kan/Aux7OE6yKG927xwm3Ipocqo52MHCosFBYq7hc/fzh8JFDXOY1NRvNgyzKdOuZl8LYpQcRixHiQUrTzANW54Qh03hvD0qJH6jbx6lwPem6wZ4bhDHorDqQGoXeOHNwiD54tJW7i/pVApdEJodb7vlIzz8mRVQVXWphsqozR4kUiDc+FCoWhPQVPR1IkVkZQT76ZfIb1+fARoBG2Gds+AWpCYj8olZqN2ajLsA1YHQxQqeRTT+YUocLuCpzCfl0hNUlvvT0LBl9YbsvkIwMiPbykQXqf5ROoqBAXf9Di7JyWlk93LrJUaq/qvpx1CgvrGFVnnQdiAcQEdoRb3Rh1xvGg9nUOuBbibVRxmIIDJjqbIl9mALVwmz0a4NiinTqnemeCvVCG3rA6E/pHQn+uDCvF9mAHxVq/aXL0UIJVqf65eqwmKNcsKv5mb5VQ//mdGdOSvGGIy0hqIqH+p7rbOANF+GIYvSbVYOTjJ8UhefmymLdlJpeWqjO1tJq69NrY31YOAqiKeX2Cc++hjF9fWoJTDVL5YWwW1cstAETpq6gRT9au8ukz8W2Wva1jH/D3hU/rJl/YQcNb1YmFZGeeysP4MJPyvVoQB/ycYnCWJJsxqUHiR66g6sXhB2LdMAWjmIXSeXXPbY5Zobjl2723BV0kwNLOqX3aWbRzro7RIfqasgPYMxgeQv8AhjOLrizaW3QYSpDynj6t5gCVQCkudFHr1K1GEStnXJvFINAAUjkTC1FJ+Zvgbd3Lpb6Wg9Uow5491ffX7K2U6c5/NRDWegfMvV53r23kIIAKEoBE8YBVDMhjPd+obRKjysheXIVb4zrmcCGPT7JL4Ticy16UOfi4z/Xpptobwih/a0CqRf2LIw84KW2JbCr+2mxohuImEJsw/MB93TNdACuJo8wN/jd8djbOPqVGvU1KUTMgYrwv9h6lA9ujw8ot+nBusK8Y+peV4ZUB+9hiLyzaD+gwoDYs9mCjAd2ixeo04d1VDv1wb53xWLdsXiSQG9NrMFPJRvRLCpO/RAqjekaT419PyUqm1eJBbSY2evmOjmrQ2iTrwHPXuyVvbtnZcZzla3SXHJRyGEBVsxspj4uHqMVt4wppgVUDvEZvqUDeIk8tkcmBYGVp8GkVg0sjS8kkI4gBrPKhEXVDrocqTD7YUWtyJwrVT6BDnKspmxSRgoEZ4gILAZREnPO83OlnGI8lxoGchvl7C0UXCgu3hp8wuMUdtEfPOxhW6AODfbnDvqIMj1foeR9BCtuDDlh1X/kcg7IVSOV2moxFanhW8cGR1LmavVRPP4KXj8ZU1WrDcbKX5W+q4kmFzMS3X8aU6sfkr2t2vWbEeYmUcZvIs1LC3iYYWA9g0274xndPlbAFXJMv55lyGEAFZa3T2K/Cjt5Lmv002HgxEDm8PutIPMgUvtPyfKgkVaN+cWancz/nefZCY6+ZVZ6OxgJk5ZF1jb5s3IVDkgBSZETCA1YZl7dT+a8JggcoCbqeZybeNTod6ALHrDo8SLnzYrySpgN60cHQo2cr7MugDxbYx4peDF7ds6hVPyQg3JfM5ulfyK2vbM2OsrlUuUf1wHwKG6CvgBE3ic9Qo9oXv2ja1KYi6yqeaPkjsW21GvT4ucX6L55fskmpv9oG7Cr7G9Ibp99q5Otz3Qay+rW/jk/tJgcFVBEvNpQzTpEYXSl5qTYu1T6ushYQB2vGT9Q14BUtNTWPoHKquijyl2u+n4AqNbhR46q1goxGthpJnb0EUhJxRdQdCxmJCFP9wrtaxPmWUvH+p/zo8jDGQdxQA1l4FuU3Cbql+NJZ79RmMMhqwF4Y9OEF+gg4s8gFaK9u5WSr0RblAD7UiqSHXJc2Y6uCphV0/ANLc/N8nA02Hb/2FdEn+CoecxhvJQni0EqBzx5ycC0jmcE8Pb28saW/YVJ2fHYx+eRAMX3fKU0H+X6z6VRlL8+XIVocYRPsle1XG+e1yOOuclBANarp/Fr4abAYILSkEqRyquGPiw8ueWsunn4ZVw4WRXrpIuGrUPpK5aPI8j7aPLiNqH3VOurG0jouWJUk8lNMGQogpUS2ECMYAoPQ5CzPDSzyCzYo1o+NkoV69c+PlRK/ok0vfsEIgfPBqXfngp4rcgZcdGgvjkHZ4HY41EfjYVV1ElhG3dXyDguBrSZYKv2DpudVv+wyLpb+xnmameeD+FDL7i9Fmil3ptlo068DqPRbfmhOpoLwosvbV+URi3HryM9qdqTV9ZTj5Dm1LWPQK+OtY94HszocoMqlronGc45ABGlwZYtJpUAxLgdW2T0RVaScHNaKp9W6s+uh8YRHNgKqKo+b2OO6t1zdpeM6CzSAytdf/nEiDPSMjVNwAzmNOq+d1kdorJ/6YvyiDooa68aJWd/ne4GVoKsBPRc4t+hqQFZge2c4t/0C7Y1X9Qa/ZFfe+TKwirQmTdYu68XDiqS6zs6S1KUEPOUHFIkTweuqzwHLJVaCShZJ82lJdZS7jSmZSwAEjc8g/yAS2FZiiAHMJNaZZHW3Dg5y6HFVO4ahWPuahy6ZVgmzLeAra1Qb53aRgwAqVV64ONeHwAs7xrDX/EzI69k5f3Pk0mW44vztRQ49j186+buaLnPZ/P3KqQsHMdcPQER+emqezyHIbf4uL4eex9v8XU6uMn8b3bzcyq3cyq3ctNwC1a3cyq0cvBwSUL33pjOwQW7zd3k59Dze5u9ycmX5Oxgb1a3cyq3cypQcEqO6lVu5lVtpyi1Q3cqt3MrBy40DlYh8o1/6/aMi8p6bzg+AiHxcRD7gl6r/aX/udSLyoyLyEf/79DXn6S+JyPMi8vPZuck8ich3+jr9sIh8ww3l77tE5FO+Hv+FiPzOG8zf20TkH4vIh0TkgyLyx/z5g6jDNfk7iDoUkRMReb+I/KzP3//Zn7+e+nP+oW9mww2g/lfAVwBHwM8CX32TefL5+jjw+urcfwm8x++/B/gvrjlPvxX49cDPb8oT8NW+Lo+Bd/g67m4gf98F/MeNsDeRvzcDv97v3wf+pc/HQdThmvwdRB3ihpff8/tL3CLEv/G66u+mGdXXAh9V1V9S1QvgB3FLwh+ifBPwA37/B4Dfc52Jq+pPAF+YmadvAn5QVc9V9WPAR3F1fd35m5KbyN9zqvrP/f4rwIdwK3gfRB2uyd+UXHf+VFUf+MOl35Rrqr+bBqq3AJ/MjpvLv9+AKPAjIvIzful5gDep6nPgGhXwxhvLXZKpPB1SvX67iPycVw2DWnCj+RORtwO/DscKDq4Oq/zBgdShiHR+ybzngR9V1Wurv5sGqtYE7UMYL/F1qvrrgX8P+DYR+a03naEt5VDq9c8Dvwr4GuA54M/58zeWPxG5h1v1+4+r6svrgjbOXXkeG/k7mDpU1UFVvwa3+vnXisi/tib4XvN300C10/LvVy2q+mn/+zzwd3CU9bNhdWj/+/zN5TDKVJ4Ool5V9bO+cVvgL5Ko/43kT0SWOBD4q6r6t/3pg6nDVv4OrQ59nl4E3gd8I9dUfzcNVD8FvFNE3iEiR8C7cEvC35iIyF0RuR/2gd+BW67+h4Fv9cG+Ffh7N5PDQqby9MPAu0TkWETeAbwTeP91Zy40YC+/F1ePN5I/ERHg+4APqer3ZpcOog6n8ncodSgibxCRp/z+KfDvAL/IddXfVX0l2OJrwu/EfeH4V8CfOoD8fAXua8XPAh8MeQKeAX4c+Ij/fd015+uv46j/Cve2+sPr8gT8KV+nHwb+vRvK318BPgD8nG+4b77B/P0WnOrxc8C/8NvvPJQ6XJO/g6hD4F8H/n8+Hz8P/Gf+/LXU3+0Umlu5lVs5eLlp1e9WbuVWbmWj3ALVrdzKrRy83ALVrdzKrRy83ALVrdzKrRy83ALVrdzKrRy83ALVrdzKrRy83ALVrdzKrRy8/P8BQDWsdyibU2cAAAAASUVORK5CYII=\n",
          "text/plain": "<Figure size 432x288 with 1 Axes>"
         },
         "metadata": {
          "needs_background": "light"
         },
         "output_type": "display_data"
        }
       ]
      }
     },
     "7e1d0f92e6624a139a7ab8a822bb26b2": {
      "model_module": "@jupyter-widgets/output",
      "model_module_version": "1.0.0",
      "model_name": "OutputModel",
      "state": {
       "layout": "IPY_MODEL_a286b1169a174c0c91405645c1438be8"
      }
     },
     "7f6bc58927b94299be9b140c1afdc7ba": {
      "model_module": "@jupyter-widgets/controls",
      "model_module_version": "1.4.0",
      "model_name": "SliderStyleModel",
      "state": {
       "description_width": ""
      }
     },
     "8080725394594ac9a405eb2a2af3bd47": {
      "model_module": "@jupyter-widgets/base",
      "model_module_version": "1.1.0",
      "model_name": "LayoutModel",
      "state": {}
     },
     "80f7992f9128439ea06bea80883ac810": {
      "model_module": "@jupyter-widgets/output",
      "model_module_version": "1.0.0",
      "model_name": "OutputModel",
      "state": {
       "layout": "IPY_MODEL_b6f89972d11d4af3b066b52349665b12",
       "outputs": [
        {
         "data": {
          "text/plain": "-10"
         },
         "metadata": {},
         "output_type": "display_data"
        }
       ]
      }
     },
     "80f8062d1d5044b8b76c096c86e99f53": {
      "model_module": "@jupyter-widgets/output",
      "model_module_version": "1.0.0",
      "model_name": "OutputModel",
      "state": {
       "layout": "IPY_MODEL_5883e9d3e8ca43febcda99bd3a143a0a",
       "outputs": [
        {
         "data": {
          "image/png": "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\n",
          "text/plain": "<Figure size 432x288 with 1 Axes>"
         },
         "metadata": {
          "needs_background": "light"
         },
         "output_type": "display_data"
        }
       ]
      }
     },
     "83cb109830e040518f7b139a290a0e58": {
      "model_module": "@jupyter-widgets/base",
      "model_module_version": "1.1.0",
      "model_name": "LayoutModel",
      "state": {}
     },
     "840695d0bd2b4fd2b303a823aa032efb": {
      "model_module": "@jupyter-widgets/base",
      "model_module_version": "1.1.0",
      "model_name": "LayoutModel",
      "state": {}
     },
     "864d63c44ce848bd9493f5c44fa4a9bb": {
      "model_module": "@jupyter-widgets/base",
      "model_module_version": "1.1.0",
      "model_name": "LayoutModel",
      "state": {}
     },
     "8887ff79424247e0908106e033f03613": {
      "model_module": "@jupyter-widgets/output",
      "model_module_version": "1.0.0",
      "model_name": "OutputModel",
      "state": {
       "layout": "IPY_MODEL_f0af8e58cbe24b9b8968953594083d49",
       "outputs": [
        {
         "ename": "NameError",
         "evalue": "name 'plt' is not defined",
         "output_type": "error",
         "traceback": [
          "\u001b[0;31m---------------------------------------------------------------------------\u001b[0m",
          "\u001b[0;31mNameError\u001b[0m                                 Traceback (most recent call last)",
          "\u001b[0;32m~/anaconda3/lib/python3.7/site-packages/ipywidgets/widgets/interaction.py\u001b[0m in \u001b[0;36mupdate\u001b[0;34m(self, *args)\u001b[0m\n\u001b[1;32m    249\u001b[0m                     \u001b[0mvalue\u001b[0m \u001b[0;34m=\u001b[0m \u001b[0mwidget\u001b[0m\u001b[0;34m.\u001b[0m\u001b[0mget_interact_value\u001b[0m\u001b[0;34m(\u001b[0m\u001b[0;34m)\u001b[0m\u001b[0;34m\u001b[0m\u001b[0;34m\u001b[0m\u001b[0m\n\u001b[1;32m    250\u001b[0m                     \u001b[0mself\u001b[0m\u001b[0;34m.\u001b[0m\u001b[0mkwargs\u001b[0m\u001b[0;34m[\u001b[0m\u001b[0mwidget\u001b[0m\u001b[0;34m.\u001b[0m\u001b[0m_kwarg\u001b[0m\u001b[0;34m]\u001b[0m \u001b[0;34m=\u001b[0m \u001b[0mvalue\u001b[0m\u001b[0;34m\u001b[0m\u001b[0;34m\u001b[0m\u001b[0m\n\u001b[0;32m--> 251\u001b[0;31m                 \u001b[0mself\u001b[0m\u001b[0;34m.\u001b[0m\u001b[0mresult\u001b[0m \u001b[0;34m=\u001b[0m \u001b[0mself\u001b[0m\u001b[0;34m.\u001b[0m\u001b[0mf\u001b[0m\u001b[0;34m(\u001b[0m\u001b[0;34m**\u001b[0m\u001b[0mself\u001b[0m\u001b[0;34m.\u001b[0m\u001b[0mkwargs\u001b[0m\u001b[0;34m)\u001b[0m\u001b[0;34m\u001b[0m\u001b[0;34m\u001b[0m\u001b[0m\n\u001b[0m\u001b[1;32m    252\u001b[0m                 \u001b[0mshow_inline_matplotlib_plots\u001b[0m\u001b[0;34m(\u001b[0m\u001b[0;34m)\u001b[0m\u001b[0;34m\u001b[0m\u001b[0;34m\u001b[0m\u001b[0m\n\u001b[1;32m    253\u001b[0m                 \u001b[0;32mif\u001b[0m \u001b[0mself\u001b[0m\u001b[0;34m.\u001b[0m\u001b[0mauto_display\u001b[0m \u001b[0;32mand\u001b[0m \u001b[0mself\u001b[0m\u001b[0;34m.\u001b[0m\u001b[0mresult\u001b[0m \u001b[0;32mis\u001b[0m \u001b[0;32mnot\u001b[0m \u001b[0;32mNone\u001b[0m\u001b[0;34m:\u001b[0m\u001b[0;34m\u001b[0m\u001b[0;34m\u001b[0m\u001b[0m\n",
          "\u001b[0;32m<ipython-input-6-baf28153f22b>\u001b[0m in \u001b[0;36mplot_function\u001b[0;34m(frame)\u001b[0m\n\u001b[1;32m      1\u001b[0m \u001b[0;32mdef\u001b[0m \u001b[0mplot_function\u001b[0m\u001b[0;34m(\u001b[0m\u001b[0mframe\u001b[0m\u001b[0;34m)\u001b[0m\u001b[0;34m:\u001b[0m\u001b[0;34m\u001b[0m\u001b[0;34m\u001b[0m\u001b[0m\n\u001b[1;32m      2\u001b[0m \u001b[0;34m\u001b[0m\u001b[0m\n\u001b[0;32m----> 3\u001b[0;31m     \u001b[0mplt\u001b[0m\u001b[0;34m.\u001b[0m\u001b[0mimshow\u001b[0m\u001b[0;34m(\u001b[0m\u001b[0mvideo\u001b[0m\u001b[0;34m[\u001b[0m\u001b[0;34m:\u001b[0m\u001b[0;34m,\u001b[0m\u001b[0;34m:\u001b[0m\u001b[0;34m,\u001b[0m\u001b[0;34m:\u001b[0m\u001b[0;34m,\u001b[0m\u001b[0mframe\u001b[0m\u001b[0;34m]\u001b[0m\u001b[0;34m)\u001b[0m\u001b[0;34m\u001b[0m\u001b[0;34m\u001b[0m\u001b[0m\n\u001b[0m\u001b[1;32m      4\u001b[0m     \u001b[0;32mreturn\u001b[0m \u001b[0mframe\u001b[0m\u001b[0;34m\u001b[0m\u001b[0;34m\u001b[0m\u001b[0m\n\u001b[1;32m      5\u001b[0m \u001b[0minteractive\u001b[0m\u001b[0;34m(\u001b[0m\u001b[0mplot_function\u001b[0m\u001b[0;34m,\u001b[0m\u001b[0mframe\u001b[0m\u001b[0;34m=\u001b[0m\u001b[0;36m20\u001b[0m\u001b[0;34m)\u001b[0m\u001b[0;34m\u001b[0m\u001b[0;34m\u001b[0m\u001b[0m\n",
          "\u001b[0;31mNameError\u001b[0m: name 'plt' is not defined"
         ]
        }
       ]
      }
     },
     "88f55233ef9e4e1fb12103eb8921b5b5": {
      "model_module": "@jupyter-widgets/controls",
      "model_module_version": "1.4.0",
      "model_name": "SliderStyleModel",
      "state": {
       "description_width": ""
      }
     },
     "890e139fee4142748c0be06c0f481062": {
      "model_module": "@jupyter-widgets/base",
      "model_module_version": "1.1.0",
      "model_name": "LayoutModel",
      "state": {}
     },
     "8a09217524aa4382b5814e660042d91f": {
      "model_module": "@jupyter-widgets/output",
      "model_module_version": "1.0.0",
      "model_name": "OutputModel",
      "state": {
       "layout": "IPY_MODEL_9c348f21a35b453488cbe80ecc2a04b2"
      }
     },
     "8ac7065faec5403fb5b03639376db283": {
      "model_module": "@jupyter-widgets/base",
      "model_module_version": "1.1.0",
      "model_name": "LayoutModel",
      "state": {}
     },
     "8e912d57fade478da9e758a2537dafcd": {
      "model_module": "@jupyter-widgets/controls",
      "model_module_version": "1.4.0",
      "model_name": "SliderStyleModel",
      "state": {
       "description_width": ""
      }
     },
     "903782d58f8d4f72acfb131b2f1ab70a": {
      "model_module": "@jupyter-widgets/controls",
      "model_module_version": "1.4.0",
      "model_name": "IntSliderModel",
      "state": {
       "description": "frame",
       "layout": "IPY_MODEL_c8e122d0c10444549d6e717c5bd4992b",
       "max": 60,
       "min": -20,
       "style": "IPY_MODEL_e7583e4cea7046aeb612c73208c7c7ce",
       "value": 20
      }
     },
     "91760758d78e48f3a19275744cc29f96": {
      "model_module": "@jupyter-widgets/controls",
      "model_module_version": "1.4.0",
      "model_name": "IntSliderModel",
      "state": {
       "description": "frame",
       "layout": "IPY_MODEL_9985e600f9114dd2af8e70bf9af17e4b",
       "max": 60,
       "min": -20,
       "style": "IPY_MODEL_6def2492b478466eb7cfe2e548ff8061",
       "value": 20
      }
     },
     "91bbef4e195541cf8bc486ec587df256": {
      "model_module": "@jupyter-widgets/controls",
      "model_module_version": "1.4.0",
      "model_name": "IntSliderModel",
      "state": {
       "description": "x",
       "layout": "IPY_MODEL_d8baccfcc2f742dc9ea80145bae70d2f",
       "max": 71,
       "style": "IPY_MODEL_f9ce947315d143a39cd9f40e592ac761",
       "value": 19
      }
     },
     "92f73bef4f704522be2a18250b13fdde": {
      "model_module": "@jupyter-widgets/controls",
      "model_module_version": "1.4.0",
      "model_name": "SliderStyleModel",
      "state": {
       "description_width": ""
      }
     },
     "95747929b72d410ea9a16f1523c719e1": {
      "model_module": "@jupyter-widgets/controls",
      "model_module_version": "1.4.0",
      "model_name": "SliderStyleModel",
      "state": {
       "description_width": ""
      }
     },
     "9627417553064b1e9ed128e424afd5ae": {
      "model_module": "@jupyter-widgets/base",
      "model_module_version": "1.1.0",
      "model_name": "LayoutModel",
      "state": {}
     },
     "9677e83a976248bc95279223b9c49604": {
      "model_module": "@jupyter-widgets/base",
      "model_module_version": "1.1.0",
      "model_name": "LayoutModel",
      "state": {}
     },
     "988cab8574284d96be114a9947ee0d8e": {
      "model_module": "@jupyter-widgets/controls",
      "model_module_version": "1.4.0",
      "model_name": "IntSliderModel",
      "state": {
       "description": "frame",
       "layout": "IPY_MODEL_dcf9b8a9fe304f3ba31041e0bd0d7c63",
       "max": 60,
       "min": -20,
       "style": "IPY_MODEL_5d63f9a18dc741589e55e07bd63b7e77",
       "value": 20
      }
     },
     "98e955f630e74f68a455f0dcec86edf9": {
      "model_module": "@jupyter-widgets/controls",
      "model_module_version": "1.4.0",
      "model_name": "VBoxModel",
      "state": {
       "_dom_classes": [
        "widget-interact"
       ],
       "children": [
        "IPY_MODEL_bcd95f3fa85c4d21a3090d021929644d",
        "IPY_MODEL_351387c61a36400cbb8942040f0febad"
       ],
       "layout": "IPY_MODEL_10646630dba14810affaf89fac21b020"
      }
     },
     "9985e600f9114dd2af8e70bf9af17e4b": {
      "model_module": "@jupyter-widgets/base",
      "model_module_version": "1.1.0",
      "model_name": "LayoutModel",
      "state": {}
     },
     "99cc20b3a1a04f6682e06aa8b9483009": {
      "model_module": "@jupyter-widgets/controls",
      "model_module_version": "1.4.0",
      "model_name": "VBoxModel",
      "state": {
       "_dom_classes": [
        "widget-interact"
       ],
       "children": [
        "IPY_MODEL_e69825a35a13407681c9f9bef54dd495",
        "IPY_MODEL_80f7992f9128439ea06bea80883ac810"
       ],
       "layout": "IPY_MODEL_32fb418a8e1a4778aa66b3895b512e09"
      }
     },
     "9b384a9874034f3490aa3cdf8f1a1242": {
      "model_module": "@jupyter-widgets/base",
      "model_module_version": "1.1.0",
      "model_name": "LayoutModel",
      "state": {}
     },
     "9c348f21a35b453488cbe80ecc2a04b2": {
      "model_module": "@jupyter-widgets/base",
      "model_module_version": "1.1.0",
      "model_name": "LayoutModel",
      "state": {}
     },
     "9f22a1cdca2146459eea15565555755a": {
      "model_module": "@jupyter-widgets/controls",
      "model_module_version": "1.4.0",
      "model_name": "SliderStyleModel",
      "state": {
       "description_width": ""
      }
     },
     "9f4c7fe90665478da4738a65ac146676": {
      "model_module": "@jupyter-widgets/output",
      "model_module_version": "1.0.0",
      "model_name": "OutputModel",
      "state": {
       "layout": "IPY_MODEL_75300bc6433d4d019c13b398ad572662"
      }
     },
     "9fbab285d6fc411283fd8853dd7734e9": {
      "model_module": "@jupyter-widgets/output",
      "model_module_version": "1.0.0",
      "model_name": "OutputModel",
      "state": {
       "layout": "IPY_MODEL_4f39348b9a6d48ecab7a34d8985ad508",
       "outputs": [
        {
         "data": {
          "image/png": "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\n",
          "text/plain": "<Figure size 432x288 with 1 Axes>"
         },
         "metadata": {
          "needs_background": "light"
         },
         "output_type": "display_data"
        }
       ]
      }
     },
     "a030213c9d724dffbed5bc055bb2c03d": {
      "model_module": "@jupyter-widgets/controls",
      "model_module_version": "1.4.0",
      "model_name": "SliderStyleModel",
      "state": {
       "description_width": ""
      }
     },
     "a16207c526c841959e504fb08d62a8f7": {
      "model_module": "@jupyter-widgets/controls",
      "model_module_version": "1.4.0",
      "model_name": "IntSliderModel",
      "state": {
       "description": "x",
       "layout": "IPY_MODEL_890e139fee4142748c0be06c0f481062",
       "max": 71,
       "style": "IPY_MODEL_11a5a714e0ad4b799e0f87ec387c9de1",
       "value": 71
      }
     },
     "a286b1169a174c0c91405645c1438be8": {
      "model_module": "@jupyter-widgets/base",
      "model_module_version": "1.1.0",
      "model_name": "LayoutModel",
      "state": {}
     },
     "a68d269f2a9f476180b83c7515dfa741": {
      "model_module": "@jupyter-widgets/base",
      "model_module_version": "1.1.0",
      "model_name": "LayoutModel",
      "state": {}
     },
     "a79dda1e42dc404c8188465cc9a4f1e7": {
      "model_module": "@jupyter-widgets/controls",
      "model_module_version": "1.4.0",
      "model_name": "IntSliderModel",
      "state": {
       "description": "frame",
       "layout": "IPY_MODEL_f8ad1cb6a08a45d684d53d09abffc157",
       "max": 60,
       "min": -20,
       "style": "IPY_MODEL_c3174fd29bd34759902398cdc45d84cc",
       "value": 18
      }
     },
     "a9018f0c685046b6835d9e04d90c887f": {
      "model_module": "@jupyter-widgets/base",
      "model_module_version": "1.1.0",
      "model_name": "LayoutModel",
      "state": {}
     },
     "aadbb28855504bdf954282b37bd27562": {
      "model_module": "@jupyter-widgets/controls",
      "model_module_version": "1.4.0",
      "model_name": "VBoxModel",
      "state": {
       "_dom_classes": [
        "widget-interact"
       ],
       "children": [
        "IPY_MODEL_903782d58f8d4f72acfb131b2f1ab70a",
        "IPY_MODEL_b08a5a6f1b33469e80487cc54df6f522"
       ],
       "layout": "IPY_MODEL_cd76c79aaf004164890d39aea2646f2d"
      }
     },
     "abbb55dea945428193469c57124b8cd2": {
      "model_module": "@jupyter-widgets/controls",
      "model_module_version": "1.4.0",
      "model_name": "SliderStyleModel",
      "state": {
       "description_width": ""
      }
     },
     "ae90e2b53c8047818873286516a8c63a": {
      "model_module": "@jupyter-widgets/output",
      "model_module_version": "1.0.0",
      "model_name": "OutputModel",
      "state": {
       "layout": "IPY_MODEL_21157383d9df40a9bae3e898d3d13f99"
      }
     },
     "af358bff4bab43809c8db394149dfff2": {
      "model_module": "@jupyter-widgets/controls",
      "model_module_version": "1.4.0",
      "model_name": "VBoxModel",
      "state": {
       "_dom_classes": [
        "widget-interact"
       ],
       "children": [
        "IPY_MODEL_fea4a7af337a461fb76a60ffd20ff4ec",
        "IPY_MODEL_bc1f62b06883429eab8e71666b530e9e"
       ],
       "layout": "IPY_MODEL_e596cae2e8734bdcb3ed0d868c66ef03"
      }
     },
     "afd8a967628246d19f884d50207183a0": {
      "model_module": "@jupyter-widgets/controls",
      "model_module_version": "1.4.0",
      "model_name": "VBoxModel",
      "state": {
       "_dom_classes": [
        "widget-interact"
       ],
       "children": [
        "IPY_MODEL_fabb258050974493a24d972a8cd16c2d",
        "IPY_MODEL_4f296a1d29da48eb8448f330136cf39e"
       ],
       "layout": "IPY_MODEL_b8b11af97d8c405a969cad8f251d927b"
      }
     },
     "b08a5a6f1b33469e80487cc54df6f522": {
      "model_module": "@jupyter-widgets/output",
      "model_module_version": "1.0.0",
      "model_name": "OutputModel",
      "state": {
       "layout": "IPY_MODEL_cd0cee92579a4f48bf8fc4f6ab462900"
      }
     },
     "b3db3105a642441a98a05fbcf23a7c06": {
      "model_module": "@jupyter-widgets/controls",
      "model_module_version": "1.4.0",
      "model_name": "VBoxModel",
      "state": {
       "_dom_classes": [
        "widget-interact"
       ],
       "children": [
        "IPY_MODEL_332eaae49a494986addec38ffbccb367",
        "IPY_MODEL_45bf1818868b4b158324a271bb40dd85"
       ],
       "layout": "IPY_MODEL_27699777f12f4893837c87eb3d33fac4"
      }
     },
     "b4d0850da3e644cd94b39e0bcd8dfc71": {
      "model_module": "@jupyter-widgets/controls",
      "model_module_version": "1.4.0",
      "model_name": "IntSliderModel",
      "state": {
       "description": "x",
       "layout": "IPY_MODEL_e3589c4507194e81be89606b1fab806e",
       "max": 71,
       "style": "IPY_MODEL_abbb55dea945428193469c57124b8cd2",
       "value": 71
      }
     },
     "b6f89972d11d4af3b066b52349665b12": {
      "model_module": "@jupyter-widgets/base",
      "model_module_version": "1.1.0",
      "model_name": "LayoutModel",
      "state": {}
     },
     "b8a8662e0d684a47b17677160b8ff94c": {
      "model_module": "@jupyter-widgets/controls",
      "model_module_version": "1.4.0",
      "model_name": "VBoxModel",
      "state": {
       "_dom_classes": [
        "widget-interact"
       ],
       "children": [
        "IPY_MODEL_7245662bca8541f6ae2245eed218026f",
        "IPY_MODEL_e814f5e772fc4c6e8a6560dfa6023e81"
       ],
       "layout": "IPY_MODEL_320e3183ef7d443aa09f18e63d00bac8"
      }
     },
     "b8b11af97d8c405a969cad8f251d927b": {
      "model_module": "@jupyter-widgets/base",
      "model_module_version": "1.1.0",
      "model_name": "LayoutModel",
      "state": {}
     },
     "bb31f2d45dd445209a0a94119cfb3338": {
      "model_module": "@jupyter-widgets/controls",
      "model_module_version": "1.4.0",
      "model_name": "IntSliderModel",
      "state": {
       "description": "frame",
       "layout": "IPY_MODEL_4f9be9f5de6d47ee87c7b01ce3a973ec",
       "max": 60,
       "min": -20,
       "style": "IPY_MODEL_fc26ba1f0f884119b7914a604b1e8d57",
       "value": 20
      }
     },
     "bc1f62b06883429eab8e71666b530e9e": {
      "model_module": "@jupyter-widgets/output",
      "model_module_version": "1.0.0",
      "model_name": "OutputModel",
      "state": {
       "layout": "IPY_MODEL_5e8503f1a18a4079a5ff33386d78d859"
      }
     },
     "bcd95f3fa85c4d21a3090d021929644d": {
      "model_module": "@jupyter-widgets/controls",
      "model_module_version": "1.4.0",
      "model_name": "IntSliderModel",
      "state": {
       "description": "frame",
       "layout": "IPY_MODEL_f12edfeeb4da4ca98638f3f63a00ad86",
       "max": 60,
       "min": -20,
       "style": "IPY_MODEL_fdb4a2c55b324eb4a6f086996f4fc0d1",
       "value": 20
      }
     },
     "bd4b444602d648f59af9b9e4f15d032d": {
      "model_module": "@jupyter-widgets/controls",
      "model_module_version": "1.4.0",
      "model_name": "VBoxModel",
      "state": {
       "_dom_classes": [
        "widget-interact"
       ],
       "layout": "IPY_MODEL_5e626f27d70f4132bf8e96f879bb4d66"
      }
     },
     "bd649349a0da42e497db2df421bf224f": {
      "model_module": "@jupyter-widgets/output",
      "model_module_version": "1.0.0",
      "model_name": "OutputModel",
      "state": {
       "layout": "IPY_MODEL_3fb1ca6b1a1241ab8dbf7349e1531734",
       "outputs": [
        {
         "data": {
          "image/png": "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\n",
          "text/plain": "<Figure size 432x288 with 1 Axes>"
         },
         "metadata": {
          "needs_background": "light"
         },
         "output_type": "display_data"
        }
       ]
      }
     },
     "be0e4f8b20054da7b743852248b58c67": {
      "model_module": "@jupyter-widgets/controls",
      "model_module_version": "1.4.0",
      "model_name": "VBoxModel",
      "state": {
       "_dom_classes": [
        "widget-interact"
       ],
       "children": [
        "IPY_MODEL_2806ead9c73d48d299baade5da005c8f",
        "IPY_MODEL_5950733c3fec45b4a74e4ae3edda3d40"
       ],
       "layout": "IPY_MODEL_d98fd27150214d589904877fb0b7f9e6"
      }
     },
     "c1ce88bd66a745fe8941065356f33379": {
      "model_module": "@jupyter-widgets/controls",
      "model_module_version": "1.4.0",
      "model_name": "IntSliderModel",
      "state": {
       "description": "frame",
       "layout": "IPY_MODEL_d9c3450b478940eb90090a8b6dc69d5e",
       "max": 60,
       "min": -20,
       "style": "IPY_MODEL_88f55233ef9e4e1fb12103eb8921b5b5",
       "value": 20
      }
     },
     "c2266d45f00e4164a0627bebc477f8b5": {
      "model_module": "@jupyter-widgets/base",
      "model_module_version": "1.1.0",
      "model_name": "LayoutModel",
      "state": {}
     },
     "c26d89c9ed7b4b23a666d4ea19cc2c73": {
      "model_module": "@jupyter-widgets/controls",
      "model_module_version": "1.4.0",
      "model_name": "IntSliderModel",
      "state": {
       "description": "frame",
       "layout": "IPY_MODEL_c2266d45f00e4164a0627bebc477f8b5",
       "max": 60,
       "min": -20,
       "style": "IPY_MODEL_2dcdc3d22e1b4a85b46c0d75dc462b9f",
       "value": 20
      }
     },
     "c3174fd29bd34759902398cdc45d84cc": {
      "model_module": "@jupyter-widgets/controls",
      "model_module_version": "1.4.0",
      "model_name": "SliderStyleModel",
      "state": {
       "description_width": ""
      }
     },
     "c45985ed7ac44f1a9bb82eaeb5664407": {
      "model_module": "@jupyter-widgets/base",
      "model_module_version": "1.1.0",
      "model_name": "LayoutModel",
      "state": {}
     },
     "c4e0a482911c4f5e87ea4fbf2c021108": {
      "model_module": "@jupyter-widgets/controls",
      "model_module_version": "1.4.0",
      "model_name": "VBoxModel",
      "state": {
       "_dom_classes": [
        "widget-interact"
       ],
       "children": [
        "IPY_MODEL_cf8b771b200f4f47a126e9797425e686",
        "IPY_MODEL_bd649349a0da42e497db2df421bf224f"
       ],
       "layout": "IPY_MODEL_de3041f0ffd6425dbefac30a1ba3b98b"
      }
     },
     "c7d883b4aed74b448a2aeff544b52d52": {
      "model_module": "@jupyter-widgets/controls",
      "model_module_version": "1.4.0",
      "model_name": "VBoxModel",
      "state": {
       "_dom_classes": [
        "widget-interact"
       ],
       "children": [
        "IPY_MODEL_36afaaa0e1ae4d80b9e9f2c17dafdf12",
        "IPY_MODEL_e7636fcfcadd49c9bc6d947f7cab96ab"
       ],
       "layout": "IPY_MODEL_7b4053112a2540a9901ba85a836fb0bf"
      }
     },
     "c8e122d0c10444549d6e717c5bd4992b": {
      "model_module": "@jupyter-widgets/base",
      "model_module_version": "1.1.0",
      "model_name": "LayoutModel",
      "state": {}
     },
     "cd0cee92579a4f48bf8fc4f6ab462900": {
      "model_module": "@jupyter-widgets/base",
      "model_module_version": "1.1.0",
      "model_name": "LayoutModel",
      "state": {}
     },
     "cd76c79aaf004164890d39aea2646f2d": {
      "model_module": "@jupyter-widgets/base",
      "model_module_version": "1.1.0",
      "model_name": "LayoutModel",
      "state": {}
     },
     "cd89d580c943435a8a8ab706f80fe9aa": {
      "model_module": "@jupyter-widgets/base",
      "model_module_version": "1.1.0",
      "model_name": "LayoutModel",
      "state": {}
     },
     "cdb47f9f24a1409fb1712d439438284f": {
      "model_module": "@jupyter-widgets/controls",
      "model_module_version": "1.4.0",
      "model_name": "VBoxModel",
      "state": {
       "_dom_classes": [
        "widget-interact"
       ],
       "children": [
        "IPY_MODEL_fed99a7b7db1451bab6356dc92090d0f",
        "IPY_MODEL_1410478706d1496eae0f494439134153"
       ],
       "layout": "IPY_MODEL_f071891f5317498ea1170877c73a77e0"
      }
     },
     "cf8b771b200f4f47a126e9797425e686": {
      "model_module": "@jupyter-widgets/controls",
      "model_module_version": "1.4.0",
      "model_name": "IntSliderModel",
      "state": {
       "description": "x",
       "layout": "IPY_MODEL_1f9eaff478664fb6a645b028c92f1395",
       "max": 71,
       "style": "IPY_MODEL_1f28b847667f4070839659bea3bb583e",
       "value": 71
      }
     },
     "d1932a9eff874b70be8a43de50b6e4ae": {
      "model_module": "@jupyter-widgets/controls",
      "model_module_version": "1.4.0",
      "model_name": "SliderStyleModel",
      "state": {
       "description_width": ""
      }
     },
     "d2e39803a7bc4183ab9ee5bc4c4c9480": {
      "model_module": "@jupyter-widgets/base",
      "model_module_version": "1.1.0",
      "model_name": "LayoutModel",
      "state": {}
     },
     "d3380f61536b4708bf92296959e57fd0": {
      "model_module": "@jupyter-widgets/base",
      "model_module_version": "1.1.0",
      "model_name": "LayoutModel",
      "state": {}
     },
     "d68d3c1658fa4212bfa4c8f00557b23a": {
      "model_module": "@jupyter-widgets/base",
      "model_module_version": "1.1.0",
      "model_name": "LayoutModel",
      "state": {}
     },
     "d7f4f64b4efd4829b331c33956ad47f5": {
      "model_module": "@jupyter-widgets/base",
      "model_module_version": "1.1.0",
      "model_name": "LayoutModel",
      "state": {}
     },
     "d8baccfcc2f742dc9ea80145bae70d2f": {
      "model_module": "@jupyter-widgets/base",
      "model_module_version": "1.1.0",
      "model_name": "LayoutModel",
      "state": {}
     },
     "d98fd27150214d589904877fb0b7f9e6": {
      "model_module": "@jupyter-widgets/base",
      "model_module_version": "1.1.0",
      "model_name": "LayoutModel",
      "state": {}
     },
     "d9c3450b478940eb90090a8b6dc69d5e": {
      "model_module": "@jupyter-widgets/base",
      "model_module_version": "1.1.0",
      "model_name": "LayoutModel",
      "state": {}
     },
     "d9d393703393479f805251675f855d48": {
      "model_module": "@jupyter-widgets/base",
      "model_module_version": "1.1.0",
      "model_name": "LayoutModel",
      "state": {}
     },
     "dcf9b8a9fe304f3ba31041e0bd0d7c63": {
      "model_module": "@jupyter-widgets/base",
      "model_module_version": "1.1.0",
      "model_name": "LayoutModel",
      "state": {}
     },
     "de3041f0ffd6425dbefac30a1ba3b98b": {
      "model_module": "@jupyter-widgets/base",
      "model_module_version": "1.1.0",
      "model_name": "LayoutModel",
      "state": {}
     },
     "e166fb3e85f143c0b6c6e3c4a85ed382": {
      "model_module": "@jupyter-widgets/base",
      "model_module_version": "1.1.0",
      "model_name": "LayoutModel",
      "state": {}
     },
     "e3589c4507194e81be89606b1fab806e": {
      "model_module": "@jupyter-widgets/base",
      "model_module_version": "1.1.0",
      "model_name": "LayoutModel",
      "state": {}
     },
     "e404e2e4fe6a48a59c438140e2bb5122": {
      "model_module": "@jupyter-widgets/controls",
      "model_module_version": "1.4.0",
      "model_name": "VBoxModel",
      "state": {
       "_dom_classes": [
        "widget-interact"
       ],
       "children": [
        "IPY_MODEL_a16207c526c841959e504fb08d62a8f7",
        "IPY_MODEL_1eca04d0a356435a8b4eed9ddc05a625"
       ],
       "layout": "IPY_MODEL_0985d40fa69443b5a593e3b478e890d7"
      }
     },
     "e596cae2e8734bdcb3ed0d868c66ef03": {
      "model_module": "@jupyter-widgets/base",
      "model_module_version": "1.1.0",
      "model_name": "LayoutModel",
      "state": {}
     },
     "e6593eaac36941aab63231629f1f8edd": {
      "model_module": "@jupyter-widgets/controls",
      "model_module_version": "1.4.0",
      "model_name": "VBoxModel",
      "state": {
       "_dom_classes": [
        "widget-interact"
       ],
       "children": [
        "IPY_MODEL_2f847829826044309b33f1fa02385716",
        "IPY_MODEL_ae90e2b53c8047818873286516a8c63a"
       ],
       "layout": "IPY_MODEL_2c6ca9b21f904db098842f8a37302f1d"
      }
     },
     "e69825a35a13407681c9f9bef54dd495": {
      "model_module": "@jupyter-widgets/controls",
      "model_module_version": "1.4.0",
      "model_name": "IntSliderModel",
      "state": {
       "description": "x",
       "layout": "IPY_MODEL_672dc5f998ba4626a6f874c207cfb528",
       "max": 30,
       "min": -10,
       "style": "IPY_MODEL_7f6bc58927b94299be9b140c1afdc7ba",
       "value": -10
      }
     },
     "e7583e4cea7046aeb612c73208c7c7ce": {
      "model_module": "@jupyter-widgets/controls",
      "model_module_version": "1.4.0",
      "model_name": "SliderStyleModel",
      "state": {
       "description_width": ""
      }
     },
     "e7636fcfcadd49c9bc6d947f7cab96ab": {
      "model_module": "@jupyter-widgets/output",
      "model_module_version": "1.0.0",
      "model_name": "OutputModel",
      "state": {
       "layout": "IPY_MODEL_5054ee9430be4cc9ade02f054c9fad6a",
       "outputs": [
        {
         "data": {
          "image/png": "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\n",
          "text/plain": "<Figure size 432x288 with 1 Axes>"
         },
         "metadata": {
          "needs_background": "light"
         },
         "output_type": "display_data"
        }
       ]
      }
     },
     "e7a88cc867924e158062c6e569663415": {
      "model_module": "@jupyter-widgets/controls",
      "model_module_version": "1.4.0",
      "model_name": "VBoxModel",
      "state": {
       "_dom_classes": [
        "widget-interact"
       ],
       "children": [
        "IPY_MODEL_4ccb092a09ea4639978f62b4aa7b1ea8",
        "IPY_MODEL_9f4c7fe90665478da4738a65ac146676"
       ],
       "layout": "IPY_MODEL_74bfd05db4924497ac6b9dd87e7b929d"
      }
     },
     "e814f5e772fc4c6e8a6560dfa6023e81": {
      "model_module": "@jupyter-widgets/output",
      "model_module_version": "1.0.0",
      "model_name": "OutputModel",
      "state": {
       "layout": "IPY_MODEL_2a074223e01d49c48d0eae41a7785936"
      }
     },
     "e9b22f133dc2407eacd6d3bfce3d83f2": {
      "model_module": "@jupyter-widgets/controls",
      "model_module_version": "1.4.0",
      "model_name": "VBoxModel",
      "state": {
       "_dom_classes": [
        "widget-interact"
       ],
       "children": [
        "IPY_MODEL_fec8ffab1c97481eb9ceee289accfc73",
        "IPY_MODEL_06088c98f9bf4c4f9a7e55218c9bf00f"
       ],
       "layout": "IPY_MODEL_d68d3c1658fa4212bfa4c8f00557b23a"
      }
     },
     "ecaf7e2a48744d9f941eb72bef9e6310": {
      "model_module": "@jupyter-widgets/base",
      "model_module_version": "1.1.0",
      "model_name": "LayoutModel",
      "state": {}
     },
     "f071891f5317498ea1170877c73a77e0": {
      "model_module": "@jupyter-widgets/base",
      "model_module_version": "1.1.0",
      "model_name": "LayoutModel",
      "state": {}
     },
     "f0af8e58cbe24b9b8968953594083d49": {
      "model_module": "@jupyter-widgets/base",
      "model_module_version": "1.1.0",
      "model_name": "LayoutModel",
      "state": {}
     },
     "f12edfeeb4da4ca98638f3f63a00ad86": {
      "model_module": "@jupyter-widgets/base",
      "model_module_version": "1.1.0",
      "model_name": "LayoutModel",
      "state": {}
     },
     "f2d26041f00e48dfad5e1e8334aeb24c": {
      "model_module": "@jupyter-widgets/output",
      "model_module_version": "1.0.0",
      "model_name": "OutputModel",
      "state": {
       "layout": "IPY_MODEL_11e348ddec1b459784e28aae240a422b"
      }
     },
     "f49b03ead2fb421b84e2241a83d9ed5e": {
      "model_module": "@jupyter-widgets/base",
      "model_module_version": "1.1.0",
      "model_name": "LayoutModel",
      "state": {}
     },
     "f745c647bf4347ec83f6c2f42bfddad9": {
      "model_module": "@jupyter-widgets/base",
      "model_module_version": "1.1.0",
      "model_name": "LayoutModel",
      "state": {}
     },
     "f7d6b7f7d81942909fb62b47cb77412d": {
      "model_module": "@jupyter-widgets/controls",
      "model_module_version": "1.4.0",
      "model_name": "VBoxModel",
      "state": {
       "_dom_classes": [
        "widget-interact"
       ],
       "children": [
        "IPY_MODEL_225f1168363f44358e59d671fb596ff0",
        "IPY_MODEL_13b3bf6154514eeba87c89eaa402d287"
       ],
       "layout": "IPY_MODEL_5a5042bc937b49ab954da90ac86f76a1"
      }
     },
     "f8ad1cb6a08a45d684d53d09abffc157": {
      "model_module": "@jupyter-widgets/base",
      "model_module_version": "1.1.0",
      "model_name": "LayoutModel",
      "state": {}
     },
     "f9ce947315d143a39cd9f40e592ac761": {
      "model_module": "@jupyter-widgets/controls",
      "model_module_version": "1.4.0",
      "model_name": "SliderStyleModel",
      "state": {
       "description_width": ""
      }
     },
     "fa58697ded2340b4b3a2ec3a349a1966": {
      "model_module": "@jupyter-widgets/base",
      "model_module_version": "1.1.0",
      "model_name": "LayoutModel",
      "state": {}
     },
     "fabb258050974493a24d972a8cd16c2d": {
      "model_module": "@jupyter-widgets/controls",
      "model_module_version": "1.4.0",
      "model_name": "IntSliderModel",
      "state": {
       "description": "frame",
       "layout": "IPY_MODEL_cd89d580c943435a8a8ab706f80fe9aa",
       "max": 60,
       "min": -20,
       "style": "IPY_MODEL_7378e4c4fcf442d0b46c713e730e0a14",
       "value": 20
      }
     },
     "fc26ba1f0f884119b7914a604b1e8d57": {
      "model_module": "@jupyter-widgets/controls",
      "model_module_version": "1.4.0",
      "model_name": "SliderStyleModel",
      "state": {
       "description_width": ""
      }
     },
     "fdb4a2c55b324eb4a6f086996f4fc0d1": {
      "model_module": "@jupyter-widgets/controls",
      "model_module_version": "1.4.0",
      "model_name": "SliderStyleModel",
      "state": {
       "description_width": ""
      }
     },
     "fea4a7af337a461fb76a60ffd20ff4ec": {
      "model_module": "@jupyter-widgets/controls",
      "model_module_version": "1.4.0",
      "model_name": "IntSliderModel",
      "state": {
       "description": "frame",
       "layout": "IPY_MODEL_f745c647bf4347ec83f6c2f42bfddad9",
       "max": 60,
       "min": -20,
       "style": "IPY_MODEL_283f5e44455748bc8fd030bba1f2e345",
       "value": 20
      }
     },
     "fec8ffab1c97481eb9ceee289accfc73": {
      "model_module": "@jupyter-widgets/controls",
      "model_module_version": "1.4.0",
      "model_name": "IntSliderModel",
      "state": {
       "description": "frame",
       "layout": "IPY_MODEL_5a14c142d1a14931a3807d2ab92d7dba",
       "max": 60,
       "min": -20,
       "style": "IPY_MODEL_2d2d2c5f02e746ebb24d54ad2156c234",
       "value": 20
      }
     },
     "fed99a7b7db1451bab6356dc92090d0f": {
      "model_module": "@jupyter-widgets/controls",
      "model_module_version": "1.4.0",
      "model_name": "IntSliderModel",
      "state": {
       "description": "x",
       "layout": "IPY_MODEL_9627417553064b1e9ed128e424afd5ae",
       "max": 71,
       "style": "IPY_MODEL_7ab4e6a5247241e89b2995031a0db204",
       "value": 35
      }
     }
    },
    "version_major": 2,
    "version_minor": 0
   }
  }
 },
 "nbformat": 4,
 "nbformat_minor": 4
}
